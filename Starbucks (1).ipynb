{
  "nbformat": 4,
  "nbformat_minor": 0,
  "metadata": {
    "colab": {
      "provenance": [],
      "toc_visible": true
    },
    "kernelspec": {
      "name": "python3",
      "display_name": "Python 3"
    },
    "language_info": {
      "name": "python"
    }
  },
  "cells": [
    {
      "cell_type": "markdown",
      "source": [
        "**Тема проекта: Классификация и анализ тональности отзывов посетителей сети кофеен \"Starbucks\"**\n",
        "\n",
        "Подготовили Романюков Егор и Леонович Матвей"
      ],
      "metadata": {
        "id": "6lKib_ARydff"
      }
    },
    {
      "cell_type": "markdown",
      "source": [
        "**Постановка задачи**\n",
        "\n",
        "У нас есть датасет с отзывами о кофейнях \"Starbucks\", каждый отзыв $x$ имеет признаки $(x_1, x_2, x_3, x_4, x_5, x_6)$, где $x_1$ - имя посетителя, оставившего отзыв, $x_2$ - местонахождение кофейни, $x_3$ - дата публикации отзыва, $x_4$ - оценка от 1 до 5, $x_5$ - сам отзыв, $x_6$ - приложенное к отзыву фото.\n",
        "\n",
        "Признак $x_6$ есть у очень небольшого числа объектов (отзывов), также стоит отметить, что $x_4$ может равняться \"N/A\", а $x_5$ - \"No Review Text\", это стоит учесть при построении модели, например, сразу очевидно, что если для какого-то отзыва выполнено, например, что $x_4 =$ \"N/A\" и $x_5 =$ \"No Review Text\", то мы просто не будем добавлять этот отзыв ни в обучающую выборку, ни в тестовую, поскольку на этом нельзя ни обучаться, ни проверять качество работы модели.\n",
        "\n",
        "Таким образом, мы будем по отзыву предсказывать оценку, выставленную посетителем, тем самым определяя, является отзыв позитивным, нейтральным или негативным,перед этим отбросив лишние данные."
      ],
      "metadata": {
        "id": "pGJDKu_dygXa"
      }
    },
    {
      "cell_type": "markdown",
      "source": [
        "#Датасет\n",
        "\n",
        "Выгрузим датасет, уберём ненужные нам столбцы: имя посетителя, местонахождение кофейни, дату публикации отзыва и ссылку на приложенное к отзыву фото, оставляем только сам отзыв и оценку от 1 до 5.\n"
      ],
      "metadata": {
        "id": "Qabnh3mDjIQs"
      }
    },
    {
      "cell_type": "code",
      "execution_count": 262,
      "metadata": {
        "colab": {
          "base_uri": "https://localhost:8080/"
        },
        "id": "vExLy-ZlhWnp",
        "outputId": "9582d62d-f955-46ae-f1a5-4eed9663d9d5"
      },
      "outputs": [
        {
          "output_type": "stream",
          "name": "stdout",
          "text": [
            "850\n",
            "   Rating                                             Review\n",
            "0     5.0  Amber and LaDonna at the Starbucks on Southwes...\n",
            "1     5.0  ** at the Starbucks by the fire station on 436...\n",
            "2     5.0  I just wanted to go out of my way to recognize...\n",
            "3     5.0  Me and my friend were at Starbucks and my card...\n",
            "4     5.0  I’m on this kick of drinking 5 cups of warm wa...\n"
          ]
        }
      ],
      "source": [
        "import pandas as pd\n",
        "\n",
        "data = pd.read_csv('reviews_data.csv')\n",
        "\n",
        "data.drop('name', axis=1, inplace=True)\n",
        "data.drop('location', axis=1, inplace=True)\n",
        "data.drop('Date', axis=1, inplace=True)\n",
        "data.drop('Image_Links', axis=1, inplace=True)\n",
        "\n",
        "print(len(data))\n",
        "print(data.head(5))"
      ]
    },
    {
      "cell_type": "markdown",
      "source": [
        "Удалим отзывы, где нет оценки или текста отзыва:"
      ],
      "metadata": {
        "id": "cEggoP6mkfZE"
      }
    },
    {
      "cell_type": "code",
      "source": [
        "data = data[data['Review'] != 'No Review Text']\n",
        "data_cleaned = data.dropna()\n",
        "\n",
        "print(data_cleaned)"
      ],
      "metadata": {
        "colab": {
          "base_uri": "https://localhost:8080/"
        },
        "id": "SJYrwF6ekk0F",
        "outputId": "b3591537-fdfd-4105-8bd3-ca960fc663d1"
      },
      "execution_count": 263,
      "outputs": [
        {
          "output_type": "stream",
          "name": "stdout",
          "text": [
            "     Rating                                             Review\n",
            "0       5.0  Amber and LaDonna at the Starbucks on Southwes...\n",
            "1       5.0  ** at the Starbucks by the fire station on 436...\n",
            "2       5.0  I just wanted to go out of my way to recognize...\n",
            "3       5.0  Me and my friend were at Starbucks and my card...\n",
            "4       5.0  I’m on this kick of drinking 5 cups of warm wa...\n",
            "..      ...                                                ...\n",
            "700     1.0  I ordered Via Starbucks coffee online. I recei...\n",
            "701     3.0  My name is Ric **, I am journalist by professi...\n",
            "702     1.0   The bagel was ice cold, not cut and not toasted.\n",
            "703     1.0  In the morning of Monday, August 15, 2011, at ...\n",
            "749     5.0  I found the coffee at Starbucks overrated and ...\n",
            "\n",
            "[703 rows x 2 columns]\n"
          ]
        }
      ]
    },
    {
      "cell_type": "markdown",
      "source": [
        "Получили те же 703 отзыва. Теперь разбиваем наш датасет на признаки и метки."
      ],
      "metadata": {
        "id": "r8HAFYZ4rZyR"
      }
    },
    {
      "cell_type": "code",
      "source": [
        "X = data_cleaned['Review']\n",
        "y = data_cleaned['Rating']"
      ],
      "metadata": {
        "id": "brpfSbyLsBgO"
      },
      "execution_count": 264,
      "outputs": []
    },
    {
      "cell_type": "markdown",
      "source": [
        "Сейчас нам требуется превратить тексты наших отзывов в векторы, чтобы модель могла с этим работать, этим сейчас и займёмся:"
      ],
      "metadata": {
        "id": "RqSOIpcJ1Jak"
      }
    },
    {
      "cell_type": "code",
      "source": [
        "from sklearn.feature_extraction.text import CountVectorizer\n",
        "\n",
        "vectorizer = CountVectorizer()\n",
        "\n",
        "X_bow = vectorizer.fit_transform(X)\n",
        "\n",
        "print(X_bow.shape)"
      ],
      "metadata": {
        "colab": {
          "base_uri": "https://localhost:8080/"
        },
        "id": "rcGN-Hgr1cYG",
        "outputId": "a505d8b8-969b-421f-f50e-7ac67e8965bd"
      },
      "execution_count": 265,
      "outputs": [
        {
          "output_type": "stream",
          "name": "stdout",
          "text": [
            "(703, 5509)\n"
          ]
        }
      ]
    },
    {
      "cell_type": "markdown",
      "source": [
        "Теперь разделим датасет на тренировочную и тестовую выборки:"
      ],
      "metadata": {
        "id": "_rOQFkzKsknH"
      }
    },
    {
      "cell_type": "code",
      "source": [
        "train_separator = 0.80  # percent of train tests"
      ],
      "metadata": {
        "id": "KLqZmQuKyEDU"
      },
      "execution_count": 266,
      "outputs": []
    },
    {
      "cell_type": "code",
      "source": [
        "from sklearn.model_selection import train_test_split\n",
        "X_train, X_test, y_train, y_test = train_test_split(X_bow, y, test_size=1-train_separator, random_state=27)\n",
        "print(X_train.shape, len(y_train))\n",
        "print(X_test.shape, len(y_test))"
      ],
      "metadata": {
        "colab": {
          "base_uri": "https://localhost:8080/"
        },
        "id": "eJnzYQSssqeY",
        "outputId": "83a6f899-69d1-4a0e-b8cf-3105842cf86d"
      },
      "execution_count": 267,
      "outputs": [
        {
          "output_type": "stream",
          "name": "stdout",
          "text": [
            "(562, 5509) 562\n",
            "(141, 5509) 141\n"
          ]
        }
      ]
    },
    {
      "cell_type": "markdown",
      "source": [
        "# Задача о классификации\n",
        "\n",
        "Теперь переходим к обучению, будем использовать метод опорных векторов, о котором известно, что он хорошо показывает в себя в решении задач классификации:"
      ],
      "metadata": {
        "id": "4lo9JLnszlSJ"
      }
    },
    {
      "cell_type": "code",
      "source": [
        "from sklearn import svm\n",
        "\n",
        "SVM_model = svm.SVC()\n",
        "\n",
        "SVM_model.fit(X_train, y_train)\n",
        "SVM_prediction = SVM_model.predict(X_test)"
      ],
      "metadata": {
        "id": "vFCCOrbXztpY"
      },
      "execution_count": 268,
      "outputs": []
    },
    {
      "cell_type": "markdown",
      "source": [
        "Оценим точность классификатора:"
      ],
      "metadata": {
        "id": "6mzKDEd72hs0"
      }
    },
    {
      "cell_type": "code",
      "source": [
        "from sklearn.metrics import accuracy_score\n",
        "\n",
        "print(accuracy_score(SVM_prediction, y_test))"
      ],
      "metadata": {
        "colab": {
          "base_uri": "https://localhost:8080/"
        },
        "id": "RvKOQNvR2v1H",
        "outputId": "757b9876-7d5e-43a2-cdbb-8e4283e8b171"
      },
      "execution_count": 269,
      "outputs": [
        {
          "output_type": "stream",
          "name": "stdout",
          "text": [
            "0.6524822695035462\n"
          ]
        }
      ]
    },
    {
      "cell_type": "markdown",
      "source": [
        "Accuracy получилась $\\approx$ 65%, что нас не очень устраивает.\n",
        "\n",
        "Теперь заранее обработаем текст, воспользовавшись, например, регулярками, и удалим стоп-слова."
      ],
      "metadata": {
        "id": "BlQv5VA_3hFy"
      }
    },
    {
      "cell_type": "code",
      "source": [
        "import re\n",
        "\n",
        "REPLACE_NO_SPACE = re.compile(\"(\\.)|(\\;)|(\\:)|(\\!)|(\\')|(\\?)|(\\,)|(\\\")|(\\()|(\\))|(\\[)|(\\])|(\\d+)\")\n",
        "REPLACE_WITH_SPACE = re.compile(\"(<br\\s*/><br\\s*/>)|(\\-)|(\\/)\")\n",
        "\n",
        "def preprocess_reviews(reviews):\n",
        "    reviews = [REPLACE_NO_SPACE.sub('', line.lower()) for line in reviews]\n",
        "    reviews = [REPLACE_WITH_SPACE.sub(' ', line) for line in reviews]\n",
        "    return reviews\n",
        "\n",
        "X_cleaned = preprocess_reviews(X)"
      ],
      "metadata": {
        "id": "EaMIj-hcBbED"
      },
      "execution_count": 270,
      "outputs": []
    },
    {
      "cell_type": "markdown",
      "source": [
        "Пример случайного отзыва до и после обработки:"
      ],
      "metadata": {
        "id": "VBhEc0agzy4E"
      }
    },
    {
      "cell_type": "code",
      "source": [
        "print(X[7])\n",
        "print(X_cleaned[7])"
      ],
      "metadata": {
        "colab": {
          "base_uri": "https://localhost:8080/"
        },
        "id": "TX1eb0aKBrLx",
        "outputId": "13d779c9-22ed-4ada-cc68-11e3624f1493"
      },
      "execution_count": 271,
      "outputs": [
        {
          "output_type": "stream",
          "name": "stdout",
          "text": [
            "Starbucks near me just launched new fall foods and beverages yesterday. By noon yesterday they were out of all new items. The fall launch is huge and many people look forward to it all year. Maybe if you don’t have enough product to last even a couple of days, push back the launch until you do? I was so happy to get the email that it had come out that I left work on my break to brighten my day and so very disappointed to get there at 12:30pm and find out that it was all gone. Please Starbucks, do better.\n",
            "starbucks near me just launched new fall foods and beverages yesterday by noon yesterday they were out of all new items the fall launch is huge and many people look forward to it all year maybe if you don’t have enough product to last even a couple of days push back the launch until you do i was so happy to get the email that it had come out that i left work on my break to brighten my day and so very disappointed to get there at pm and find out that it was all gone please starbucks do better\n"
          ]
        }
      ]
    },
    {
      "cell_type": "markdown",
      "source": [
        "Теперь удалим наши любимые стоп-слова:"
      ],
      "metadata": {
        "id": "gfcWWtq0CDOB"
      }
    },
    {
      "cell_type": "code",
      "source": [
        "import nltk\n",
        "from nltk.corpus import stopwords\n",
        "from nltk.tokenize import word_tokenize\n",
        "\n",
        "nltk.download('punkt')\n",
        "nltk.download('stopwords')\n",
        "stop_words = set(stopwords.words('english'))\n",
        "\n",
        "def remove_stop_words(texts):\n",
        "  cleaned_texts = []\n",
        "  for text in texts:\n",
        "    words = word_tokenize(text)\n",
        "    filtered_words = [word for word in words if word.lower() not in stop_words]\n",
        "    cleaned_texts.append(' '.join(filtered_words))\n",
        "  return cleaned_texts\n",
        "\n",
        "X_cleaned = remove_stop_words(X_cleaned)"
      ],
      "metadata": {
        "colab": {
          "base_uri": "https://localhost:8080/"
        },
        "id": "BULIsB-4CF3V",
        "outputId": "c74f4db7-1ebb-45bd-804e-0639a94179e9"
      },
      "execution_count": 272,
      "outputs": [
        {
          "output_type": "stream",
          "name": "stderr",
          "text": [
            "[nltk_data] Downloading package punkt to /root/nltk_data...\n",
            "[nltk_data]   Package punkt is already up-to-date!\n",
            "[nltk_data] Downloading package stopwords to /root/nltk_data...\n",
            "[nltk_data]   Package stopwords is already up-to-date!\n"
          ]
        }
      ]
    },
    {
      "cell_type": "markdown",
      "source": [
        "Повторим векторизацию и обучение."
      ],
      "metadata": {
        "id": "hoSBQSCi1tsH"
      }
    },
    {
      "cell_type": "code",
      "source": [
        "vectorizer = CountVectorizer()\n",
        "X_bow = vectorizer.fit_transform(X_cleaned)\n",
        "\n",
        "X_train, X_test, y_train, y_test = train_test_split(X_bow, y, test_size=1-train_separator, random_state=27)\n",
        "\n",
        "SVM_model = svm.SVC()\n",
        "SVM_model.fit(X_train, y_train)\n",
        "SVM_prediction = SVM_model.predict(X_test)\n",
        "\n",
        "print(accuracy_score(SVM_prediction, y_test))"
      ],
      "metadata": {
        "colab": {
          "base_uri": "https://localhost:8080/"
        },
        "id": "UtNPWy_Z1tad",
        "outputId": "c4d6c585-0edf-435a-b510-5f87abf59e37"
      },
      "execution_count": 273,
      "outputs": [
        {
          "output_type": "stream",
          "name": "stdout",
          "text": [
            "0.6737588652482269\n"
          ]
        }
      ]
    },
    {
      "cell_type": "markdown",
      "source": [
        "Теперь попробуем какой-нибудь другой метод векторизации, например, TF-IDF."
      ],
      "metadata": {
        "id": "Yc6GGvWDD_6Y"
      }
    },
    {
      "cell_type": "code",
      "source": [
        "from sklearn.feature_extraction.text import TfidfVectorizer\n",
        "\n",
        "X = X_cleaned  # старый X нам больше не понадобится\n",
        "\n",
        "vectorizer = TfidfVectorizer()\n",
        "X_mtrx = vectorizer.fit_transform(X)\n",
        "\n",
        "print(X_mtrx.shape)"
      ],
      "metadata": {
        "colab": {
          "base_uri": "https://localhost:8080/"
        },
        "id": "glAGvv33Erld",
        "outputId": "b6630314-19d8-4f97-e9e4-e5eaa230c06a"
      },
      "execution_count": 274,
      "outputs": [
        {
          "output_type": "stream",
          "name": "stdout",
          "text": [
            "(703, 5188)\n"
          ]
        }
      ]
    },
    {
      "cell_type": "markdown",
      "source": [
        "Теперь поделим датасет на выборки train и test:"
      ],
      "metadata": {
        "id": "Q1vjZGIPFMB2"
      }
    },
    {
      "cell_type": "code",
      "source": [
        "from sklearn.model_selection import train_test_split\n",
        "\n",
        "X_train, X_test, y_train, y_test = train_test_split(X_mtrx, y, test_size=1-train_separator, random_state=27)\n",
        "\n",
        "print(X_train.shape, len(y_train))\n",
        "print(X_test.shape, len(y_test))"
      ],
      "metadata": {
        "colab": {
          "base_uri": "https://localhost:8080/"
        },
        "id": "xDIPMF3YFRfo",
        "outputId": "df5b289a-703a-45fe-bc50-5eccb8f3c1eb"
      },
      "execution_count": 275,
      "outputs": [
        {
          "output_type": "stream",
          "name": "stdout",
          "text": [
            "(562, 5188) 562\n",
            "(141, 5188) 141\n"
          ]
        }
      ]
    },
    {
      "cell_type": "markdown",
      "source": [
        "Для обучения воспользуемся методом KNN:"
      ],
      "metadata": {
        "id": "V9egmvr7Fk-E"
      }
    },
    {
      "cell_type": "code",
      "source": [
        "from sklearn.neighbors import KNeighborsClassifier\n",
        "\n",
        "KNN_model = KNeighborsClassifier(n_neighbors=5)\n",
        "KNN_model.fit(X_train, y_train)\n",
        "\n",
        "KNN_prediction = KNN_model.predict(X_test)\n",
        "print(accuracy_score(KNN_prediction, y_test))"
      ],
      "metadata": {
        "id": "VA0CxZ1DG-Hj",
        "colab": {
          "base_uri": "https://localhost:8080/"
        },
        "outputId": "4f1926b5-9b7f-4858-fe49-69c53e598db7"
      },
      "execution_count": 276,
      "outputs": [
        {
          "output_type": "stream",
          "name": "stdout",
          "text": [
            "0.6808510638297872\n"
          ]
        }
      ]
    },
    {
      "cell_type": "code",
      "source": [
        "print(KNN_prediction)"
      ],
      "metadata": {
        "colab": {
          "base_uri": "https://localhost:8080/"
        },
        "id": "Wp6IYGDFHlnt",
        "outputId": "7460b1ad-f210-4e70-d578-075f50e41c08"
      },
      "execution_count": 277,
      "outputs": [
        {
          "output_type": "stream",
          "name": "stdout",
          "text": [
            "[2. 1. 1. 4. 2. 2. 1. 1. 1. 1. 1. 1. 1. 5. 1. 1. 4. 5. 1. 1. 1. 1. 1. 1.\n",
            " 1. 1. 1. 1. 1. 4. 1. 1. 1. 1. 1. 1. 1. 1. 1. 2. 1. 3. 1. 1. 1. 1. 1. 1.\n",
            " 1. 1. 5. 1. 1. 1. 1. 1. 1. 1. 4. 1. 1. 1. 1. 5. 1. 1. 1. 1. 2. 1. 1. 1.\n",
            " 1. 1. 1. 1. 1. 1. 1. 2. 1. 5. 1. 2. 1. 4. 1. 1. 1. 1. 1. 1. 1. 1. 5. 1.\n",
            " 1. 5. 1. 1. 5. 5. 1. 1. 4. 1. 1. 1. 1. 1. 1. 1. 1. 1. 1. 1. 1. 1. 1. 1.\n",
            " 1. 1. 1. 1. 1. 1. 1. 1. 5. 1. 1. 5. 1. 1. 1. 1. 1. 1. 1. 1. 1.]\n"
          ]
        }
      ]
    },
    {
      "cell_type": "markdown",
      "source": [
        "Теперь попробуем LinearSVC для обучения"
      ],
      "metadata": {
        "id": "pr7ifFL2Hslg"
      }
    },
    {
      "cell_type": "code",
      "source": [
        "from sklearn.svm import LinearSVC\n",
        "\n",
        "SVC_model = LinearSVC(dual='auto')\n",
        "SVC_model.fit(X_train, y_train)\n",
        "SVC_prediction = SVC_model.predict(X_test)\n",
        "print(accuracy_score(SVC_prediction, y_test))"
      ],
      "metadata": {
        "id": "-6rgh53sH3U9",
        "colab": {
          "base_uri": "https://localhost:8080/"
        },
        "outputId": "80fe2816-35b4-4b81-a509-d2f23a95617f"
      },
      "execution_count": 278,
      "outputs": [
        {
          "output_type": "stream",
          "name": "stdout",
          "text": [
            "0.723404255319149\n"
          ]
        }
      ]
    },
    {
      "cell_type": "markdown",
      "source": [
        "И LogisticRegression"
      ],
      "metadata": {
        "id": "UJZYGOfaKAQf"
      }
    },
    {
      "cell_type": "code",
      "source": [
        "from sklearn.linear_model import LogisticRegression\n",
        "\n",
        "model_lr = LogisticRegression(max_iter=200)\n",
        "model_lr.fit(X_train, y_train)\n",
        "lr_prediction = model_lr.predict(X_test)\n",
        "print(accuracy_score(lr_prediction, y_test))"
      ],
      "metadata": {
        "id": "AT5Pybk0KBef",
        "colab": {
          "base_uri": "https://localhost:8080/"
        },
        "outputId": "720c46a5-9afa-47a5-af50-5096e744d059"
      },
      "execution_count": 279,
      "outputs": [
        {
          "output_type": "stream",
          "name": "stdout",
          "text": [
            "0.6524822695035462\n"
          ]
        }
      ]
    },
    {
      "cell_type": "markdown",
      "source": [
        "**ФИКСИРУЕМ**\n",
        "\n",
        "1. Предобработка текста позволила нам незначительно улучшить результат модели\n",
        "2. Лучший результат около 72% выдали методы KNN и LinearSVC\n",
        "\n",
        "Но мы хотим лучше"
      ],
      "metadata": {
        "id": "H39lD1k1KlsO"
      }
    },
    {
      "cell_type": "markdown",
      "source": [
        "## *bonus*\n",
        "\n",
        "*bonus* - попробуем разные соотношения train и test тестов"
      ],
      "metadata": {
        "id": "7ugVCmykCyrF"
      }
    },
    {
      "cell_type": "code",
      "source": [
        "import matplotlib.pyplot as plt\n",
        "\n",
        "x_plot = []\n",
        "y_plot = []\n",
        "maxers = [0, 0]\n",
        "save = [0, 0]\n",
        "\n",
        "for train_sep in range(1, 100):\n",
        "\n",
        "  t_s = train_sep / 100\n",
        "  X_train, X_test, y_train, y_test = train_test_split(X_mtrx, y, test_size=1-t_s, random_state=27)\n",
        "  KNN_model = KNeighborsClassifier(n_neighbors=5)\n",
        "  KNN_model.fit(X_train, y_train)\n",
        "  KNN_prediction = KNN_model.predict(X_test)\n",
        "\n",
        "  x_plot.append(t_s)\n",
        "  y_plot.append(accuracy_score(KNN_prediction, y_test))\n",
        "  if accuracy_score(KNN_prediction, y_test) > maxers[1]:\n",
        "    maxers = [t_s, accuracy_score(KNN_prediction, y_test)]\n",
        "\n",
        "\n",
        "plt.plot(x_plot, y_plot, color='pink', label='метод 1')\n",
        "save = maxers\n",
        "plt.xlabel('Процент тестов для train от всех тестов')\n",
        "plt.ylabel('Accuracy')\n",
        "\n",
        "####\n",
        "####\n",
        "####\n",
        "\n",
        "x_plot = []\n",
        "y_plot = []\n",
        "maxers = [0, 0]\n",
        "for train_sep in range(1, 100):\n",
        "\n",
        "  t_s = train_sep / 100\n",
        "  X_train, X_test, y_train, y_test = train_test_split(X_mtrx, y, test_size=1-t_s, random_state=27)\n",
        "  SVC_model = LinearSVC(dual='auto')\n",
        "  SVC_model.fit(X_train, y_train)\n",
        "  SVC_prediction = SVC_model.predict(X_test)\n",
        "\n",
        "  x_plot.append(t_s)\n",
        "  y_plot.append(accuracy_score(SVC_prediction, y_test))\n",
        "  if accuracy_score(SVC_prediction, y_test) > maxers[1]:\n",
        "    maxers = [t_s, accuracy_score(SVC_prediction, y_test)]\n",
        "\n",
        "plt.plot(x_plot, y_plot, color='green', label='метод 2')\n",
        "plt.plot([save[0]], [save[1]], color='pink', marker='o', markersize=7)\n",
        "plt.plot([maxers[0]], [maxers[1]], color='green', marker='o', markersize=7)\n",
        "plt.legend(labels=['метод 1', \"метод 2\"])\n",
        "plt.show()"
      ],
      "metadata": {
        "colab": {
          "base_uri": "https://localhost:8080/",
          "height": 449
        },
        "id": "vNBqyoabGVnl",
        "outputId": "9f12c5a3-377f-4516-e700-f064a7813b78"
      },
      "execution_count": 280,
      "outputs": [
        {
          "output_type": "display_data",
          "data": {
            "text/plain": [
              "<Figure size 640x480 with 1 Axes>"
            ],
            "image/png": "[encoded data removed]"
          },
          "metadata": {}
        }
      ]
    },
    {
      "cell_type": "markdown",
      "source": [
        "Из интересных наблюдений:\n",
        "\n",
        "1. База - нейросеть плохо учится, когда сильный перекос и тестов слишком много либо слишком мало\n",
        "2. Лучшие показания зависят от использованных методов - разные методы дали разные пики."
      ],
      "metadata": {
        "id": "ylPn-bHjMkgY"
      }
    },
    {
      "cell_type": "markdown",
      "source": [
        "Выводы? Давайте не мучать нейронку, она и так устала. А 80% - это золотой стандарт, вряд ли игра стоит свеч, и другой процент нам сильно лучше не сделает. Хотя возможно с этим тоже можно играться..."
      ],
      "metadata": {
        "id": "f6tXgTBeF6d2"
      }
    },
    {
      "cell_type": "markdown",
      "source": [
        "# Бинарная классификация\n",
        "\n",
        "Упростим себе задачу, сведём её к бинарной классификации: будем по отзыву предсказывать, является он позитивным или негативным.\n",
        "\n",
        "Пусть оценки 4 и 5 соответствуют позитивным отзывам, оценки ниже 4 соответствуют негативным отзывам.\n",
        "\n",
        "1 будет означать, что отзыв pos, 0 будет означать, что отзыв neg."
      ],
      "metadata": {
        "id": "tOTSzhRr7c-U"
      }
    },
    {
      "cell_type": "code",
      "source": [
        "data_cleaned.loc[data_cleaned['Rating'] <= 3, 'Rating'] = 0\n",
        "data_cleaned.loc[data_cleaned['Rating'] >= 4, 'Rating'] = 1"
      ],
      "metadata": {
        "id": "Rr5Fxazs8Kx2"
      },
      "execution_count": 281,
      "outputs": []
    },
    {
      "cell_type": "code",
      "source": [
        "X = data_cleaned['Review']\n",
        "y = data_cleaned['Rating']\n",
        "X = preprocess_reviews(X)\n",
        "X = remove_stop_words(X)"
      ],
      "metadata": {
        "id": "vYV2UJ1J-4th"
      },
      "execution_count": 282,
      "outputs": []
    },
    {
      "cell_type": "markdown",
      "source": [
        "Для векторизации используем IF-TDF"
      ],
      "metadata": {
        "id": "fQUiKkRq_MNT"
      }
    },
    {
      "cell_type": "code",
      "source": [
        "from sklearn.feature_extraction.text import TfidfVectorizer\n",
        "\n",
        "vectorizer = TfidfVectorizer()\n",
        "X_mtrx = vectorizer.fit_transform(X)\n",
        "\n",
        "from sklearn.model_selection import train_test_split\n",
        "X_train_bin, X_test_bin, y_train_bin, y_test_bin = train_test_split(X_mtrx, y, test_size=1-train_separator, random_state=27)"
      ],
      "metadata": {
        "id": "ZQLEdfVr_PsR"
      },
      "execution_count": 283,
      "outputs": []
    },
    {
      "cell_type": "markdown",
      "source": [
        "Рассмотрим точность трёх разных методов"
      ],
      "metadata": {
        "id": "Y8Po_K4PACgs"
      }
    },
    {
      "cell_type": "code",
      "source": [
        "from sklearn import svm\n",
        "\n",
        "SVM_model = svm.SVC()\n",
        "SVM_model.fit(X_train_bin, y_train_bin)\n",
        "SVM_prediction = SVM_model.predict(X_test_bin)\n",
        "\n",
        "from sklearn.metrics import accuracy_score\n",
        "\n",
        "print(accuracy_score(SVM_prediction, y_test_bin))"
      ],
      "metadata": {
        "colab": {
          "base_uri": "https://localhost:8080/"
        },
        "id": "Tkrz7mTS_9HQ",
        "outputId": "9ab914af-f199-4d75-c6a5-118ad5e16adb"
      },
      "execution_count": 284,
      "outputs": [
        {
          "output_type": "stream",
          "name": "stdout",
          "text": [
            "0.8226950354609929\n"
          ]
        }
      ]
    },
    {
      "cell_type": "code",
      "source": [
        "from sklearn.naive_bayes import GaussianNB\n",
        "\n",
        "NB_model = GaussianNB()\n",
        "NB_model.fit(X_train_bin.toarray(), y_train_bin)\n",
        "NB_prediction = NB_model.predict(X_test_bin.toarray())\n",
        "print(accuracy_score(NB_prediction, y_test_bin))"
      ],
      "metadata": {
        "colab": {
          "base_uri": "https://localhost:8080/"
        },
        "id": "uHBQu1U1AI3Y",
        "outputId": "7761a9eb-d008-4b41-c5b3-b69843c28bb6"
      },
      "execution_count": 285,
      "outputs": [
        {
          "output_type": "stream",
          "name": "stdout",
          "text": [
            "0.8085106382978723\n"
          ]
        }
      ]
    },
    {
      "cell_type": "code",
      "source": [
        "from sklearn.neighbors import KNeighborsClassifier\n",
        "\n",
        "KNN_model = KNeighborsClassifier(n_neighbors=5)\n",
        "KNN_model.fit(X_train_bin, y_train_bin)\n",
        "KNN_prediction = KNN_model.predict(X_test_bin)\n",
        "print(accuracy_score(KNN_prediction, y_test_bin))"
      ],
      "metadata": {
        "colab": {
          "base_uri": "https://localhost:8080/"
        },
        "id": "vyRxjz8MAKM1",
        "outputId": "0ead9b54-d8a4-443b-db08-aa3b81b54623"
      },
      "execution_count": 286,
      "outputs": [
        {
          "output_type": "stream",
          "name": "stdout",
          "text": [
            "0.8581560283687943\n"
          ]
        }
      ]
    },
    {
      "cell_type": "markdown",
      "source": [
        "**ФИКСИРУЕМ**\n",
        "\n",
        "Как ни удивительно, задача бинарной классификации решается проще, добили точность до 85%"
      ],
      "metadata": {
        "id": "I4RimTqEAe8j"
      }
    }
  ]
}