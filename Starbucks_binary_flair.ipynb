{
  "nbformat": 4,
  "nbformat_minor": 0,
  "metadata": {
    "colab": {
      "provenance": [],
      "toc_visible": true
    },
    "kernelspec": {
      "name": "python3",
      "display_name": "Python 3"
    },
    "language_info": {
      "name": "python"
    }
  },
  "cells": [
    {
      "cell_type": "markdown",
      "source": [
        "# Flair\n",
        "\n",
        "В этой части будем решать ту же задачу с тем же датасетом, но теперь попробуем использовать nlp фрейм-ворк flair, который как раз создан для работы с текстами. Установим его:"
      ],
      "metadata": {
        "id": "x1_EoDTfOqef"
      }
    },
    {
      "cell_type": "code",
      "execution_count": null,
      "metadata": {
        "colab": {
          "base_uri": "https://localhost:8080/"
        },
        "id": "Q4zu0fuZtYQ5",
        "outputId": "94cbd0cb-dea3-44e1-a9df-8715617d1866"
      },
      "outputs": [
        {
          "output_type": "stream",
          "name": "stdout",
          "text": [
            "\u001b[?25l     \u001b[90m━━━━━━━━━━━━━━━━━━━━━━━━━━━━━━━━━━━━━━━━\u001b[0m \u001b[32m0.0/981.5 kB\u001b[0m \u001b[31m?\u001b[0m eta \u001b[36m-:--:--\u001b[0m\r\u001b[2K     \u001b[91m━━━━━━━━━━━━━━━━━━━━━━━━━━━━━━━━━━━━━━━\u001b[0m\u001b[91m╸\u001b[0m \u001b[32m972.8/981.5 kB\u001b[0m \u001b[31m54.7 MB/s\u001b[0m eta \u001b[36m0:00:01\u001b[0m\r\u001b[2K     \u001b[90m━━━━━━━━━━━━━━━━━━━━━━━━━━━━━━━━━━━━━━━━\u001b[0m \u001b[32m981.5/981.5 kB\u001b[0m \u001b[31m25.6 MB/s\u001b[0m eta \u001b[36m0:00:00\u001b[0m\n",
            "\u001b[?25h  Preparing metadata (setup.py) ... \u001b[?25l\u001b[?25hdone\n",
            "  Preparing metadata (setup.py) ... \u001b[?25l\u001b[?25hdone\n",
            "  Preparing metadata (setup.py) ... \u001b[?25l\u001b[?25hdone\n",
            "  Preparing metadata (setup.py) ... \u001b[?25l\u001b[?25hdone\n",
            "  Preparing metadata (setup.py) ... \u001b[?25l\u001b[?25hdone\n",
            "\u001b[2K   \u001b[90m━━━━━━━━━━━━━━━━━━━━━━━━━━━━━━━━━━━━━━━━\u001b[0m \u001b[32m776.5/776.5 kB\u001b[0m \u001b[31m3.8 MB/s\u001b[0m eta \u001b[36m0:00:00\u001b[0m\n",
            "\u001b[2K   \u001b[90m━━━━━━━━━━━━━━━━━━━━━━━━━━━━━━━━━━━━━━━━\u001b[0m \u001b[32m139.2/139.2 kB\u001b[0m \u001b[31m6.2 MB/s\u001b[0m eta \u001b[36m0:00:00\u001b[0m\n",
            "\u001b[2K   \u001b[90m━━━━━━━━━━━━━━━━━━━━━━━━━━━━━━━━━━━━━━━━\u001b[0m \u001b[32m43.0/43.0 kB\u001b[0m \u001b[31m1.8 MB/s\u001b[0m eta \u001b[36m0:00:00\u001b[0m\n",
            "\u001b[2K   \u001b[90m━━━━━━━━━━━━━━━━━━━━━━━━━━━━━━━━━━━━━━━━\u001b[0m \u001b[32m202.6/202.6 kB\u001b[0m \u001b[31m11.6 MB/s\u001b[0m eta \u001b[36m0:00:00\u001b[0m\n",
            "\u001b[2K   \u001b[90m━━━━━━━━━━━━━━━━━━━━━━━━━━━━━━━━━━━━━━━━\u001b[0m \u001b[32m12.5/12.5 MB\u001b[0m \u001b[31m52.2 MB/s\u001b[0m eta \u001b[36m0:00:00\u001b[0m\n",
            "\u001b[2K   \u001b[90m━━━━━━━━━━━━━━━━━━━━━━━━━━━━━━━━━━━━━━━━\u001b[0m \u001b[32m82.7/82.7 kB\u001b[0m \u001b[31m4.2 MB/s\u001b[0m eta \u001b[36m0:00:00\u001b[0m\n",
            "\u001b[?25h  Building wheel for langdetect (setup.py) ... \u001b[?25l\u001b[?25hdone\n",
            "  Building wheel for pptree (setup.py) ... \u001b[?25l\u001b[?25hdone\n",
            "  Building wheel for sqlitedict (setup.py) ... \u001b[?25l\u001b[?25hdone\n",
            "  Building wheel for docopt (setup.py) ... \u001b[?25l\u001b[?25hdone\n",
            "  Building wheel for intervaltree (setup.py) ... \u001b[?25l\u001b[?25hdone\n"
          ]
        }
      ],
      "source": [
        "!pip install flair -q"
      ]
    },
    {
      "cell_type": "markdown",
      "source": [
        "Подключимся к гугл-диску:"
      ],
      "metadata": {
        "id": "6TX9ontTO4QP"
      }
    },
    {
      "cell_type": "code",
      "source": [
        "from google.colab import drive\n",
        "drive.mount('/content/drive')"
      ],
      "metadata": {
        "colab": {
          "base_uri": "https://localhost:8080/"
        },
        "id": "fKhgfdzSvb-p",
        "outputId": "875053f4-b1f2-4f78-9bfa-52057265047b"
      },
      "execution_count": null,
      "outputs": [
        {
          "output_type": "stream",
          "name": "stdout",
          "text": [
            "Mounted at /content/drive\n"
          ]
        }
      ]
    },
    {
      "cell_type": "markdown",
      "source": [
        "Импортируем стандартно пандас и нестандартно всё, что нам надо из flair:"
      ],
      "metadata": {
        "id": "lLf1QfY6O8KR"
      }
    },
    {
      "cell_type": "code",
      "source": [
        "import pandas as pd\n",
        "\n",
        "from flair.data import Corpus\n",
        "from flair.datasets import ClassificationCorpus\n",
        "from flair.embeddings import BytePairEmbeddings\n",
        "from flair.embeddings import DocumentPoolEmbeddings\n",
        "from flair.models import TextClassifier\n",
        "from flair.trainers import ModelTrainer\n",
        "from flair.visual.training_curves import Plotter\n",
        "from flair.data import Sentence"
      ],
      "metadata": {
        "id": "VWey9MBHv09k"
      },
      "execution_count": null,
      "outputs": []
    },
    {
      "cell_type": "markdown",
      "source": [
        "Создаём директорию для хранения всех нужных файлов:"
      ],
      "metadata": {
        "id": "A4AznBnrPDBg"
      }
    },
    {
      "cell_type": "code",
      "source": [
        "import os\n",
        "\n",
        "directory = '/content/drive/My Drive/colab_data/flair'\n",
        "\n",
        "if not os.path.exists(directory):\n",
        "  os.makedirs(directory)"
      ],
      "metadata": {
        "id": "wuo4uj7Fzqgu"
      },
      "execution_count": null,
      "outputs": []
    },
    {
      "cell_type": "markdown",
      "source": [
        "Считываем датасет:"
      ],
      "metadata": {
        "id": "u8eBrxYHPH0x"
      }
    },
    {
      "cell_type": "code",
      "source": [
        "data = pd.read_csv('/content/drive/My Drive/colab_data/flair/reviews_data.csv')"
      ],
      "metadata": {
        "id": "vVQf21NT0Stk"
      },
      "execution_count": null,
      "outputs": []
    },
    {
      "cell_type": "markdown",
      "source": [
        "Чистим, оставляем только самое нужное:"
      ],
      "metadata": {
        "id": "y68uKXX_PJzh"
      }
    },
    {
      "cell_type": "code",
      "source": [
        "data.drop('name', axis=1, inplace=True)\n",
        "data.drop('location', axis=1, inplace=True)\n",
        "data.drop('Date', axis=1, inplace=True)\n",
        "data.drop('Image_Links', axis=1, inplace=True)\n",
        "\n",
        "data = data[data['Review'] != 'No Review Text']\n",
        "data_cleaned = data.dropna()\n",
        "\n",
        "data_cleaned.loc[data_cleaned['Rating'] <= 3, 'Rating'] = -1\n",
        "data_cleaned.loc[data_cleaned['Rating'] >= 4, 'Rating'] = 1\n",
        "data_cleaned.loc[data_cleaned['Rating'] == -1, 'Rating'] = 0"
      ],
      "metadata": {
        "id": "R78sB8ma2AKJ"
      },
      "execution_count": null,
      "outputs": []
    },
    {
      "cell_type": "markdown",
      "source": [
        "Приводим все слова к нижнему регистру, убираем лишний мусор:"
      ],
      "metadata": {
        "id": "bmgjAPYRPOuq"
      }
    },
    {
      "cell_type": "code",
      "source": [
        "data_cleaned.Review = data_cleaned.Review.str.lower()\n",
        "data_cleaned.Review = data_cleaned.Review.str.replace('[^a-z]+', ' ')\n",
        "data_cleaned.Review = data_cleaned.Review.str.replace(' +', ' ')\n",
        "data_cleaned.Review = data_cleaned.Review.str.strip()"
      ],
      "metadata": {
        "colab": {
          "base_uri": "https://localhost:8080/"
        },
        "id": "C2fb0dvM2U94",
        "outputId": "9cecb503-1eb9-43f3-b8e4-2d8c802e51cc"
      },
      "execution_count": null,
      "outputs": [
        {
          "output_type": "stream",
          "name": "stderr",
          "text": [
            "<ipython-input-10-6103e047e0a7>:1: SettingWithCopyWarning: \n",
            "A value is trying to be set on a copy of a slice from a DataFrame.\n",
            "Try using .loc[row_indexer,col_indexer] = value instead\n",
            "\n",
            "See the caveats in the documentation: https://pandas.pydata.org/pandas-docs/stable/user_guide/indexing.html#returning-a-view-versus-a-copy\n",
            "  data_cleaned.Review = data_cleaned.Review.str.lower()\n",
            "<ipython-input-10-6103e047e0a7>:2: SettingWithCopyWarning: \n",
            "A value is trying to be set on a copy of a slice from a DataFrame.\n",
            "Try using .loc[row_indexer,col_indexer] = value instead\n",
            "\n",
            "See the caveats in the documentation: https://pandas.pydata.org/pandas-docs/stable/user_guide/indexing.html#returning-a-view-versus-a-copy\n",
            "  data_cleaned.Review = data_cleaned.Review.str.replace('[^a-z]+', ' ')\n",
            "<ipython-input-10-6103e047e0a7>:3: SettingWithCopyWarning: \n",
            "A value is trying to be set on a copy of a slice from a DataFrame.\n",
            "Try using .loc[row_indexer,col_indexer] = value instead\n",
            "\n",
            "See the caveats in the documentation: https://pandas.pydata.org/pandas-docs/stable/user_guide/indexing.html#returning-a-view-versus-a-copy\n",
            "  data_cleaned.Review = data_cleaned.Review.str.replace(' +', ' ')\n",
            "<ipython-input-10-6103e047e0a7>:4: SettingWithCopyWarning: \n",
            "A value is trying to be set on a copy of a slice from a DataFrame.\n",
            "Try using .loc[row_indexer,col_indexer] = value instead\n",
            "\n",
            "See the caveats in the documentation: https://pandas.pydata.org/pandas-docs/stable/user_guide/indexing.html#returning-a-view-versus-a-copy\n",
            "  data_cleaned.Review = data_cleaned.Review.str.strip()\n"
          ]
        }
      ]
    },
    {
      "cell_type": "code",
      "source": [
        "data_cleaned.Rating = '__label__' + data_cleaned.Rating.apply(str)"
      ],
      "metadata": {
        "colab": {
          "base_uri": "https://localhost:8080/"
        },
        "id": "uKx0ze374QkJ",
        "outputId": "90a522e5-dfc9-487d-95f2-4034cfb7e417"
      },
      "execution_count": null,
      "outputs": [
        {
          "output_type": "stream",
          "name": "stderr",
          "text": [
            "<ipython-input-11-76bd6ab12292>:1: SettingWithCopyWarning: \n",
            "A value is trying to be set on a copy of a slice from a DataFrame.\n",
            "Try using .loc[row_indexer,col_indexer] = value instead\n",
            "\n",
            "See the caveats in the documentation: https://pandas.pydata.org/pandas-docs/stable/user_guide/indexing.html#returning-a-view-versus-a-copy\n",
            "  data_cleaned.Rating = '__label__' + data_cleaned.Rating.apply(str)\n"
          ]
        }
      ]
    },
    {
      "cell_type": "markdown",
      "source": [
        "Посмотрим на то, что получилось:"
      ],
      "metadata": {
        "id": "UoZyz4CQPXiz"
      }
    },
    {
      "cell_type": "code",
      "source": [
        "data_cleaned.head()"
      ],
      "metadata": {
        "colab": {
          "base_uri": "https://localhost:8080/",
          "height": 204
        },
        "id": "Ig0zZJpE4S6f",
        "outputId": "06ff8acf-06ba-42e8-eca7-87690227094e"
      },
      "execution_count": null,
      "outputs": [
        {
          "output_type": "execute_result",
          "data": {
            "text/plain": [
              "         Rating                                             Review\n",
              "0  __label__1.0  amber and ladonna at the starbucks on southwes...\n",
              "1  __label__1.0  ** at the starbucks by the fire station on 436...\n",
              "2  __label__1.0  i just wanted to go out of my way to recognize...\n",
              "3  __label__1.0  me and my friend were at starbucks and my card...\n",
              "4  __label__1.0  i’m on this kick of drinking 5 cups of warm wa..."
            ],
            "text/html": [
              "\n",
              "  <div id=\"df-b618236a-5937-44c1-be61-c6dd06d57d2b\" class=\"colab-df-container\">\n",
              "    <div>\n",
              "<style scoped>\n",
              "    .dataframe tbody tr th:only-of-type {\n",
              "        vertical-align: middle;\n",
              "    }\n",
              "\n",
              "    .dataframe tbody tr th {\n",
              "        vertical-align: top;\n",
              "    }\n",
              "\n",
              "    .dataframe thead th {\n",
              "        text-align: right;\n",
              "    }\n",
              "</style>\n",
              "<table border=\"1\" class=\"dataframe\">\n",
              "  <thead>\n",
              "    <tr style=\"text-align: right;\">\n",
              "      <th></th>\n",
              "      <th>Rating</th>\n",
              "      <th>Review</th>\n",
              "    </tr>\n",
              "  </thead>\n",
              "  <tbody>\n",
              "    <tr>\n",
              "      <th>0</th>\n",
              "      <td>__label__1.0</td>\n",
              "      <td>amber and ladonna at the starbucks on southwes...</td>\n",
              "    </tr>\n",
              "    <tr>\n",
              "      <th>1</th>\n",
              "      <td>__label__1.0</td>\n",
              "      <td>** at the starbucks by the fire station on 436...</td>\n",
              "    </tr>\n",
              "    <tr>\n",
              "      <th>2</th>\n",
              "      <td>__label__1.0</td>\n",
              "      <td>i just wanted to go out of my way to recognize...</td>\n",
              "    </tr>\n",
              "    <tr>\n",
              "      <th>3</th>\n",
              "      <td>__label__1.0</td>\n",
              "      <td>me and my friend were at starbucks and my card...</td>\n",
              "    </tr>\n",
              "    <tr>\n",
              "      <th>4</th>\n",
              "      <td>__label__1.0</td>\n",
              "      <td>i’m on this kick of drinking 5 cups of warm wa...</td>\n",
              "    </tr>\n",
              "  </tbody>\n",
              "</table>\n",
              "</div>\n",
              "    <div class=\"colab-df-buttons\">\n",
              "\n",
              "  <div class=\"colab-df-container\">\n",
              "    <button class=\"colab-df-convert\" onclick=\"convertToInteractive('df-b618236a-5937-44c1-be61-c6dd06d57d2b')\"\n",
              "            title=\"Convert this dataframe to an interactive table.\"\n",
              "            style=\"display:none;\">\n",
              "\n",
              "  <svg xmlns=\"http://www.w3.org/2000/svg\" height=\"24px\" viewBox=\"0 -960 960 960\">\n",
              "    <path d=\"M120-120v-720h720v720H120Zm60-500h600v-160H180v160Zm220 220h160v-160H400v160Zm0 220h160v-160H400v160ZM180-400h160v-160H180v160Zm440 0h160v-160H620v160ZM180-180h160v-160H180v160Zm440 0h160v-160H620v160Z\"/>\n",
              "  </svg>\n",
              "    </button>\n",
              "\n",
              "  <style>\n",
              "    .colab-df-container {\n",
              "      display:flex;\n",
              "      gap: 12px;\n",
              "    }\n",
              "\n",
              "    .colab-df-convert {\n",
              "      background-color: #E8F0FE;\n",
              "      border: none;\n",
              "      border-radius: 50%;\n",
              "      cursor: pointer;\n",
              "      display: none;\n",
              "      fill: #1967D2;\n",
              "      height: 32px;\n",
              "      padding: 0 0 0 0;\n",
              "      width: 32px;\n",
              "    }\n",
              "\n",
              "    .colab-df-convert:hover {\n",
              "      background-color: #E2EBFA;\n",
              "      box-shadow: 0px 1px 2px rgba(60, 64, 67, 0.3), 0px 1px 3px 1px rgba(60, 64, 67, 0.15);\n",
              "      fill: #174EA6;\n",
              "    }\n",
              "\n",
              "    .colab-df-buttons div {\n",
              "      margin-bottom: 4px;\n",
              "    }\n",
              "\n",
              "    [theme=dark] .colab-df-convert {\n",
              "      background-color: #3B4455;\n",
              "      fill: #D2E3FC;\n",
              "    }\n",
              "\n",
              "    [theme=dark] .colab-df-convert:hover {\n",
              "      background-color: #434B5C;\n",
              "      box-shadow: 0px 1px 3px 1px rgba(0, 0, 0, 0.15);\n",
              "      filter: drop-shadow(0px 1px 2px rgba(0, 0, 0, 0.3));\n",
              "      fill: #FFFFFF;\n",
              "    }\n",
              "  </style>\n",
              "\n",
              "    <script>\n",
              "      const buttonEl =\n",
              "        document.querySelector('#df-b618236a-5937-44c1-be61-c6dd06d57d2b button.colab-df-convert');\n",
              "      buttonEl.style.display =\n",
              "        google.colab.kernel.accessAllowed ? 'block' : 'none';\n",
              "\n",
              "      async function convertToInteractive(key) {\n",
              "        const element = document.querySelector('#df-b618236a-5937-44c1-be61-c6dd06d57d2b');\n",
              "        const dataTable =\n",
              "          await google.colab.kernel.invokeFunction('convertToInteractive',\n",
              "                                                    [key], {});\n",
              "        if (!dataTable) return;\n",
              "\n",
              "        const docLinkHtml = 'Like what you see? Visit the ' +\n",
              "          '<a target=\"_blank\" href=https://colab.research.google.com/notebooks/data_table.ipynb>data table notebook</a>'\n",
              "          + ' to learn more about interactive tables.';\n",
              "        element.innerHTML = '';\n",
              "        dataTable['output_type'] = 'display_data';\n",
              "        await google.colab.output.renderOutput(dataTable, element);\n",
              "        const docLink = document.createElement('div');\n",
              "        docLink.innerHTML = docLinkHtml;\n",
              "        element.appendChild(docLink);\n",
              "      }\n",
              "    </script>\n",
              "  </div>\n",
              "\n",
              "\n",
              "<div id=\"df-10ab5fd7-2816-45a1-ae14-f9e42ec29d96\">\n",
              "  <button class=\"colab-df-quickchart\" onclick=\"quickchart('df-10ab5fd7-2816-45a1-ae14-f9e42ec29d96')\"\n",
              "            title=\"Suggest charts\"\n",
              "            style=\"display:none;\">\n",
              "\n",
              "<svg xmlns=\"http://www.w3.org/2000/svg\" height=\"24px\"viewBox=\"0 0 24 24\"\n",
              "     width=\"24px\">\n",
              "    <g>\n",
              "        <path d=\"M19 3H5c-1.1 0-2 .9-2 2v14c0 1.1.9 2 2 2h14c1.1 0 2-.9 2-2V5c0-1.1-.9-2-2-2zM9 17H7v-7h2v7zm4 0h-2V7h2v10zm4 0h-2v-4h2v4z\"/>\n",
              "    </g>\n",
              "</svg>\n",
              "  </button>\n",
              "\n",
              "<style>\n",
              "  .colab-df-quickchart {\n",
              "      --bg-color: #E8F0FE;\n",
              "      --fill-color: #1967D2;\n",
              "      --hover-bg-color: #E2EBFA;\n",
              "      --hover-fill-color: #174EA6;\n",
              "      --disabled-fill-color: #AAA;\n",
              "      --disabled-bg-color: #DDD;\n",
              "  }\n",
              "\n",
              "  [theme=dark] .colab-df-quickchart {\n",
              "      --bg-color: #3B4455;\n",
              "      --fill-color: #D2E3FC;\n",
              "      --hover-bg-color: #434B5C;\n",
              "      --hover-fill-color: #FFFFFF;\n",
              "      --disabled-bg-color: #3B4455;\n",
              "      --disabled-fill-color: #666;\n",
              "  }\n",
              "\n",
              "  .colab-df-quickchart {\n",
              "    background-color: var(--bg-color);\n",
              "    border: none;\n",
              "    border-radius: 50%;\n",
              "    cursor: pointer;\n",
              "    display: none;\n",
              "    fill: var(--fill-color);\n",
              "    height: 32px;\n",
              "    padding: 0;\n",
              "    width: 32px;\n",
              "  }\n",
              "\n",
              "  .colab-df-quickchart:hover {\n",
              "    background-color: var(--hover-bg-color);\n",
              "    box-shadow: 0 1px 2px rgba(60, 64, 67, 0.3), 0 1px 3px 1px rgba(60, 64, 67, 0.15);\n",
              "    fill: var(--button-hover-fill-color);\n",
              "  }\n",
              "\n",
              "  .colab-df-quickchart-complete:disabled,\n",
              "  .colab-df-quickchart-complete:disabled:hover {\n",
              "    background-color: var(--disabled-bg-color);\n",
              "    fill: var(--disabled-fill-color);\n",
              "    box-shadow: none;\n",
              "  }\n",
              "\n",
              "  .colab-df-spinner {\n",
              "    border: 2px solid var(--fill-color);\n",
              "    border-color: transparent;\n",
              "    border-bottom-color: var(--fill-color);\n",
              "    animation:\n",
              "      spin 1s steps(1) infinite;\n",
              "  }\n",
              "\n",
              "  @keyframes spin {\n",
              "    0% {\n",
              "      border-color: transparent;\n",
              "      border-bottom-color: var(--fill-color);\n",
              "      border-left-color: var(--fill-color);\n",
              "    }\n",
              "    20% {\n",
              "      border-color: transparent;\n",
              "      border-left-color: var(--fill-color);\n",
              "      border-top-color: var(--fill-color);\n",
              "    }\n",
              "    30% {\n",
              "      border-color: transparent;\n",
              "      border-left-color: var(--fill-color);\n",
              "      border-top-color: var(--fill-color);\n",
              "      border-right-color: var(--fill-color);\n",
              "    }\n",
              "    40% {\n",
              "      border-color: transparent;\n",
              "      border-right-color: var(--fill-color);\n",
              "      border-top-color: var(--fill-color);\n",
              "    }\n",
              "    60% {\n",
              "      border-color: transparent;\n",
              "      border-right-color: var(--fill-color);\n",
              "    }\n",
              "    80% {\n",
              "      border-color: transparent;\n",
              "      border-right-color: var(--fill-color);\n",
              "      border-bottom-color: var(--fill-color);\n",
              "    }\n",
              "    90% {\n",
              "      border-color: transparent;\n",
              "      border-bottom-color: var(--fill-color);\n",
              "    }\n",
              "  }\n",
              "</style>\n",
              "\n",
              "  <script>\n",
              "    async function quickchart(key) {\n",
              "      const quickchartButtonEl =\n",
              "        document.querySelector('#' + key + ' button');\n",
              "      quickchartButtonEl.disabled = true;  // To prevent multiple clicks.\n",
              "      quickchartButtonEl.classList.add('colab-df-spinner');\n",
              "      try {\n",
              "        const charts = await google.colab.kernel.invokeFunction(\n",
              "            'suggestCharts', [key], {});\n",
              "      } catch (error) {\n",
              "        console.error('Error during call to suggestCharts:', error);\n",
              "      }\n",
              "      quickchartButtonEl.classList.remove('colab-df-spinner');\n",
              "      quickchartButtonEl.classList.add('colab-df-quickchart-complete');\n",
              "    }\n",
              "    (() => {\n",
              "      let quickchartButtonEl =\n",
              "        document.querySelector('#df-10ab5fd7-2816-45a1-ae14-f9e42ec29d96 button');\n",
              "      quickchartButtonEl.style.display =\n",
              "        google.colab.kernel.accessAllowed ? 'block' : 'none';\n",
              "    })();\n",
              "  </script>\n",
              "</div>\n",
              "    </div>\n",
              "  </div>\n"
            ],
            "application/vnd.google.colaboratory.intrinsic+json": {
              "type": "dataframe",
              "variable_name": "data_cleaned",
              "summary": "{\n  \"name\": \"data_cleaned\",\n  \"rows\": 703,\n  \"fields\": [\n    {\n      \"column\": \"Rating\",\n      \"properties\": {\n        \"dtype\": \"category\",\n        \"num_unique_values\": 2,\n        \"samples\": [\n          \"__label__0.0\",\n          \"__label__1.0\"\n        ],\n        \"semantic_type\": \"\",\n        \"description\": \"\"\n      }\n    },\n    {\n      \"column\": \"Review\",\n      \"properties\": {\n        \"dtype\": \"string\",\n        \"num_unique_values\": 703,\n        \"samples\": [\n          \"ordered blueberry oatmeal. blueberries come separate in their own container - i put a few in my oatmeal, eat, put a few more in, eat, etc. i got to the last 5 and they were covered in mold - diarrhea  vomiting 4-days. they said not their problem, they refuse to let me speak to a corporate big wig. i was forced to give them 1-star above, it would not allow me to post this. i wanted to give them 0.\",\n          \"a few weeks ago, i went into starbucks on main st, in brighton to study for my college psychology class. i ordered a pumpkin cream cold brew after a friend recommended it. when i got my drink, it looked very professional with the different layers of coffee and pumpkin cream. i stirred the two layers satisfyingly together and then took the first drink and i fell in love with the drink. the texture and taste were so creamy. the atmosphere was perfect for studying. i would 100% recommend the pumpkin cream cold brew to anyone who enjoys coffee or if you are looking for something different than the pumpkin spice latte.\"\n        ],\n        \"semantic_type\": \"\",\n        \"description\": \"\"\n      }\n    }\n  ]\n}"
            }
          },
          "metadata": {},
          "execution_count": 12
        }
      ]
    },
    {
      "cell_type": "markdown",
      "source": [
        "Импортируем numpy, разбиваем выборку на тренировочную, валидационную и тестовую:"
      ],
      "metadata": {
        "id": "HuDzTpHUPaOq"
      }
    },
    {
      "cell_type": "code",
      "source": [
        "import numpy as np\n",
        "\n",
        "def train_validate_test_split(df, train_percent=.6, validate_percent=.2, seed=None):\n",
        "    np.random.seed(seed)\n",
        "    perm = np.random.permutation(df.index)\n",
        "    m = len(df.index)\n",
        "    train_end = int(train_percent * m)\n",
        "    validate_end = int(validate_percent * m) + train_end\n",
        "    train = df.loc[perm[:train_end]]\n",
        "    validate = df.loc[perm[train_end:validate_end]]\n",
        "    test = df.loc[perm[validate_end:]]\n",
        "    return train, validate, test"
      ],
      "metadata": {
        "id": "7ymIBjvT4fYJ"
      },
      "execution_count": null,
      "outputs": []
    },
    {
      "cell_type": "code",
      "source": [
        "train, validate, test = train_validate_test_split(data_cleaned, train_percent=.7, validate_percent=.2, seed=700)"
      ],
      "metadata": {
        "id": "kVRNh0i-4mTD"
      },
      "execution_count": null,
      "outputs": []
    },
    {
      "cell_type": "code",
      "source": [
        "train.shape[0], validate.shape[0], test.shape[0]"
      ],
      "metadata": {
        "colab": {
          "base_uri": "https://localhost:8080/"
        },
        "id": "Ml78PMzd4vu-",
        "outputId": "59236aa4-45ec-4ee5-8226-891773a21e23"
      },
      "execution_count": null,
      "outputs": [
        {
          "output_type": "execute_result",
          "data": {
            "text/plain": [
              "(492, 140, 71)"
            ]
          },
          "metadata": {},
          "execution_count": 15
        }
      ]
    },
    {
      "cell_type": "markdown",
      "source": [
        "Записываем всё в файлики:"
      ],
      "metadata": {
        "id": "N2k1fFegPjLo"
      }
    },
    {
      "cell_type": "code",
      "source": [
        "train.to_csv('/content/drive/My Drive/colab_data/flair/Rating.train.fasttext',\n",
        "             sep=' ',\n",
        "             index=False,\n",
        "             header=None)\n",
        "validate.to_csv('/content/drive/My Drive/colab_data/flair/Rating.validate.fasttext',\n",
        "                sep=' ',\n",
        "                index=False,\n",
        "                header=None)\n",
        "test.to_csv('/content/drive/My Drive/colab_data/flair/Rating.test.fasttext',\n",
        "            sep=' ',\n",
        "            index=False,\n",
        "            header=None)"
      ],
      "metadata": {
        "id": "pWso4HQu4ytI"
      },
      "execution_count": null,
      "outputs": []
    },
    {
      "cell_type": "markdown",
      "source": [
        "Загрузили..."
      ],
      "metadata": {
        "id": "TJd2ARjN5zyb"
      }
    },
    {
      "cell_type": "code",
      "source": [
        "data_folder = '/content/drive/My Drive/colab_data/flair/'\n",
        "\n",
        "corpus: Corpus = ClassificationCorpus(\n",
        "    data_folder,\n",
        "    train_file='Rating.train.fasttext',\n",
        "    dev_file='Rating.validate.fasttext',\n",
        "    test_file='Rating.test.fasttext')"
      ],
      "metadata": {
        "colab": {
          "base_uri": "https://localhost:8080/"
        },
        "id": "OU-hOcEbGlaB",
        "outputId": "5e27d0e6-2788-4e24-bed2-aa30105f1843"
      },
      "execution_count": null,
      "outputs": [
        {
          "output_type": "stream",
          "name": "stdout",
          "text": [
            "2024-08-13 07:39:01,028 Reading data from /content/drive/My Drive/colab_data/flair\n",
            "2024-08-13 07:39:01,030 Train: /content/drive/My Drive/colab_data/flair/Rating.train.fasttext\n",
            "2024-08-13 07:39:01,033 Dev: /content/drive/My Drive/colab_data/flair/Rating.validate.fasttext\n",
            "2024-08-13 07:39:01,035 Test: /content/drive/My Drive/colab_data/flair/Rating.test.fasttext\n",
            "2024-08-13 07:39:01,069 Initialized corpus /content/drive/My Drive/colab_data/flair/ (label type name is 'class')\n"
          ]
        }
      ]
    },
    {
      "cell_type": "code",
      "source": [
        "print(len(corpus.train), len(corpus.dev), len(corpus.test), sep=', ')"
      ],
      "metadata": {
        "colab": {
          "base_uri": "https://localhost:8080/"
        },
        "id": "Pc-FbpbeIAzv",
        "outputId": "0301f531-c88f-43b0-bb6d-44ab9925ac2b"
      },
      "execution_count": null,
      "outputs": [
        {
          "output_type": "stream",
          "name": "stdout",
          "text": [
            "492, 140, 71\n"
          ]
        }
      ]
    },
    {
      "cell_type": "markdown",
      "source": [
        "Теперь уж точно всё загрузили..."
      ],
      "metadata": {
        "id": "lGBYWWCbITnc"
      }
    },
    {
      "cell_type": "markdown",
      "source": [
        "Создаём словарь меток: всё, что может лежать в целевой переменной."
      ],
      "metadata": {
        "id": "7DC1Vxn2Pmp0"
      }
    },
    {
      "cell_type": "code",
      "source": [
        "label_type = 'class'\n",
        "label_dict = corpus.make_label_dictionary(label_type = label_type)"
      ],
      "metadata": {
        "colab": {
          "base_uri": "https://localhost:8080/"
        },
        "id": "j6HmG5Q4IWKY",
        "outputId": "6c28bbec-348b-4ad4-9da6-a2fab8b4a252"
      },
      "execution_count": null,
      "outputs": [
        {
          "output_type": "stream",
          "name": "stdout",
          "text": [
            "2024-08-13 09:15:58,116 Computing label dictionary. Progress:\n"
          ]
        },
        {
          "output_type": "stream",
          "name": "stderr",
          "text": [
            "0it [00:00, ?it/s]\n",
            "492it [00:01, 477.93it/s]"
          ]
        },
        {
          "output_type": "stream",
          "name": "stdout",
          "text": [
            "2024-08-13 09:15:59,171 Dictionary created for label 'class' with 2 values: 0.0 (seen 403 times), 1.0 (seen 89 times)\n"
          ]
        },
        {
          "output_type": "stream",
          "name": "stderr",
          "text": [
            "\n"
          ]
        }
      ]
    },
    {
      "cell_type": "markdown",
      "source": [
        "Задачу векторизации будем решать с помощью BPE:"
      ],
      "metadata": {
        "id": "1FDon7fDBeeI"
      }
    },
    {
      "cell_type": "code",
      "source": [
        "!pip install flair[word-embeddings] -q"
      ],
      "metadata": {
        "id": "Lrjs-nNHBnF3"
      },
      "execution_count": null,
      "outputs": []
    },
    {
      "cell_type": "code",
      "source": [
        "bpe = BytePairEmbeddings(language='eng', dim=100, syllables=5000)"
      ],
      "metadata": {
        "colab": {
          "base_uri": "https://localhost:8080/"
        },
        "id": "2TTb_HcCDtOj",
        "outputId": "88a7d4e7-a898-4e62-f0aa-4e11098d9c9a"
      },
      "execution_count": null,
      "outputs": [
        {
          "output_type": "stream",
          "name": "stdout",
          "text": [
            "downloading https://nlp.h-its.org/bpemb/en/en.wiki.bpe.vs5000.model\n"
          ]
        },
        {
          "output_type": "stream",
          "name": "stderr",
          "text": [
            "100%|██████████| 315918/315918 [00:00<00:00, 569847.50B/s]\n"
          ]
        },
        {
          "output_type": "stream",
          "name": "stdout",
          "text": [
            "downloading https://nlp.h-its.org/bpemb/en/en.wiki.bpe.vs5000.d100.w2v.bin.tar.gz\n"
          ]
        },
        {
          "output_type": "stream",
          "name": "stderr",
          "text": [
            "100%|██████████| 1888515/1888515 [00:00<00:00, 2243965.09B/s]\n"
          ]
        }
      ]
    },
    {
      "cell_type": "markdown",
      "source": [
        "Теперь нужно решить проблему с разной размерностью. Будем пользоваться классом DocumentPoolEmbeddings, который принимает векторы слов и приводит их к тензору одной размерности - это и есть эмбеддинг всего документа:"
      ],
      "metadata": {
        "id": "igeiO8WgD3nc"
      }
    },
    {
      "cell_type": "code",
      "source": [
        "document_emb = DocumentPoolEmbeddings([bpe], fine_tune_mode='nonlinear')"
      ],
      "metadata": {
        "id": "TMY7hoCPEKXo"
      },
      "execution_count": null,
      "outputs": []
    },
    {
      "cell_type": "markdown",
      "source": [
        "# Обучение - задача bin классификации\n",
        "\n",
        "Переходим к следующему этапу: созданию классификатора и обучению модели"
      ],
      "metadata": {
        "id": "xopeVEItERNJ"
      }
    },
    {
      "cell_type": "code",
      "source": [
        "classifier = TextClassifier(document_emb, label_dictionary=label_dict, label_type=label_type)"
      ],
      "metadata": {
        "id": "K_mlr3JJEW9h"
      },
      "execution_count": null,
      "outputs": []
    },
    {
      "cell_type": "code",
      "source": [
        "trainer = ModelTrainer(classifier, corpus)"
      ],
      "metadata": {
        "id": "snUXs8agFVa2"
      },
      "execution_count": null,
      "outputs": []
    },
    {
      "cell_type": "code",
      "source": [
        "import os\n",
        "\n",
        "model_flair = '/content/drive/My Drive/colab_data/model_flair'\n",
        "\n",
        "if not os.path.exists(model_flair):\n",
        "  os.makedirs(model_flair)"
      ],
      "metadata": {
        "id": "nHyHiUyBI9mv"
      },
      "execution_count": null,
      "outputs": []
    },
    {
      "cell_type": "code",
      "source": [
        "trainer.train(\n",
        "    model_flair,\n",
        "    learning_rate=0.1,\n",
        "    mini_batch_size=64,\n",
        "    anneal_factor=0.5,\n",
        "    patience=5,\n",
        "    max_epochs=2000)"
      ],
      "metadata": {
        "colab": {
          "base_uri": "https://localhost:8080/"
        },
        "id": "hDwHYp4mJcuN",
        "outputId": "2f09f63a-ee9c-4ebf-d3d0-9ae80758591e"
      },
      "execution_count": null,
      "outputs": [
        {
          "output_type": "stream",
          "name": "stdout",
          "text": [
            "2024-08-13 09:57:50,133 ----------------------------------------------------------------------------------------------------\n",
            "2024-08-13 09:57:50,141 Model: \"TextClassifier(\n",
            "  (embeddings): DocumentPoolEmbeddings(\n",
            "    fine_tune_mode=nonlinear, pooling=mean\n",
            "    (embeddings): StackedEmbeddings(\n",
            "      (list_embedding_0): BytePairEmbeddings(\n",
            "        model=0-bpe-eng-5000-100\n",
            "        (embedding): Embedding(5001, 100)\n",
            "      )\n",
            "    )\n",
            "    (embedding_flex): Linear(in_features=200, out_features=200, bias=False)\n",
            "    (embedding_flex_nonlinear): ReLU()\n",
            "    (embedding_flex_nonlinear_map): Linear(in_features=200, out_features=200, bias=True)\n",
            "  )\n",
            "  (decoder): Linear(in_features=200, out_features=2, bias=True)\n",
            "  (dropout): Dropout(p=0.0, inplace=False)\n",
            "  (locked_dropout): LockedDropout(p=0.0)\n",
            "  (word_dropout): WordDropout(p=0.0)\n",
            "  (loss_function): CrossEntropyLoss()\n",
            "  (weights): None\n",
            "  (weight_tensor) None\n",
            ")\"\n",
            "2024-08-13 09:57:50,144 ----------------------------------------------------------------------------------------------------\n",
            "2024-08-13 09:57:50,151 Corpus: 492 train + 140 dev + 71 test sentences\n",
            "2024-08-13 09:57:50,157 ----------------------------------------------------------------------------------------------------\n",
            "2024-08-13 09:57:50,161 Train:  492 sentences\n",
            "2024-08-13 09:57:50,164         (train_with_dev=False, train_with_test=False)\n",
            "2024-08-13 09:57:50,168 ----------------------------------------------------------------------------------------------------\n",
            "2024-08-13 09:57:50,172 Training Params:\n",
            "2024-08-13 09:57:50,176  - learning_rate: \"0.1\" \n",
            "2024-08-13 09:57:50,180  - mini_batch_size: \"64\"\n",
            "2024-08-13 09:57:50,185  - max_epochs: \"2000\"\n",
            "2024-08-13 09:57:50,187  - shuffle: \"True\"\n",
            "2024-08-13 09:57:50,189 ----------------------------------------------------------------------------------------------------\n",
            "2024-08-13 09:57:50,191 Plugins:\n",
            "2024-08-13 09:57:50,193  - AnnealOnPlateau | patience: '5', anneal_factor: '0.5', min_learning_rate: '0.0001'\n",
            "2024-08-13 09:57:50,195 ----------------------------------------------------------------------------------------------------\n",
            "2024-08-13 09:57:50,197 Final evaluation on model from best epoch (best-model.pt)\n",
            "2024-08-13 09:57:50,199  - metric: \"('micro avg', 'f1-score')\"\n",
            "2024-08-13 09:57:50,201 ----------------------------------------------------------------------------------------------------\n",
            "2024-08-13 09:57:50,202 Computation:\n",
            "2024-08-13 09:57:50,204  - compute on device: cpu\n",
            "2024-08-13 09:57:50,207  - embedding storage: cpu\n",
            "2024-08-13 09:57:50,210 ----------------------------------------------------------------------------------------------------\n",
            "2024-08-13 09:57:50,213 Model training base path: \"/content/drive/My Drive/colab_data/model_flair\"\n",
            "2024-08-13 09:57:50,215 ----------------------------------------------------------------------------------------------------\n",
            "2024-08-13 09:57:50,235 ----------------------------------------------------------------------------------------------------\n",
            "2024-08-13 09:57:51,002 epoch 1 - iter 1/8 - loss 0.67930889 - time (sec): 0.76 - samples/sec: 83.83 - lr: 0.100000 - momentum: 0.000000\n",
            "2024-08-13 09:57:51,422 epoch 1 - iter 2/8 - loss 0.53419329 - time (sec): 1.18 - samples/sec: 108.14 - lr: 0.100000 - momentum: 0.000000\n",
            "2024-08-13 09:57:51,832 epoch 1 - iter 3/8 - loss 0.56135487 - time (sec): 1.59 - samples/sec: 120.47 - lr: 0.100000 - momentum: 0.000000\n",
            "2024-08-13 09:57:52,275 epoch 1 - iter 4/8 - loss 0.56501655 - time (sec): 2.04 - samples/sec: 125.72 - lr: 0.100000 - momentum: 0.000000\n",
            "2024-08-13 09:57:53,474 epoch 1 - iter 5/8 - loss 0.56798610 - time (sec): 3.24 - samples/sec: 98.89 - lr: 0.100000 - momentum: 0.000000\n",
            "2024-08-13 09:57:53,883 epoch 1 - iter 6/8 - loss 0.55407291 - time (sec): 3.64 - samples/sec: 105.36 - lr: 0.100000 - momentum: 0.000000\n",
            "2024-08-13 09:57:54,326 epoch 1 - iter 7/8 - loss 0.55430136 - time (sec): 4.09 - samples/sec: 109.59 - lr: 0.100000 - momentum: 0.000000\n",
            "2024-08-13 09:57:54,610 epoch 1 - iter 8/8 - loss 0.55004746 - time (sec): 4.37 - samples/sec: 112.53 - lr: 0.100000 - momentum: 0.000000\n",
            "2024-08-13 09:57:54,614 ----------------------------------------------------------------------------------------------------\n",
            "2024-08-13 09:57:54,617 EPOCH 1 done: loss 0.5500 - lr: 0.100000\n"
          ]
        },
        {
          "output_type": "stream",
          "name": "stderr",
          "text": [
            "100%|██████████| 3/3 [00:01<00:00,  2.31it/s]"
          ]
        },
        {
          "output_type": "stream",
          "name": "stdout",
          "text": [
            "2024-08-13 09:57:55,981 DEV : loss 0.51125168800354 - f1-score (micro avg)  0.8571\n"
          ]
        },
        {
          "output_type": "stream",
          "name": "stderr",
          "text": [
            "\n"
          ]
        },
        {
          "output_type": "stream",
          "name": "stdout",
          "text": [
            "2024-08-13 09:57:57,258  - 0 epochs without improvement\n",
            "2024-08-13 09:57:57,274  - 0 epochs without improvement\n",
            "2024-08-13 09:57:57,287 saving best model\n",
            "2024-08-13 09:57:57,318 ----------------------------------------------------------------------------------------------------\n",
            "2024-08-13 09:57:57,922 epoch 2 - iter 1/8 - loss 0.52268165 - time (sec): 0.60 - samples/sec: 107.42 - lr: 0.100000 - momentum: 0.000000\n",
            "2024-08-13 09:57:58,542 epoch 2 - iter 2/8 - loss 0.56202647 - time (sec): 1.22 - samples/sec: 105.23 - lr: 0.100000 - momentum: 0.000000\n",
            "2024-08-13 09:57:59,204 epoch 2 - iter 3/8 - loss 0.54886254 - time (sec): 1.88 - samples/sec: 102.26 - lr: 0.100000 - momentum: 0.000000\n",
            "2024-08-13 09:57:59,889 epoch 2 - iter 4/8 - loss 0.51217394 - time (sec): 2.56 - samples/sec: 99.87 - lr: 0.100000 - momentum: 0.000000\n",
            "2024-08-13 09:58:00,338 epoch 2 - iter 5/8 - loss 0.50786645 - time (sec): 3.01 - samples/sec: 106.26 - lr: 0.100000 - momentum: 0.000000\n",
            "2024-08-13 09:58:01,504 epoch 2 - iter 6/8 - loss 0.51240247 - time (sec): 4.18 - samples/sec: 91.91 - lr: 0.100000 - momentum: 0.000000\n",
            "2024-08-13 09:58:01,910 epoch 2 - iter 7/8 - loss 0.51155030 - time (sec): 4.58 - samples/sec: 97.73 - lr: 0.100000 - momentum: 0.000000\n",
            "2024-08-13 09:58:02,212 epoch 2 - iter 8/8 - loss 0.51237457 - time (sec): 4.89 - samples/sec: 100.69 - lr: 0.100000 - momentum: 0.000000\n",
            "2024-08-13 09:58:02,218 ----------------------------------------------------------------------------------------------------\n",
            "2024-08-13 09:58:02,220 EPOCH 2 done: loss 0.5124 - lr: 0.100000\n"
          ]
        },
        {
          "output_type": "stream",
          "name": "stderr",
          "text": [
            "100%|██████████| 3/3 [00:00<00:00,  3.21it/s]"
          ]
        },
        {
          "output_type": "stream",
          "name": "stdout",
          "text": [
            "2024-08-13 09:58:03,196 DEV : loss 0.4625348746776581 - f1-score (micro avg)  0.8571\n"
          ]
        },
        {
          "output_type": "stream",
          "name": "stderr",
          "text": [
            "\n"
          ]
        },
        {
          "output_type": "stream",
          "name": "stdout",
          "text": [
            "2024-08-13 09:58:03,509  - 0 epochs without improvement\n",
            "2024-08-13 09:58:03,521  - 0 epochs without improvement\n",
            "2024-08-13 09:58:03,532 ----------------------------------------------------------------------------------------------------\n",
            "2024-08-13 09:58:04,543 epoch 3 - iter 1/8 - loss 0.46723840 - time (sec): 1.00 - samples/sec: 63.71 - lr: 0.100000 - momentum: 0.000000\n",
            "2024-08-13 09:58:04,896 epoch 3 - iter 2/8 - loss 0.46463290 - time (sec): 1.36 - samples/sec: 94.25 - lr: 0.100000 - momentum: 0.000000\n",
            "2024-08-13 09:58:05,293 epoch 3 - iter 3/8 - loss 0.48930528 - time (sec): 1.75 - samples/sec: 109.41 - lr: 0.100000 - momentum: 0.000000\n",
            "2024-08-13 09:58:05,697 epoch 3 - iter 4/8 - loss 0.47806286 - time (sec): 2.16 - samples/sec: 118.59 - lr: 0.100000 - momentum: 0.000000\n",
            "2024-08-13 09:58:06,101 epoch 3 - iter 5/8 - loss 0.47221093 - time (sec): 2.56 - samples/sec: 124.87 - lr: 0.100000 - momentum: 0.000000\n",
            "2024-08-13 09:58:06,465 epoch 3 - iter 6/8 - loss 0.49899737 - time (sec): 2.93 - samples/sec: 131.21 - lr: 0.100000 - momentum: 0.000000\n",
            "2024-08-13 09:58:07,380 epoch 3 - iter 7/8 - loss 0.49352742 - time (sec): 3.84 - samples/sec: 116.62 - lr: 0.100000 - momentum: 0.000000\n",
            "2024-08-13 09:58:07,668 epoch 3 - iter 8/8 - loss 0.48716490 - time (sec): 4.13 - samples/sec: 119.13 - lr: 0.100000 - momentum: 0.000000\n",
            "2024-08-13 09:58:07,673 ----------------------------------------------------------------------------------------------------\n",
            "2024-08-13 09:58:07,678 EPOCH 3 done: loss 0.4872 - lr: 0.100000\n"
          ]
        },
        {
          "output_type": "stream",
          "name": "stderr",
          "text": [
            "100%|██████████| 3/3 [00:00<00:00,  3.44it/s]"
          ]
        },
        {
          "output_type": "stream",
          "name": "stdout",
          "text": [
            "2024-08-13 09:58:08,601 DEV : loss 0.43199968338012695 - f1-score (micro avg)  0.8571\n"
          ]
        },
        {
          "output_type": "stream",
          "name": "stderr",
          "text": [
            "\n"
          ]
        },
        {
          "output_type": "stream",
          "name": "stdout",
          "text": [
            "2024-08-13 09:58:08,915  - 0 epochs without improvement\n",
            "2024-08-13 09:58:08,926  - 0 epochs without improvement\n",
            "2024-08-13 09:58:08,940 ----------------------------------------------------------------------------------------------------\n",
            "2024-08-13 09:58:09,307 epoch 4 - iter 1/8 - loss 0.47048262 - time (sec): 0.35 - samples/sec: 180.30 - lr: 0.100000 - momentum: 0.000000\n",
            "2024-08-13 09:58:10,454 epoch 4 - iter 2/8 - loss 0.50160362 - time (sec): 1.50 - samples/sec: 85.24 - lr: 0.100000 - momentum: 0.000000\n",
            "2024-08-13 09:58:11,121 epoch 4 - iter 3/8 - loss 0.47924302 - time (sec): 2.17 - samples/sec: 88.49 - lr: 0.100000 - momentum: 0.000000\n",
            "2024-08-13 09:58:11,751 epoch 4 - iter 4/8 - loss 0.49592006 - time (sec): 2.80 - samples/sec: 91.47 - lr: 0.100000 - momentum: 0.000000\n",
            "2024-08-13 09:58:12,400 epoch 4 - iter 5/8 - loss 0.49690174 - time (sec): 3.45 - samples/sec: 92.81 - lr: 0.100000 - momentum: 0.000000\n",
            "2024-08-13 09:58:12,978 epoch 4 - iter 6/8 - loss 0.49610726 - time (sec): 4.03 - samples/sec: 95.36 - lr: 0.100000 - momentum: 0.000000\n",
            "2024-08-13 09:58:13,603 epoch 4 - iter 7/8 - loss 0.48889747 - time (sec): 4.65 - samples/sec: 96.32 - lr: 0.100000 - momentum: 0.000000\n",
            "2024-08-13 09:58:14,868 epoch 4 - iter 8/8 - loss 0.47573855 - time (sec): 5.92 - samples/sec: 83.16 - lr: 0.100000 - momentum: 0.000000\n",
            "2024-08-13 09:58:14,872 ----------------------------------------------------------------------------------------------------\n",
            "2024-08-13 09:58:14,874 EPOCH 4 done: loss 0.4757 - lr: 0.100000\n"
          ]
        },
        {
          "output_type": "stream",
          "name": "stderr",
          "text": [
            "100%|██████████| 3/3 [00:01<00:00,  2.91it/s]"
          ]
        },
        {
          "output_type": "stream",
          "name": "stdout",
          "text": [
            "2024-08-13 09:58:15,948 DEV : loss 0.35814031958580017 - f1-score (micro avg)  0.8571\n"
          ]
        },
        {
          "output_type": "stream",
          "name": "stderr",
          "text": [
            "\n"
          ]
        },
        {
          "output_type": "stream",
          "name": "stdout",
          "text": [
            "2024-08-13 09:58:16,254  - 0 epochs without improvement\n",
            "2024-08-13 09:58:16,262  - 0 epochs without improvement\n",
            "2024-08-13 09:58:16,271 ----------------------------------------------------------------------------------------------------\n",
            "2024-08-13 09:58:16,638 epoch 5 - iter 1/8 - loss 0.39157546 - time (sec): 0.36 - samples/sec: 177.52 - lr: 0.100000 - momentum: 0.000000\n",
            "2024-08-13 09:58:17,033 epoch 5 - iter 2/8 - loss 0.41881554 - time (sec): 0.76 - samples/sec: 169.34 - lr: 0.100000 - momentum: 0.000000\n",
            "2024-08-13 09:58:17,969 epoch 5 - iter 3/8 - loss 0.41924399 - time (sec): 1.69 - samples/sec: 113.52 - lr: 0.100000 - momentum: 0.000000\n",
            "2024-08-13 09:58:18,389 epoch 5 - iter 4/8 - loss 0.41573600 - time (sec): 2.11 - samples/sec: 121.25 - lr: 0.100000 - momentum: 0.000000\n",
            "2024-08-13 09:58:18,743 epoch 5 - iter 5/8 - loss 0.41617168 - time (sec): 2.47 - samples/sec: 129.78 - lr: 0.100000 - momentum: 0.000000\n",
            "2024-08-13 09:58:19,117 epoch 5 - iter 6/8 - loss 0.42032564 - time (sec): 2.84 - samples/sec: 135.24 - lr: 0.100000 - momentum: 0.000000\n",
            "2024-08-13 09:58:19,512 epoch 5 - iter 7/8 - loss 0.44645715 - time (sec): 3.23 - samples/sec: 138.51 - lr: 0.100000 - momentum: 0.000000\n",
            "2024-08-13 09:58:19,785 epoch 5 - iter 8/8 - loss 0.44218444 - time (sec): 3.51 - samples/sec: 140.27 - lr: 0.100000 - momentum: 0.000000\n",
            "2024-08-13 09:58:19,791 ----------------------------------------------------------------------------------------------------\n",
            "2024-08-13 09:58:19,793 EPOCH 5 done: loss 0.4422 - lr: 0.100000\n"
          ]
        },
        {
          "output_type": "stream",
          "name": "stderr",
          "text": [
            "100%|██████████| 3/3 [00:01<00:00,  1.75it/s]"
          ]
        },
        {
          "output_type": "stream",
          "name": "stdout",
          "text": [
            "2024-08-13 09:58:21,550 DEV : loss 0.3321044147014618 - f1-score (micro avg)  0.8571\n"
          ]
        },
        {
          "output_type": "stream",
          "name": "stderr",
          "text": [
            "\n"
          ]
        },
        {
          "output_type": "stream",
          "name": "stdout",
          "text": [
            "2024-08-13 09:58:21,854  - 0 epochs without improvement\n",
            "2024-08-13 09:58:21,863  - 0 epochs without improvement\n",
            "2024-08-13 09:58:21,875 ----------------------------------------------------------------------------------------------------\n",
            "2024-08-13 09:58:22,311 epoch 6 - iter 1/8 - loss 0.47378394 - time (sec): 0.43 - samples/sec: 148.99 - lr: 0.100000 - momentum: 0.000000\n",
            "2024-08-13 09:58:22,649 epoch 6 - iter 2/8 - loss 0.47660080 - time (sec): 0.77 - samples/sec: 166.73 - lr: 0.100000 - momentum: 0.000000\n",
            "2024-08-13 09:58:23,649 epoch 6 - iter 3/8 - loss 0.36748142 - time (sec): 1.77 - samples/sec: 108.65 - lr: 0.100000 - momentum: 0.000000\n",
            "2024-08-13 09:58:24,078 epoch 6 - iter 4/8 - loss 0.47063666 - time (sec): 2.20 - samples/sec: 116.53 - lr: 0.100000 - momentum: 0.000000\n",
            "2024-08-13 09:58:24,536 epoch 6 - iter 5/8 - loss 0.44413065 - time (sec): 2.65 - samples/sec: 120.54 - lr: 0.100000 - momentum: 0.000000\n",
            "2024-08-13 09:58:24,909 epoch 6 - iter 6/8 - loss 0.44302998 - time (sec): 3.03 - samples/sec: 126.83 - lr: 0.100000 - momentum: 0.000000\n",
            "2024-08-13 09:58:25,438 epoch 6 - iter 7/8 - loss 0.44791839 - time (sec): 3.56 - samples/sec: 125.98 - lr: 0.100000 - momentum: 0.000000\n",
            "2024-08-13 09:58:25,879 epoch 6 - iter 8/8 - loss 0.45261687 - time (sec): 4.00 - samples/sec: 123.08 - lr: 0.100000 - momentum: 0.000000\n",
            "2024-08-13 09:58:25,888 ----------------------------------------------------------------------------------------------------\n",
            "2024-08-13 09:58:25,893 EPOCH 6 done: loss 0.4526 - lr: 0.100000\n"
          ]
        },
        {
          "output_type": "stream",
          "name": "stderr",
          "text": [
            "100%|██████████| 3/3 [00:02<00:00,  1.27it/s]"
          ]
        },
        {
          "output_type": "stream",
          "name": "stdout",
          "text": [
            "2024-08-13 09:58:28,296 DEV : loss 0.305124431848526 - f1-score (micro avg)  0.8643\n"
          ]
        },
        {
          "output_type": "stream",
          "name": "stderr",
          "text": [
            "\n"
          ]
        },
        {
          "output_type": "stream",
          "name": "stdout",
          "text": [
            "2024-08-13 09:58:28,857  - 0 epochs without improvement\n",
            "2024-08-13 09:58:28,871  - 0 epochs without improvement\n",
            "2024-08-13 09:58:28,888 saving best model\n",
            "2024-08-13 09:58:28,925 ----------------------------------------------------------------------------------------------------\n",
            "2024-08-13 09:58:29,591 epoch 7 - iter 1/8 - loss 0.44465104 - time (sec): 0.65 - samples/sec: 98.35 - lr: 0.100000 - momentum: 0.000000\n",
            "2024-08-13 09:58:30,325 epoch 7 - iter 2/8 - loss 0.45988514 - time (sec): 1.39 - samples/sec: 92.39 - lr: 0.100000 - momentum: 0.000000\n",
            "2024-08-13 09:58:30,806 epoch 7 - iter 3/8 - loss 0.42598587 - time (sec): 1.87 - samples/sec: 102.88 - lr: 0.100000 - momentum: 0.000000\n",
            "2024-08-13 09:58:31,979 epoch 7 - iter 4/8 - loss 0.42012064 - time (sec): 3.04 - samples/sec: 84.24 - lr: 0.100000 - momentum: 0.000000\n",
            "2024-08-13 09:58:32,363 epoch 7 - iter 5/8 - loss 0.38094636 - time (sec): 3.42 - samples/sec: 93.48 - lr: 0.100000 - momentum: 0.000000\n",
            "2024-08-13 09:58:32,764 epoch 7 - iter 6/8 - loss 0.38388682 - time (sec): 3.82 - samples/sec: 100.42 - lr: 0.100000 - momentum: 0.000000\n",
            "2024-08-13 09:58:33,174 epoch 7 - iter 7/8 - loss 0.37170677 - time (sec): 4.23 - samples/sec: 105.81 - lr: 0.100000 - momentum: 0.000000\n",
            "2024-08-13 09:58:33,437 epoch 7 - iter 8/8 - loss 0.36838733 - time (sec): 4.50 - samples/sec: 109.40 - lr: 0.100000 - momentum: 0.000000\n",
            "2024-08-13 09:58:33,444 ----------------------------------------------------------------------------------------------------\n",
            "2024-08-13 09:58:33,446 EPOCH 7 done: loss 0.3684 - lr: 0.100000\n"
          ]
        },
        {
          "output_type": "stream",
          "name": "stderr",
          "text": [
            "100%|██████████| 3/3 [00:01<00:00,  2.18it/s]"
          ]
        },
        {
          "output_type": "stream",
          "name": "stdout",
          "text": [
            "2024-08-13 09:58:34,877 DEV : loss 0.33894485235214233 - f1-score (micro avg)  0.8714\n"
          ]
        },
        {
          "output_type": "stream",
          "name": "stderr",
          "text": [
            "\n"
          ]
        },
        {
          "output_type": "stream",
          "name": "stdout",
          "text": [
            "2024-08-13 09:58:35,191  - 0 epochs without improvement\n",
            "2024-08-13 09:58:35,203  - 0 epochs without improvement\n",
            "2024-08-13 09:58:35,217 saving best model\n",
            "2024-08-13 09:58:35,252 ----------------------------------------------------------------------------------------------------\n",
            "2024-08-13 09:58:35,735 epoch 8 - iter 1/8 - loss 0.31505099 - time (sec): 0.47 - samples/sec: 135.18 - lr: 0.100000 - momentum: 0.000000\n",
            "2024-08-13 09:58:36,172 epoch 8 - iter 2/8 - loss 0.33659630 - time (sec): 0.91 - samples/sec: 140.65 - lr: 0.100000 - momentum: 0.000000\n",
            "2024-08-13 09:58:36,556 epoch 8 - iter 3/8 - loss 0.37771404 - time (sec): 1.29 - samples/sec: 148.36 - lr: 0.100000 - momentum: 0.000000\n",
            "2024-08-13 09:58:37,017 epoch 8 - iter 4/8 - loss 0.36736859 - time (sec): 1.76 - samples/sec: 145.85 - lr: 0.100000 - momentum: 0.000000\n",
            "2024-08-13 09:58:38,194 epoch 8 - iter 5/8 - loss 0.36201562 - time (sec): 2.93 - samples/sec: 109.10 - lr: 0.100000 - momentum: 0.000000\n",
            "2024-08-13 09:58:38,545 epoch 8 - iter 6/8 - loss 0.35174897 - time (sec): 3.28 - samples/sec: 116.96 - lr: 0.100000 - momentum: 0.000000\n",
            "2024-08-13 09:58:38,920 epoch 8 - iter 7/8 - loss 0.37184922 - time (sec): 3.66 - samples/sec: 122.46 - lr: 0.100000 - momentum: 0.000000\n",
            "2024-08-13 09:58:39,272 epoch 8 - iter 8/8 - loss 0.37229774 - time (sec): 4.01 - samples/sec: 122.67 - lr: 0.100000 - momentum: 0.000000\n",
            "2024-08-13 09:58:39,275 ----------------------------------------------------------------------------------------------------\n",
            "2024-08-13 09:58:39,280 EPOCH 8 done: loss 0.3723 - lr: 0.100000\n"
          ]
        },
        {
          "output_type": "stream",
          "name": "stderr",
          "text": [
            "100%|██████████| 3/3 [00:00<00:00,  3.24it/s]"
          ]
        },
        {
          "output_type": "stream",
          "name": "stdout",
          "text": [
            "2024-08-13 09:58:40,253 DEV : loss 0.3083854615688324 - f1-score (micro avg)  0.8714\n"
          ]
        },
        {
          "output_type": "stream",
          "name": "stderr",
          "text": [
            "\n"
          ]
        },
        {
          "output_type": "stream",
          "name": "stdout",
          "text": [
            "2024-08-13 09:58:41,711  - 0 epochs without improvement\n",
            "2024-08-13 09:58:41,727  - 0 epochs without improvement\n",
            "2024-08-13 09:58:41,741 ----------------------------------------------------------------------------------------------------\n",
            "2024-08-13 09:58:42,473 epoch 9 - iter 1/8 - loss 0.54982221 - time (sec): 0.73 - samples/sec: 87.95 - lr: 0.100000 - momentum: 0.000000\n",
            "2024-08-13 09:58:43,140 epoch 9 - iter 2/8 - loss 0.48091908 - time (sec): 1.39 - samples/sec: 91.79 - lr: 0.100000 - momentum: 0.000000\n",
            "2024-08-13 09:58:43,783 epoch 9 - iter 3/8 - loss 0.47223582 - time (sec): 2.04 - samples/sec: 94.26 - lr: 0.100000 - momentum: 0.000000\n",
            "2024-08-13 09:58:44,526 epoch 9 - iter 4/8 - loss 0.43756894 - time (sec): 2.78 - samples/sec: 92.07 - lr: 0.100000 - momentum: 0.000000\n",
            "2024-08-13 09:58:45,208 epoch 9 - iter 5/8 - loss 0.41632650 - time (sec): 3.46 - samples/sec: 92.42 - lr: 0.100000 - momentum: 0.000000\n",
            "2024-08-13 09:58:46,415 epoch 9 - iter 6/8 - loss 0.39549857 - time (sec): 4.67 - samples/sec: 82.23 - lr: 0.100000 - momentum: 0.000000\n",
            "2024-08-13 09:58:46,890 epoch 9 - iter 7/8 - loss 0.37693590 - time (sec): 5.14 - samples/sec: 87.08 - lr: 0.100000 - momentum: 0.000000\n",
            "2024-08-13 09:58:47,225 epoch 9 - iter 8/8 - loss 0.37859008 - time (sec): 5.48 - samples/sec: 89.78 - lr: 0.100000 - momentum: 0.000000\n",
            "2024-08-13 09:58:47,236 ----------------------------------------------------------------------------------------------------\n",
            "2024-08-13 09:58:47,241 EPOCH 9 done: loss 0.3786 - lr: 0.100000\n"
          ]
        },
        {
          "output_type": "stream",
          "name": "stderr",
          "text": [
            "100%|██████████| 3/3 [00:00<00:00,  3.15it/s]"
          ]
        },
        {
          "output_type": "stream",
          "name": "stdout",
          "text": [
            "2024-08-13 09:58:48,243 DEV : loss 0.30689436197280884 - f1-score (micro avg)  0.8714\n"
          ]
        },
        {
          "output_type": "stream",
          "name": "stderr",
          "text": [
            "\n"
          ]
        },
        {
          "output_type": "stream",
          "name": "stdout",
          "text": [
            "2024-08-13 09:58:49,191  - 0 epochs without improvement\n",
            "2024-08-13 09:58:49,202  - 0 epochs without improvement\n",
            "2024-08-13 09:58:49,213 ----------------------------------------------------------------------------------------------------\n",
            "2024-08-13 09:58:49,626 epoch 10 - iter 1/8 - loss 0.45253804 - time (sec): 0.41 - samples/sec: 157.39 - lr: 0.100000 - momentum: 0.000000\n",
            "2024-08-13 09:58:50,057 epoch 10 - iter 2/8 - loss 0.42083463 - time (sec): 0.84 - samples/sec: 152.72 - lr: 0.100000 - momentum: 0.000000\n",
            "2024-08-13 09:58:50,503 epoch 10 - iter 3/8 - loss 0.39069461 - time (sec): 1.28 - samples/sec: 149.59 - lr: 0.100000 - momentum: 0.000000\n",
            "2024-08-13 09:58:50,845 epoch 10 - iter 4/8 - loss 0.38339800 - time (sec): 1.63 - samples/sec: 157.45 - lr: 0.100000 - momentum: 0.000000\n",
            "2024-08-13 09:58:51,271 epoch 10 - iter 5/8 - loss 0.36909577 - time (sec): 2.05 - samples/sec: 155.94 - lr: 0.100000 - momentum: 0.000000\n",
            "2024-08-13 09:58:51,662 epoch 10 - iter 6/8 - loss 0.36371742 - time (sec): 2.44 - samples/sec: 157.17 - lr: 0.100000 - momentum: 0.000000\n",
            "2024-08-13 09:58:52,929 epoch 10 - iter 7/8 - loss 0.36016373 - time (sec): 3.71 - samples/sec: 120.76 - lr: 0.100000 - momentum: 0.000000\n",
            "2024-08-13 09:58:53,263 epoch 10 - iter 8/8 - loss 0.35080885 - time (sec): 4.04 - samples/sec: 121.66 - lr: 0.100000 - momentum: 0.000000\n",
            "2024-08-13 09:58:53,268 ----------------------------------------------------------------------------------------------------\n",
            "2024-08-13 09:58:53,276 EPOCH 10 done: loss 0.3508 - lr: 0.100000\n"
          ]
        },
        {
          "output_type": "stream",
          "name": "stderr",
          "text": [
            "100%|██████████| 3/3 [00:00<00:00,  3.18it/s]"
          ]
        },
        {
          "output_type": "stream",
          "name": "stdout",
          "text": [
            "2024-08-13 09:58:54,269 DEV : loss 0.29292985796928406 - f1-score (micro avg)  0.8786\n"
          ]
        },
        {
          "output_type": "stream",
          "name": "stderr",
          "text": [
            "\n"
          ]
        },
        {
          "output_type": "stream",
          "name": "stdout",
          "text": [
            "2024-08-13 09:58:54,590  - 0 epochs without improvement\n",
            "2024-08-13 09:58:54,605  - 0 epochs without improvement\n",
            "2024-08-13 09:58:54,620 saving best model\n",
            "2024-08-13 09:58:54,654 ----------------------------------------------------------------------------------------------------\n",
            "2024-08-13 09:58:55,058 epoch 11 - iter 1/8 - loss 0.18975838 - time (sec): 0.39 - samples/sec: 162.95 - lr: 0.100000 - momentum: 0.000000\n",
            "2024-08-13 09:58:56,481 epoch 11 - iter 2/8 - loss 0.28034940 - time (sec): 1.82 - samples/sec: 70.49 - lr: 0.100000 - momentum: 0.000000\n",
            "2024-08-13 09:58:57,251 epoch 11 - iter 3/8 - loss 0.25970908 - time (sec): 2.59 - samples/sec: 74.25 - lr: 0.100000 - momentum: 0.000000\n",
            "2024-08-13 09:58:57,782 epoch 11 - iter 4/8 - loss 0.27575745 - time (sec): 3.12 - samples/sec: 82.13 - lr: 0.100000 - momentum: 0.000000\n",
            "2024-08-13 09:58:58,391 epoch 11 - iter 5/8 - loss 0.34165570 - time (sec): 3.73 - samples/sec: 85.88 - lr: 0.100000 - momentum: 0.000000\n",
            "2024-08-13 09:58:58,985 epoch 11 - iter 6/8 - loss 0.33352946 - time (sec): 4.32 - samples/sec: 88.89 - lr: 0.100000 - momentum: 0.000000\n",
            "2024-08-13 09:59:00,283 epoch 11 - iter 7/8 - loss 0.32993805 - time (sec): 5.62 - samples/sec: 79.74 - lr: 0.100000 - momentum: 0.000000\n",
            "2024-08-13 09:59:00,616 epoch 11 - iter 8/8 - loss 0.32852598 - time (sec): 5.95 - samples/sec: 82.68 - lr: 0.100000 - momentum: 0.000000\n",
            "2024-08-13 09:59:00,620 ----------------------------------------------------------------------------------------------------\n",
            "2024-08-13 09:59:00,626 EPOCH 11 done: loss 0.3285 - lr: 0.100000\n"
          ]
        },
        {
          "output_type": "stream",
          "name": "stderr",
          "text": [
            "100%|██████████| 3/3 [00:00<00:00,  3.57it/s]"
          ]
        },
        {
          "output_type": "stream",
          "name": "stdout",
          "text": [
            "2024-08-13 09:59:01,517 DEV : loss 0.29984790086746216 - f1-score (micro avg)  0.8786\n"
          ]
        },
        {
          "output_type": "stream",
          "name": "stderr",
          "text": [
            "\n"
          ]
        },
        {
          "output_type": "stream",
          "name": "stdout",
          "text": [
            "2024-08-13 09:59:01,800  - 1 epochs without improvement\n",
            "2024-08-13 09:59:01,810  - 1 epochs without improvement\n",
            "2024-08-13 09:59:01,821 ----------------------------------------------------------------------------------------------------\n",
            "2024-08-13 09:59:02,212 epoch 12 - iter 1/8 - loss 0.45776188 - time (sec): 0.39 - samples/sec: 165.03 - lr: 0.100000 - momentum: 0.000000\n",
            "2024-08-13 09:59:03,164 epoch 12 - iter 2/8 - loss 0.36929834 - time (sec): 1.34 - samples/sec: 95.53 - lr: 0.100000 - momentum: 0.000000\n",
            "2024-08-13 09:59:03,551 epoch 12 - iter 3/8 - loss 0.38704666 - time (sec): 1.73 - samples/sec: 111.16 - lr: 0.100000 - momentum: 0.000000\n",
            "2024-08-13 09:59:04,029 epoch 12 - iter 4/8 - loss 0.35929482 - time (sec): 2.21 - samples/sec: 116.09 - lr: 0.100000 - momentum: 0.000000\n",
            "2024-08-13 09:59:04,479 epoch 12 - iter 5/8 - loss 0.36970084 - time (sec): 2.65 - samples/sec: 120.54 - lr: 0.100000 - momentum: 0.000000\n",
            "2024-08-13 09:59:04,880 epoch 12 - iter 6/8 - loss 0.35570499 - time (sec): 3.06 - samples/sec: 125.68 - lr: 0.100000 - momentum: 0.000000\n",
            "2024-08-13 09:59:05,298 epoch 12 - iter 7/8 - loss 0.35060587 - time (sec): 3.47 - samples/sec: 128.97 - lr: 0.100000 - momentum: 0.000000\n",
            "2024-08-13 09:59:06,358 epoch 12 - iter 8/8 - loss 0.34895966 - time (sec): 4.53 - samples/sec: 108.51 - lr: 0.100000 - momentum: 0.000000\n",
            "2024-08-13 09:59:06,365 ----------------------------------------------------------------------------------------------------\n",
            "2024-08-13 09:59:06,367 EPOCH 12 done: loss 0.3490 - lr: 0.100000\n"
          ]
        },
        {
          "output_type": "stream",
          "name": "stderr",
          "text": [
            "100%|██████████| 3/3 [00:00<00:00,  3.69it/s]"
          ]
        },
        {
          "output_type": "stream",
          "name": "stdout",
          "text": [
            "2024-08-13 09:59:07,220 DEV : loss 0.28729841113090515 - f1-score (micro avg)  0.8857\n"
          ]
        },
        {
          "output_type": "stream",
          "name": "stderr",
          "text": [
            "\n"
          ]
        },
        {
          "output_type": "stream",
          "name": "stdout",
          "text": [
            "2024-08-13 09:59:07,545  - 0 epochs without improvement\n",
            "2024-08-13 09:59:07,558  - 0 epochs without improvement\n",
            "2024-08-13 09:59:07,573 saving best model\n",
            "2024-08-13 09:59:07,602 ----------------------------------------------------------------------------------------------------\n",
            "2024-08-13 09:59:07,975 epoch 13 - iter 1/8 - loss 0.28165525 - time (sec): 0.37 - samples/sec: 174.18 - lr: 0.100000 - momentum: 0.000000\n",
            "2024-08-13 09:59:08,388 epoch 13 - iter 2/8 - loss 0.33200726 - time (sec): 0.78 - samples/sec: 163.89 - lr: 0.100000 - momentum: 0.000000\n",
            "2024-08-13 09:59:09,368 epoch 13 - iter 3/8 - loss 0.31310139 - time (sec): 1.76 - samples/sec: 109.06 - lr: 0.100000 - momentum: 0.000000\n",
            "2024-08-13 09:59:09,759 epoch 13 - iter 4/8 - loss 0.31250110 - time (sec): 2.15 - samples/sec: 118.94 - lr: 0.100000 - momentum: 0.000000\n",
            "2024-08-13 09:59:10,118 epoch 13 - iter 5/8 - loss 0.34348558 - time (sec): 2.51 - samples/sec: 127.45 - lr: 0.100000 - momentum: 0.000000\n",
            "2024-08-13 09:59:10,520 epoch 13 - iter 6/8 - loss 0.33186115 - time (sec): 2.91 - samples/sec: 131.82 - lr: 0.100000 - momentum: 0.000000\n",
            "2024-08-13 09:59:11,205 epoch 13 - iter 7/8 - loss 0.33171261 - time (sec): 3.60 - samples/sec: 124.52 - lr: 0.100000 - momentum: 0.000000\n",
            "2024-08-13 09:59:11,678 epoch 13 - iter 8/8 - loss 0.31901991 - time (sec): 4.07 - samples/sec: 120.86 - lr: 0.100000 - momentum: 0.000000\n",
            "2024-08-13 09:59:11,682 ----------------------------------------------------------------------------------------------------\n",
            "2024-08-13 09:59:11,685 EPOCH 13 done: loss 0.3190 - lr: 0.100000\n"
          ]
        },
        {
          "output_type": "stream",
          "name": "stderr",
          "text": [
            "100%|██████████| 3/3 [00:02<00:00,  1.37it/s]"
          ]
        },
        {
          "output_type": "stream",
          "name": "stdout",
          "text": [
            "2024-08-13 09:59:13,940 DEV : loss 0.27688583731651306 - f1-score (micro avg)  0.8857\n"
          ]
        },
        {
          "output_type": "stream",
          "name": "stderr",
          "text": [
            "\n"
          ]
        },
        {
          "output_type": "stream",
          "name": "stdout",
          "text": [
            "2024-08-13 09:59:14,514  - 0 epochs without improvement\n",
            "2024-08-13 09:59:14,534  - 0 epochs without improvement\n",
            "2024-08-13 09:59:14,555 ----------------------------------------------------------------------------------------------------\n",
            "2024-08-13 09:59:15,299 epoch 14 - iter 1/8 - loss 0.17183279 - time (sec): 0.74 - samples/sec: 86.93 - lr: 0.100000 - momentum: 0.000000\n",
            "2024-08-13 09:59:15,792 epoch 14 - iter 2/8 - loss 0.24708398 - time (sec): 1.23 - samples/sec: 104.14 - lr: 0.100000 - momentum: 0.000000\n",
            "2024-08-13 09:59:16,193 epoch 14 - iter 3/8 - loss 0.33335558 - time (sec): 1.63 - samples/sec: 117.79 - lr: 0.100000 - momentum: 0.000000\n",
            "2024-08-13 09:59:17,187 epoch 14 - iter 4/8 - loss 0.34904470 - time (sec): 2.62 - samples/sec: 97.58 - lr: 0.100000 - momentum: 0.000000\n",
            "2024-08-13 09:59:17,595 epoch 14 - iter 5/8 - loss 0.31104760 - time (sec): 3.03 - samples/sec: 105.55 - lr: 0.100000 - momentum: 0.000000\n",
            "2024-08-13 09:59:17,999 epoch 14 - iter 6/8 - loss 0.31360664 - time (sec): 3.44 - samples/sec: 111.77 - lr: 0.100000 - momentum: 0.000000\n",
            "2024-08-13 09:59:18,468 epoch 14 - iter 7/8 - loss 0.31915635 - time (sec): 3.90 - samples/sec: 114.73 - lr: 0.100000 - momentum: 0.000000\n",
            "2024-08-13 09:59:18,746 epoch 14 - iter 8/8 - loss 0.31228898 - time (sec): 4.18 - samples/sec: 117.63 - lr: 0.100000 - momentum: 0.000000\n",
            "2024-08-13 09:59:18,749 ----------------------------------------------------------------------------------------------------\n",
            "2024-08-13 09:59:18,754 EPOCH 14 done: loss 0.3123 - lr: 0.100000\n"
          ]
        },
        {
          "output_type": "stream",
          "name": "stderr",
          "text": [
            "100%|██████████| 3/3 [00:01<00:00,  1.87it/s]"
          ]
        },
        {
          "output_type": "stream",
          "name": "stdout",
          "text": [
            "2024-08-13 09:59:20,406 DEV : loss 0.27969738841056824 - f1-score (micro avg)  0.8857\n"
          ]
        },
        {
          "output_type": "stream",
          "name": "stderr",
          "text": [
            "\n"
          ]
        },
        {
          "output_type": "stream",
          "name": "stdout",
          "text": [
            "2024-08-13 09:59:20,700  - 1 epochs without improvement\n",
            "2024-08-13 09:59:20,709  - 1 epochs without improvement\n",
            "2024-08-13 09:59:20,717 ----------------------------------------------------------------------------------------------------\n",
            "2024-08-13 09:59:21,125 epoch 15 - iter 1/8 - loss 0.19034541 - time (sec): 0.40 - samples/sec: 158.76 - lr: 0.100000 - momentum: 0.000000\n",
            "2024-08-13 09:59:21,577 epoch 15 - iter 2/8 - loss 0.26348582 - time (sec): 0.86 - samples/sec: 149.61 - lr: 0.100000 - momentum: 0.000000\n",
            "2024-08-13 09:59:22,012 epoch 15 - iter 3/8 - loss 0.31831410 - time (sec): 1.29 - samples/sec: 148.85 - lr: 0.100000 - momentum: 0.000000\n",
            "2024-08-13 09:59:22,380 epoch 15 - iter 4/8 - loss 0.31551898 - time (sec): 1.66 - samples/sec: 154.40 - lr: 0.100000 - momentum: 0.000000\n",
            "2024-08-13 09:59:23,529 epoch 15 - iter 5/8 - loss 0.33132988 - time (sec): 2.81 - samples/sec: 113.98 - lr: 0.100000 - momentum: 0.000000\n",
            "2024-08-13 09:59:23,884 epoch 15 - iter 6/8 - loss 0.31320999 - time (sec): 3.16 - samples/sec: 121.46 - lr: 0.100000 - momentum: 0.000000\n",
            "2024-08-13 09:59:24,409 epoch 15 - iter 7/8 - loss 0.31875065 - time (sec): 3.69 - samples/sec: 121.52 - lr: 0.100000 - momentum: 0.000000\n",
            "2024-08-13 09:59:24,722 epoch 15 - iter 8/8 - loss 0.31036159 - time (sec): 4.00 - samples/sec: 123.00 - lr: 0.100000 - momentum: 0.000000\n",
            "2024-08-13 09:59:24,726 ----------------------------------------------------------------------------------------------------\n",
            "2024-08-13 09:59:24,730 EPOCH 15 done: loss 0.3104 - lr: 0.100000\n"
          ]
        },
        {
          "output_type": "stream",
          "name": "stderr",
          "text": [
            "100%|██████████| 3/3 [00:01<00:00,  1.61it/s]"
          ]
        },
        {
          "output_type": "stream",
          "name": "stdout",
          "text": [
            "2024-08-13 09:59:26,653 DEV : loss 0.28494399785995483 - f1-score (micro avg)  0.8857\n"
          ]
        },
        {
          "output_type": "stream",
          "name": "stderr",
          "text": [
            "\n"
          ]
        },
        {
          "output_type": "stream",
          "name": "stdout",
          "text": [
            "2024-08-13 09:59:27,279  - 2 epochs without improvement\n",
            "2024-08-13 09:59:27,296  - 2 epochs without improvement\n",
            "2024-08-13 09:59:27,315 ----------------------------------------------------------------------------------------------------\n",
            "2024-08-13 09:59:28,009 epoch 16 - iter 1/8 - loss 0.18160991 - time (sec): 0.68 - samples/sec: 93.62 - lr: 0.100000 - momentum: 0.000000\n",
            "2024-08-13 09:59:28,690 epoch 16 - iter 2/8 - loss 0.20934206 - time (sec): 1.37 - samples/sec: 93.76 - lr: 0.100000 - momentum: 0.000000\n",
            "2024-08-13 09:59:29,424 epoch 16 - iter 3/8 - loss 0.22280337 - time (sec): 2.10 - samples/sec: 91.47 - lr: 0.100000 - momentum: 0.000000\n",
            "2024-08-13 09:59:30,106 epoch 16 - iter 4/8 - loss 0.23619395 - time (sec): 2.78 - samples/sec: 92.05 - lr: 0.100000 - momentum: 0.000000\n",
            "2024-08-13 09:59:30,530 epoch 16 - iter 5/8 - loss 0.26650696 - time (sec): 3.20 - samples/sec: 99.85 - lr: 0.100000 - momentum: 0.000000\n",
            "2024-08-13 09:59:31,779 epoch 16 - iter 6/8 - loss 0.27465125 - time (sec): 4.45 - samples/sec: 86.21 - lr: 0.100000 - momentum: 0.000000\n",
            "2024-08-13 09:59:32,199 epoch 16 - iter 7/8 - loss 0.29864124 - time (sec): 4.87 - samples/sec: 91.92 - lr: 0.100000 - momentum: 0.000000\n",
            "2024-08-13 09:59:32,493 epoch 16 - iter 8/8 - loss 0.29596560 - time (sec): 5.17 - samples/sec: 95.21 - lr: 0.100000 - momentum: 0.000000\n",
            "2024-08-13 09:59:32,501 ----------------------------------------------------------------------------------------------------\n",
            "2024-08-13 09:59:32,519 EPOCH 16 done: loss 0.2960 - lr: 0.100000\n"
          ]
        },
        {
          "output_type": "stream",
          "name": "stderr",
          "text": [
            "100%|██████████| 3/3 [00:00<00:00,  3.30it/s]"
          ]
        },
        {
          "output_type": "stream",
          "name": "stdout",
          "text": [
            "2024-08-13 09:59:33,505 DEV : loss 0.3774682581424713 - f1-score (micro avg)  0.8643\n"
          ]
        },
        {
          "output_type": "stream",
          "name": "stderr",
          "text": [
            "\n"
          ]
        },
        {
          "output_type": "stream",
          "name": "stdout",
          "text": [
            "2024-08-13 09:59:34,656  - 3 epochs without improvement\n",
            "2024-08-13 09:59:34,667  - 3 epochs without improvement\n",
            "2024-08-13 09:59:34,693 ----------------------------------------------------------------------------------------------------\n",
            "2024-08-13 09:59:35,084 epoch 17 - iter 1/8 - loss 0.36831707 - time (sec): 0.38 - samples/sec: 166.26 - lr: 0.100000 - momentum: 0.000000\n",
            "2024-08-13 09:59:35,547 epoch 17 - iter 2/8 - loss 0.33159833 - time (sec): 0.85 - samples/sec: 150.82 - lr: 0.100000 - momentum: 0.000000\n",
            "2024-08-13 09:59:36,012 epoch 17 - iter 3/8 - loss 0.32555293 - time (sec): 1.31 - samples/sec: 146.26 - lr: 0.100000 - momentum: 0.000000\n",
            "2024-08-13 09:59:36,443 epoch 17 - iter 4/8 - loss 0.33673686 - time (sec): 1.74 - samples/sec: 146.78 - lr: 0.100000 - momentum: 0.000000\n",
            "2024-08-13 09:59:36,823 epoch 17 - iter 5/8 - loss 0.34197271 - time (sec): 2.12 - samples/sec: 150.62 - lr: 0.100000 - momentum: 0.000000\n",
            "2024-08-13 09:59:38,071 epoch 17 - iter 6/8 - loss 0.32804134 - time (sec): 3.37 - samples/sec: 113.86 - lr: 0.100000 - momentum: 0.000000\n",
            "2024-08-13 09:59:38,470 epoch 17 - iter 7/8 - loss 0.31496055 - time (sec): 3.77 - samples/sec: 118.79 - lr: 0.100000 - momentum: 0.000000\n",
            "2024-08-13 09:59:38,721 epoch 17 - iter 8/8 - loss 0.30916675 - time (sec): 4.02 - samples/sec: 122.31 - lr: 0.100000 - momentum: 0.000000\n",
            "2024-08-13 09:59:38,726 ----------------------------------------------------------------------------------------------------\n",
            "2024-08-13 09:59:38,730 EPOCH 17 done: loss 0.3092 - lr: 0.100000\n"
          ]
        },
        {
          "output_type": "stream",
          "name": "stderr",
          "text": [
            "100%|██████████| 3/3 [00:00<00:00,  3.50it/s]"
          ]
        },
        {
          "output_type": "stream",
          "name": "stdout",
          "text": [
            "2024-08-13 09:59:39,641 DEV : loss 0.30662789940834045 - f1-score (micro avg)  0.8786\n"
          ]
        },
        {
          "output_type": "stream",
          "name": "stderr",
          "text": [
            "\n"
          ]
        },
        {
          "output_type": "stream",
          "name": "stdout",
          "text": [
            "2024-08-13 09:59:39,935  - 4 epochs without improvement\n",
            "2024-08-13 09:59:39,946  - 4 epochs without improvement\n",
            "2024-08-13 09:59:39,957 ----------------------------------------------------------------------------------------------------\n",
            "2024-08-13 09:59:41,504 epoch 18 - iter 1/8 - loss 0.28723508 - time (sec): 1.54 - samples/sec: 41.55 - lr: 0.100000 - momentum: 0.000000\n",
            "2024-08-13 09:59:42,166 epoch 18 - iter 2/8 - loss 0.21701235 - time (sec): 2.20 - samples/sec: 58.13 - lr: 0.100000 - momentum: 0.000000\n",
            "2024-08-13 09:59:42,827 epoch 18 - iter 3/8 - loss 0.25974001 - time (sec): 2.86 - samples/sec: 67.07 - lr: 0.100000 - momentum: 0.000000\n",
            "2024-08-13 09:59:43,466 epoch 18 - iter 4/8 - loss 0.24255560 - time (sec): 3.50 - samples/sec: 73.09 - lr: 0.100000 - momentum: 0.000000\n",
            "2024-08-13 09:59:44,144 epoch 18 - iter 5/8 - loss 0.24969958 - time (sec): 4.18 - samples/sec: 76.55 - lr: 0.100000 - momentum: 0.000000\n",
            "2024-08-13 09:59:44,778 epoch 18 - iter 6/8 - loss 0.24485358 - time (sec): 4.81 - samples/sec: 79.77 - lr: 0.100000 - momentum: 0.000000\n",
            "2024-08-13 09:59:46,022 epoch 18 - iter 7/8 - loss 0.25015422 - time (sec): 6.06 - samples/sec: 73.94 - lr: 0.100000 - momentum: 0.000000\n",
            "2024-08-13 09:59:46,330 epoch 18 - iter 8/8 - loss 0.26137528 - time (sec): 6.37 - samples/sec: 77.28 - lr: 0.100000 - momentum: 0.000000\n",
            "2024-08-13 09:59:46,333 ----------------------------------------------------------------------------------------------------\n",
            "2024-08-13 09:59:46,338 EPOCH 18 done: loss 0.2614 - lr: 0.100000\n"
          ]
        },
        {
          "output_type": "stream",
          "name": "stderr",
          "text": [
            "100%|██████████| 3/3 [00:00<00:00,  3.05it/s]"
          ]
        },
        {
          "output_type": "stream",
          "name": "stdout",
          "text": [
            "2024-08-13 09:59:47,380 DEV : loss 0.2845689356327057 - f1-score (micro avg)  0.9\n"
          ]
        },
        {
          "output_type": "stream",
          "name": "stderr",
          "text": [
            "\n"
          ]
        },
        {
          "output_type": "stream",
          "name": "stdout",
          "text": [
            "2024-08-13 09:59:47,694  - 0 epochs without improvement\n",
            "2024-08-13 09:59:47,705  - 0 epochs without improvement\n",
            "2024-08-13 09:59:47,718 saving best model\n",
            "2024-08-13 09:59:47,759 ----------------------------------------------------------------------------------------------------\n",
            "2024-08-13 09:59:48,171 epoch 19 - iter 1/8 - loss 0.25937924 - time (sec): 0.40 - samples/sec: 159.59 - lr: 0.100000 - momentum: 0.000000\n",
            "2024-08-13 09:59:49,119 epoch 19 - iter 2/8 - loss 0.26525150 - time (sec): 1.35 - samples/sec: 94.91 - lr: 0.100000 - momentum: 0.000000\n",
            "2024-08-13 09:59:49,532 epoch 19 - iter 3/8 - loss 0.25349932 - time (sec): 1.76 - samples/sec: 109.00 - lr: 0.100000 - momentum: 0.000000\n",
            "2024-08-13 09:59:49,960 epoch 19 - iter 4/8 - loss 0.26534693 - time (sec): 2.19 - samples/sec: 116.91 - lr: 0.100000 - momentum: 0.000000\n",
            "2024-08-13 09:59:50,407 epoch 19 - iter 5/8 - loss 0.25875693 - time (sec): 2.64 - samples/sec: 121.38 - lr: 0.100000 - momentum: 0.000000\n",
            "2024-08-13 09:59:50,784 epoch 19 - iter 6/8 - loss 0.26541595 - time (sec): 3.01 - samples/sec: 127.43 - lr: 0.100000 - momentum: 0.000000\n",
            "2024-08-13 09:59:51,195 epoch 19 - iter 7/8 - loss 0.26266661 - time (sec): 3.42 - samples/sec: 130.81 - lr: 0.100000 - momentum: 0.000000\n",
            "2024-08-13 09:59:52,023 epoch 19 - iter 8/8 - loss 0.25936489 - time (sec): 4.25 - samples/sec: 115.69 - lr: 0.100000 - momentum: 0.000000\n",
            "2024-08-13 09:59:52,033 ----------------------------------------------------------------------------------------------------\n",
            "2024-08-13 09:59:52,036 EPOCH 19 done: loss 0.2594 - lr: 0.100000\n"
          ]
        },
        {
          "output_type": "stream",
          "name": "stderr",
          "text": [
            "100%|██████████| 3/3 [00:00<00:00,  3.59it/s]"
          ]
        },
        {
          "output_type": "stream",
          "name": "stdout",
          "text": [
            "2024-08-13 09:59:52,912 DEV : loss 0.27599912881851196 - f1-score (micro avg)  0.8929\n"
          ]
        },
        {
          "output_type": "stream",
          "name": "stderr",
          "text": [
            "\n"
          ]
        },
        {
          "output_type": "stream",
          "name": "stdout",
          "text": [
            "2024-08-13 09:59:53,212  - 1 epochs without improvement\n",
            "2024-08-13 09:59:53,221  - 1 epochs without improvement\n",
            "2024-08-13 09:59:53,237 ----------------------------------------------------------------------------------------------------\n",
            "2024-08-13 09:59:53,627 epoch 20 - iter 1/8 - loss 0.21560642 - time (sec): 0.39 - samples/sec: 165.56 - lr: 0.100000 - momentum: 0.000000\n",
            "2024-08-13 09:59:53,978 epoch 20 - iter 2/8 - loss 0.23967768 - time (sec): 0.74 - samples/sec: 173.37 - lr: 0.100000 - momentum: 0.000000\n",
            "2024-08-13 09:59:54,885 epoch 20 - iter 3/8 - loss 0.27705658 - time (sec): 1.64 - samples/sec: 116.75 - lr: 0.100000 - momentum: 0.000000\n",
            "2024-08-13 09:59:55,278 epoch 20 - iter 4/8 - loss 0.23230621 - time (sec): 2.04 - samples/sec: 125.63 - lr: 0.100000 - momentum: 0.000000\n",
            "2024-08-13 09:59:55,709 epoch 20 - iter 5/8 - loss 0.24429626 - time (sec): 2.47 - samples/sec: 129.64 - lr: 0.100000 - momentum: 0.000000\n",
            "2024-08-13 09:59:56,400 epoch 20 - iter 6/8 - loss 0.26483839 - time (sec): 3.16 - samples/sec: 121.53 - lr: 0.100000 - momentum: 0.000000\n",
            "2024-08-13 09:59:57,083 epoch 20 - iter 7/8 - loss 0.26021101 - time (sec): 3.84 - samples/sec: 116.59 - lr: 0.100000 - momentum: 0.000000\n",
            "2024-08-13 09:59:57,597 epoch 20 - iter 8/8 - loss 0.25794229 - time (sec): 4.36 - samples/sec: 112.93 - lr: 0.100000 - momentum: 0.000000\n",
            "2024-08-13 09:59:57,605 ----------------------------------------------------------------------------------------------------\n",
            "2024-08-13 09:59:57,611 EPOCH 20 done: loss 0.2579 - lr: 0.100000\n"
          ]
        },
        {
          "output_type": "stream",
          "name": "stderr",
          "text": [
            "100%|██████████| 3/3 [00:02<00:00,  1.37it/s]"
          ]
        },
        {
          "output_type": "stream",
          "name": "stdout",
          "text": [
            "2024-08-13 09:59:59,877 DEV : loss 0.26274195313453674 - f1-score (micro avg)  0.9\n"
          ]
        },
        {
          "output_type": "stream",
          "name": "stderr",
          "text": [
            "\n"
          ]
        },
        {
          "output_type": "stream",
          "name": "stdout",
          "text": [
            "2024-08-13 10:00:00,385  - 0 epochs without improvement\n",
            "2024-08-13 10:00:00,400  - 0 epochs without improvement\n",
            "2024-08-13 10:00:00,415 ----------------------------------------------------------------------------------------------------\n",
            "2024-08-13 10:00:01,188 epoch 21 - iter 1/8 - loss 0.12678960 - time (sec): 0.77 - samples/sec: 83.40 - lr: 0.100000 - momentum: 0.000000\n",
            "2024-08-13 10:00:01,867 epoch 21 - iter 2/8 - loss 0.19351636 - time (sec): 1.45 - samples/sec: 88.46 - lr: 0.100000 - momentum: 0.000000\n",
            "2024-08-13 10:00:03,156 epoch 21 - iter 3/8 - loss 0.22953172 - time (sec): 2.74 - samples/sec: 70.17 - lr: 0.100000 - momentum: 0.000000\n",
            "2024-08-13 10:00:03,576 epoch 21 - iter 4/8 - loss 0.34236316 - time (sec): 3.16 - samples/sec: 81.13 - lr: 0.100000 - momentum: 0.000000\n",
            "2024-08-13 10:00:03,951 epoch 21 - iter 5/8 - loss 0.31462311 - time (sec): 3.53 - samples/sec: 90.63 - lr: 0.100000 - momentum: 0.000000\n",
            "2024-08-13 10:00:04,357 epoch 21 - iter 6/8 - loss 0.32664758 - time (sec): 3.94 - samples/sec: 97.53 - lr: 0.100000 - momentum: 0.000000\n",
            "2024-08-13 10:00:04,736 epoch 21 - iter 7/8 - loss 0.29220005 - time (sec): 4.32 - samples/sec: 103.81 - lr: 0.100000 - momentum: 0.000000\n",
            "2024-08-13 10:00:05,021 epoch 21 - iter 8/8 - loss 0.29586747 - time (sec): 4.60 - samples/sec: 106.94 - lr: 0.100000 - momentum: 0.000000\n",
            "2024-08-13 10:00:05,034 ----------------------------------------------------------------------------------------------------\n",
            "2024-08-13 10:00:05,042 EPOCH 21 done: loss 0.2959 - lr: 0.100000\n"
          ]
        },
        {
          "output_type": "stream",
          "name": "stderr",
          "text": [
            "100%|██████████| 3/3 [00:01<00:00,  1.71it/s]"
          ]
        },
        {
          "output_type": "stream",
          "name": "stdout",
          "text": [
            "2024-08-13 10:00:06,838 DEV : loss 0.3018210828304291 - f1-score (micro avg)  0.8571\n"
          ]
        },
        {
          "output_type": "stream",
          "name": "stderr",
          "text": [
            "\n"
          ]
        },
        {
          "output_type": "stream",
          "name": "stdout",
          "text": [
            "2024-08-13 10:00:07,160  - 1 epochs without improvement\n",
            "2024-08-13 10:00:07,170  - 1 epochs without improvement\n",
            "2024-08-13 10:00:07,183 ----------------------------------------------------------------------------------------------------\n",
            "2024-08-13 10:00:07,642 epoch 22 - iter 1/8 - loss 0.22429204 - time (sec): 0.45 - samples/sec: 141.44 - lr: 0.100000 - momentum: 0.000000\n",
            "2024-08-13 10:00:08,062 epoch 22 - iter 2/8 - loss 0.24308687 - time (sec): 0.87 - samples/sec: 146.58 - lr: 0.100000 - momentum: 0.000000\n",
            "2024-08-13 10:00:08,499 epoch 22 - iter 3/8 - loss 0.21945639 - time (sec): 1.31 - samples/sec: 146.62 - lr: 0.100000 - momentum: 0.000000\n",
            "2024-08-13 10:00:09,834 epoch 22 - iter 4/8 - loss 0.25027052 - time (sec): 2.65 - samples/sec: 96.79 - lr: 0.100000 - momentum: 0.000000\n",
            "2024-08-13 10:00:10,229 epoch 22 - iter 5/8 - loss 0.25797985 - time (sec): 3.04 - samples/sec: 105.26 - lr: 0.100000 - momentum: 0.000000\n",
            "2024-08-13 10:00:10,688 epoch 22 - iter 6/8 - loss 0.27135912 - time (sec): 3.50 - samples/sec: 109.75 - lr: 0.100000 - momentum: 0.000000\n",
            "2024-08-13 10:00:11,057 epoch 22 - iter 7/8 - loss 0.26101123 - time (sec): 3.87 - samples/sec: 115.84 - lr: 0.100000 - momentum: 0.000000\n",
            "2024-08-13 10:00:11,297 epoch 22 - iter 8/8 - loss 0.25892391 - time (sec): 4.11 - samples/sec: 119.77 - lr: 0.100000 - momentum: 0.000000\n",
            "2024-08-13 10:00:11,300 ----------------------------------------------------------------------------------------------------\n",
            "2024-08-13 10:00:11,304 EPOCH 22 done: loss 0.2589 - lr: 0.100000\n"
          ]
        },
        {
          "output_type": "stream",
          "name": "stderr",
          "text": [
            "100%|██████████| 3/3 [00:01<00:00,  1.64it/s]"
          ]
        },
        {
          "output_type": "stream",
          "name": "stdout",
          "text": [
            "2024-08-13 10:00:13,204 DEV : loss 0.2755493223667145 - f1-score (micro avg)  0.8786\n"
          ]
        },
        {
          "output_type": "stream",
          "name": "stderr",
          "text": [
            "\n"
          ]
        },
        {
          "output_type": "stream",
          "name": "stdout",
          "text": [
            "2024-08-13 10:00:13,787  - 2 epochs without improvement\n",
            "2024-08-13 10:00:13,822  - 2 epochs without improvement\n",
            "2024-08-13 10:00:13,837 ----------------------------------------------------------------------------------------------------\n",
            "2024-08-13 10:00:14,533 epoch 23 - iter 1/8 - loss 0.20957413 - time (sec): 0.69 - samples/sec: 93.15 - lr: 0.100000 - momentum: 0.000000\n",
            "2024-08-13 10:00:15,251 epoch 23 - iter 2/8 - loss 0.18412125 - time (sec): 1.41 - samples/sec: 91.06 - lr: 0.100000 - momentum: 0.000000\n",
            "2024-08-13 10:00:15,979 epoch 23 - iter 3/8 - loss 0.19213514 - time (sec): 2.13 - samples/sec: 90.00 - lr: 0.100000 - momentum: 0.000000\n",
            "2024-08-13 10:00:16,767 epoch 23 - iter 4/8 - loss 0.28147143 - time (sec): 2.92 - samples/sec: 87.63 - lr: 0.100000 - momentum: 0.000000\n",
            "2024-08-13 10:00:17,906 epoch 23 - iter 5/8 - loss 0.25457472 - time (sec): 4.06 - samples/sec: 78.81 - lr: 0.100000 - momentum: 0.000000\n",
            "2024-08-13 10:00:18,309 epoch 23 - iter 6/8 - loss 0.25943883 - time (sec): 4.46 - samples/sec: 86.02 - lr: 0.100000 - momentum: 0.000000\n",
            "2024-08-13 10:00:18,716 epoch 23 - iter 7/8 - loss 0.25353186 - time (sec): 4.87 - samples/sec: 91.98 - lr: 0.100000 - momentum: 0.000000\n",
            "2024-08-13 10:00:18,994 epoch 23 - iter 8/8 - loss 0.25557218 - time (sec): 5.15 - samples/sec: 95.57 - lr: 0.100000 - momentum: 0.000000\n",
            "2024-08-13 10:00:18,999 ----------------------------------------------------------------------------------------------------\n",
            "2024-08-13 10:00:19,006 EPOCH 23 done: loss 0.2556 - lr: 0.100000\n"
          ]
        },
        {
          "output_type": "stream",
          "name": "stderr",
          "text": [
            "100%|██████████| 3/3 [00:00<00:00,  3.63it/s]"
          ]
        },
        {
          "output_type": "stream",
          "name": "stdout",
          "text": [
            "2024-08-13 10:00:19,867 DEV : loss 0.2618871033191681 - f1-score (micro avg)  0.9\n"
          ]
        },
        {
          "output_type": "stream",
          "name": "stderr",
          "text": [
            "\n"
          ]
        },
        {
          "output_type": "stream",
          "name": "stdout",
          "text": [
            "2024-08-13 10:00:20,904  - 0 epochs without improvement\n",
            "2024-08-13 10:00:20,916  - 0 epochs without improvement\n",
            "2024-08-13 10:00:20,931 ----------------------------------------------------------------------------------------------------\n",
            "2024-08-13 10:00:21,386 epoch 24 - iter 1/8 - loss 0.14210506 - time (sec): 0.45 - samples/sec: 143.51 - lr: 0.100000 - momentum: 0.000000\n",
            "2024-08-13 10:00:21,800 epoch 24 - iter 2/8 - loss 0.17741657 - time (sec): 0.86 - samples/sec: 148.85 - lr: 0.100000 - momentum: 0.000000\n",
            "2024-08-13 10:00:22,234 epoch 24 - iter 3/8 - loss 0.18396828 - time (sec): 1.29 - samples/sec: 148.40 - lr: 0.100000 - momentum: 0.000000\n",
            "2024-08-13 10:00:22,642 epoch 24 - iter 4/8 - loss 0.14687127 - time (sec): 1.70 - samples/sec: 150.45 - lr: 0.100000 - momentum: 0.000000\n",
            "2024-08-13 10:00:23,089 epoch 24 - iter 5/8 - loss 0.17673222 - time (sec): 2.15 - samples/sec: 148.94 - lr: 0.100000 - momentum: 0.000000\n",
            "2024-08-13 10:00:24,351 epoch 24 - iter 6/8 - loss 0.18393173 - time (sec): 3.41 - samples/sec: 112.59 - lr: 0.100000 - momentum: 0.000000\n",
            "2024-08-13 10:00:24,798 epoch 24 - iter 7/8 - loss 0.22229448 - time (sec): 3.86 - samples/sec: 116.13 - lr: 0.100000 - momentum: 0.000000\n",
            "2024-08-13 10:00:25,107 epoch 24 - iter 8/8 - loss 0.23316205 - time (sec): 4.17 - samples/sec: 118.08 - lr: 0.100000 - momentum: 0.000000\n",
            "2024-08-13 10:00:25,113 ----------------------------------------------------------------------------------------------------\n",
            "2024-08-13 10:00:25,116 EPOCH 24 done: loss 0.2332 - lr: 0.100000\n"
          ]
        },
        {
          "output_type": "stream",
          "name": "stderr",
          "text": [
            "100%|██████████| 3/3 [00:00<00:00,  3.68it/s]"
          ]
        },
        {
          "output_type": "stream",
          "name": "stdout",
          "text": [
            "2024-08-13 10:00:25,969 DEV : loss 0.28353068232536316 - f1-score (micro avg)  0.9\n"
          ]
        },
        {
          "output_type": "stream",
          "name": "stderr",
          "text": [
            "\n"
          ]
        },
        {
          "output_type": "stream",
          "name": "stdout",
          "text": [
            "2024-08-13 10:00:27,172  - 1 epochs without improvement\n",
            "2024-08-13 10:00:27,191  - 1 epochs without improvement\n",
            "2024-08-13 10:00:27,206 ----------------------------------------------------------------------------------------------------\n",
            "2024-08-13 10:00:27,815 epoch 25 - iter 1/8 - loss 0.28111801 - time (sec): 0.60 - samples/sec: 106.14 - lr: 0.100000 - momentum: 0.000000\n",
            "2024-08-13 10:00:28,420 epoch 25 - iter 2/8 - loss 0.28264469 - time (sec): 1.21 - samples/sec: 106.00 - lr: 0.100000 - momentum: 0.000000\n",
            "2024-08-13 10:00:29,017 epoch 25 - iter 3/8 - loss 0.26784048 - time (sec): 1.80 - samples/sec: 106.40 - lr: 0.100000 - momentum: 0.000000\n",
            "2024-08-13 10:00:29,623 epoch 25 - iter 4/8 - loss 0.24684593 - time (sec): 2.41 - samples/sec: 106.18 - lr: 0.100000 - momentum: 0.000000\n",
            "2024-08-13 10:00:30,273 epoch 25 - iter 5/8 - loss 0.24476913 - time (sec): 3.06 - samples/sec: 104.56 - lr: 0.100000 - momentum: 0.000000\n",
            "2024-08-13 10:00:30,856 epoch 25 - iter 6/8 - loss 0.23275574 - time (sec): 3.64 - samples/sec: 105.39 - lr: 0.100000 - momentum: 0.000000\n",
            "2024-08-13 10:00:32,468 epoch 25 - iter 7/8 - loss 0.21638634 - time (sec): 5.26 - samples/sec: 85.24 - lr: 0.100000 - momentum: 0.000000\n",
            "2024-08-13 10:00:32,751 epoch 25 - iter 8/8 - loss 0.21909016 - time (sec): 5.54 - samples/sec: 88.84 - lr: 0.100000 - momentum: 0.000000\n",
            "2024-08-13 10:00:32,756 ----------------------------------------------------------------------------------------------------\n",
            "2024-08-13 10:00:32,761 EPOCH 25 done: loss 0.2191 - lr: 0.100000\n"
          ]
        },
        {
          "output_type": "stream",
          "name": "stderr",
          "text": [
            "100%|██████████| 3/3 [00:00<00:00,  3.38it/s]"
          ]
        },
        {
          "output_type": "stream",
          "name": "stdout",
          "text": [
            "2024-08-13 10:00:33,685 DEV : loss 0.2911754548549652 - f1-score (micro avg)  0.9\n"
          ]
        },
        {
          "output_type": "stream",
          "name": "stderr",
          "text": [
            "\n"
          ]
        },
        {
          "output_type": "stream",
          "name": "stdout",
          "text": [
            "2024-08-13 10:00:33,969  - 2 epochs without improvement\n",
            "2024-08-13 10:00:33,980  - 2 epochs without improvement\n",
            "2024-08-13 10:00:33,992 ----------------------------------------------------------------------------------------------------\n",
            "2024-08-13 10:00:34,321 epoch 26 - iter 1/8 - loss 0.15391175 - time (sec): 0.32 - samples/sec: 198.33 - lr: 0.100000 - momentum: 0.000000\n",
            "2024-08-13 10:00:35,292 epoch 26 - iter 2/8 - loss 0.18926071 - time (sec): 1.29 - samples/sec: 98.94 - lr: 0.100000 - momentum: 0.000000\n",
            "2024-08-13 10:00:35,676 epoch 26 - iter 3/8 - loss 0.19243777 - time (sec): 1.68 - samples/sec: 114.43 - lr: 0.100000 - momentum: 0.000000\n",
            "2024-08-13 10:00:36,078 epoch 26 - iter 4/8 - loss 0.19604455 - time (sec): 2.08 - samples/sec: 123.08 - lr: 0.100000 - momentum: 0.000000\n",
            "2024-08-13 10:00:36,443 epoch 26 - iter 5/8 - loss 0.20711963 - time (sec): 2.44 - samples/sec: 130.90 - lr: 0.100000 - momentum: 0.000000\n",
            "2024-08-13 10:00:36,817 epoch 26 - iter 6/8 - loss 0.20480518 - time (sec): 2.82 - samples/sec: 136.26 - lr: 0.100000 - momentum: 0.000000\n",
            "2024-08-13 10:00:37,785 epoch 26 - iter 7/8 - loss 0.20887044 - time (sec): 3.79 - samples/sec: 118.30 - lr: 0.100000 - momentum: 0.000000\n",
            "2024-08-13 10:00:38,033 epoch 26 - iter 8/8 - loss 0.21182017 - time (sec): 4.03 - samples/sec: 121.94 - lr: 0.100000 - momentum: 0.000000\n",
            "2024-08-13 10:00:38,038 ----------------------------------------------------------------------------------------------------\n",
            "2024-08-13 10:00:38,041 EPOCH 26 done: loss 0.2118 - lr: 0.100000\n"
          ]
        },
        {
          "output_type": "stream",
          "name": "stderr",
          "text": [
            "100%|██████████| 3/3 [00:00<00:00,  3.38it/s]"
          ]
        },
        {
          "output_type": "stream",
          "name": "stdout",
          "text": [
            "2024-08-13 10:00:38,971 DEV : loss 0.28270962834358215 - f1-score (micro avg)  0.9\n"
          ]
        },
        {
          "output_type": "stream",
          "name": "stderr",
          "text": [
            "\n"
          ]
        },
        {
          "output_type": "stream",
          "name": "stdout",
          "text": [
            "2024-08-13 10:00:39,331  - 3 epochs without improvement\n",
            "2024-08-13 10:00:39,345  - 3 epochs without improvement\n",
            "2024-08-13 10:00:39,365 ----------------------------------------------------------------------------------------------------\n",
            "2024-08-13 10:00:39,795 epoch 27 - iter 1/8 - loss 0.28747258 - time (sec): 0.42 - samples/sec: 151.30 - lr: 0.100000 - momentum: 0.000000\n",
            "2024-08-13 10:00:40,680 epoch 27 - iter 2/8 - loss 0.23795974 - time (sec): 1.31 - samples/sec: 97.88 - lr: 0.100000 - momentum: 0.000000\n",
            "2024-08-13 10:00:41,051 epoch 27 - iter 3/8 - loss 0.23993590 - time (sec): 1.68 - samples/sec: 114.40 - lr: 0.100000 - momentum: 0.000000\n",
            "2024-08-13 10:00:41,450 epoch 27 - iter 4/8 - loss 0.20667288 - time (sec): 2.08 - samples/sec: 123.24 - lr: 0.100000 - momentum: 0.000000\n",
            "2024-08-13 10:00:41,876 epoch 27 - iter 5/8 - loss 0.21677346 - time (sec): 2.50 - samples/sec: 127.79 - lr: 0.100000 - momentum: 0.000000\n",
            "2024-08-13 10:00:42,320 epoch 27 - iter 6/8 - loss 0.21928965 - time (sec): 2.95 - samples/sec: 130.28 - lr: 0.100000 - momentum: 0.000000\n",
            "2024-08-13 10:00:42,889 epoch 27 - iter 7/8 - loss 0.21938500 - time (sec): 3.52 - samples/sec: 127.40 - lr: 0.100000 - momentum: 0.000000\n",
            "2024-08-13 10:00:43,999 epoch 27 - iter 8/8 - loss 0.21259844 - time (sec): 4.63 - samples/sec: 106.33 - lr: 0.100000 - momentum: 0.000000\n",
            "2024-08-13 10:00:44,006 ----------------------------------------------------------------------------------------------------\n",
            "2024-08-13 10:00:44,012 EPOCH 27 done: loss 0.2126 - lr: 0.100000\n"
          ]
        },
        {
          "output_type": "stream",
          "name": "stderr",
          "text": [
            "100%|██████████| 3/3 [00:01<00:00,  2.22it/s]"
          ]
        },
        {
          "output_type": "stream",
          "name": "stdout",
          "text": [
            "2024-08-13 10:00:45,423 DEV : loss 0.3110453486442566 - f1-score (micro avg)  0.9\n"
          ]
        },
        {
          "output_type": "stream",
          "name": "stderr",
          "text": [
            "\n"
          ]
        },
        {
          "output_type": "stream",
          "name": "stdout",
          "text": [
            "2024-08-13 10:00:45,951  - 4 epochs without improvement\n",
            "2024-08-13 10:00:45,964  - 4 epochs without improvement\n",
            "2024-08-13 10:00:45,979 ----------------------------------------------------------------------------------------------------\n",
            "2024-08-13 10:00:46,641 epoch 28 - iter 1/8 - loss 0.23658369 - time (sec): 0.66 - samples/sec: 97.38 - lr: 0.100000 - momentum: 0.000000\n",
            "2024-08-13 10:00:47,386 epoch 28 - iter 2/8 - loss 0.19220969 - time (sec): 1.40 - samples/sec: 91.27 - lr: 0.100000 - momentum: 0.000000\n",
            "2024-08-13 10:00:48,448 epoch 28 - iter 3/8 - loss 0.22962987 - time (sec): 2.46 - samples/sec: 77.91 - lr: 0.100000 - momentum: 0.000000\n",
            "2024-08-13 10:00:48,832 epoch 28 - iter 4/8 - loss 0.22707619 - time (sec): 2.85 - samples/sec: 89.89 - lr: 0.100000 - momentum: 0.000000\n",
            "2024-08-13 10:00:49,297 epoch 28 - iter 5/8 - loss 0.21047831 - time (sec): 3.31 - samples/sec: 96.59 - lr: 0.100000 - momentum: 0.000000\n",
            "2024-08-13 10:00:49,741 epoch 28 - iter 6/8 - loss 0.23597688 - time (sec): 3.76 - samples/sec: 102.19 - lr: 0.100000 - momentum: 0.000000\n",
            "2024-08-13 10:00:50,126 epoch 28 - iter 7/8 - loss 0.21548074 - time (sec): 4.14 - samples/sec: 108.15 - lr: 0.100000 - momentum: 0.000000\n",
            "2024-08-13 10:00:50,430 epoch 28 - iter 8/8 - loss 0.21800142 - time (sec): 4.45 - samples/sec: 110.65 - lr: 0.100000 - momentum: 0.000000\n",
            "2024-08-13 10:00:50,434 ----------------------------------------------------------------------------------------------------\n",
            "2024-08-13 10:00:50,437 EPOCH 28 done: loss 0.2180 - lr: 0.100000\n"
          ]
        },
        {
          "output_type": "stream",
          "name": "stderr",
          "text": [
            "100%|██████████| 3/3 [00:01<00:00,  1.88it/s]"
          ]
        },
        {
          "output_type": "stream",
          "name": "stdout",
          "text": [
            "2024-08-13 10:00:52,071 DEV : loss 0.2723904252052307 - f1-score (micro avg)  0.9143\n"
          ]
        },
        {
          "output_type": "stream",
          "name": "stderr",
          "text": [
            "\n"
          ]
        },
        {
          "output_type": "stream",
          "name": "stdout",
          "text": [
            "2024-08-13 10:00:52,418  - 0 epochs without improvement\n",
            "2024-08-13 10:00:52,445  - 0 epochs without improvement\n",
            "2024-08-13 10:00:52,460 saving best model\n",
            "2024-08-13 10:00:52,492 ----------------------------------------------------------------------------------------------------\n",
            "2024-08-13 10:00:52,870 epoch 29 - iter 1/8 - loss 0.22725394 - time (sec): 0.37 - samples/sec: 173.27 - lr: 0.100000 - momentum: 0.000000\n",
            "2024-08-13 10:00:53,301 epoch 29 - iter 2/8 - loss 0.24077110 - time (sec): 0.80 - samples/sec: 160.03 - lr: 0.100000 - momentum: 0.000000\n",
            "2024-08-13 10:00:53,689 epoch 29 - iter 3/8 - loss 0.22459840 - time (sec): 1.19 - samples/sec: 161.64 - lr: 0.100000 - momentum: 0.000000\n",
            "2024-08-13 10:00:54,839 epoch 29 - iter 4/8 - loss 0.21209476 - time (sec): 2.34 - samples/sec: 109.49 - lr: 0.100000 - momentum: 0.000000\n",
            "2024-08-13 10:00:55,242 epoch 29 - iter 5/8 - loss 0.20880927 - time (sec): 2.74 - samples/sec: 116.72 - lr: 0.100000 - momentum: 0.000000\n",
            "2024-08-13 10:00:55,662 epoch 29 - iter 6/8 - loss 0.21177837 - time (sec): 3.16 - samples/sec: 121.49 - lr: 0.100000 - momentum: 0.000000\n",
            "2024-08-13 10:00:56,096 epoch 29 - iter 7/8 - loss 0.20293249 - time (sec): 3.60 - samples/sec: 124.60 - lr: 0.100000 - momentum: 0.000000\n",
            "2024-08-13 10:00:56,332 epoch 29 - iter 8/8 - loss 0.20337730 - time (sec): 3.83 - samples/sec: 128.42 - lr: 0.100000 - momentum: 0.000000\n",
            "2024-08-13 10:00:56,334 ----------------------------------------------------------------------------------------------------\n",
            "2024-08-13 10:00:56,338 EPOCH 29 done: loss 0.2034 - lr: 0.100000\n"
          ]
        },
        {
          "output_type": "stream",
          "name": "stderr",
          "text": [
            "100%|██████████| 3/3 [00:01<00:00,  1.54it/s]"
          ]
        },
        {
          "output_type": "stream",
          "name": "stdout",
          "text": [
            "2024-08-13 10:00:58,335 DEV : loss 0.2896087169647217 - f1-score (micro avg)  0.9\n"
          ]
        },
        {
          "output_type": "stream",
          "name": "stderr",
          "text": [
            "\n"
          ]
        },
        {
          "output_type": "stream",
          "name": "stdout",
          "text": [
            "2024-08-13 10:00:58,913  - 1 epochs without improvement\n",
            "2024-08-13 10:00:58,924  - 1 epochs without improvement\n",
            "2024-08-13 10:00:58,936 ----------------------------------------------------------------------------------------------------\n",
            "2024-08-13 10:00:59,531 epoch 30 - iter 1/8 - loss 0.31879395 - time (sec): 0.59 - samples/sec: 108.17 - lr: 0.100000 - momentum: 0.000000\n",
            "2024-08-13 10:01:00,117 epoch 30 - iter 2/8 - loss 0.25382275 - time (sec): 1.18 - samples/sec: 108.68 - lr: 0.100000 - momentum: 0.000000\n",
            "2024-08-13 10:01:00,764 epoch 30 - iter 3/8 - loss 0.23491667 - time (sec): 1.83 - samples/sec: 105.20 - lr: 0.100000 - momentum: 0.000000\n",
            "2024-08-13 10:01:02,475 epoch 30 - iter 4/8 - loss 0.21139507 - time (sec): 3.54 - samples/sec: 72.39 - lr: 0.100000 - momentum: 0.000000\n",
            "2024-08-13 10:01:02,968 epoch 30 - iter 5/8 - loss 0.22655842 - time (sec): 4.03 - samples/sec: 79.42 - lr: 0.100000 - momentum: 0.000000\n",
            "2024-08-13 10:01:03,385 epoch 30 - iter 6/8 - loss 0.21777296 - time (sec): 4.45 - samples/sec: 86.38 - lr: 0.100000 - momentum: 0.000000\n",
            "2024-08-13 10:01:03,752 epoch 30 - iter 7/8 - loss 0.20468137 - time (sec): 4.81 - samples/sec: 93.07 - lr: 0.100000 - momentum: 0.000000\n",
            "2024-08-13 10:01:03,994 epoch 30 - iter 8/8 - loss 0.20461700 - time (sec): 5.06 - samples/sec: 97.32 - lr: 0.100000 - momentum: 0.000000\n",
            "2024-08-13 10:01:04,000 ----------------------------------------------------------------------------------------------------\n",
            "2024-08-13 10:01:04,010 EPOCH 30 done: loss 0.2046 - lr: 0.100000\n"
          ]
        },
        {
          "output_type": "stream",
          "name": "stderr",
          "text": [
            "100%|██████████| 3/3 [00:01<00:00,  1.90it/s]"
          ]
        },
        {
          "output_type": "stream",
          "name": "stdout",
          "text": [
            "2024-08-13 10:01:05,631 DEV : loss 0.2793269753456116 - f1-score (micro avg)  0.9071\n"
          ]
        },
        {
          "output_type": "stream",
          "name": "stderr",
          "text": [
            "\n"
          ]
        },
        {
          "output_type": "stream",
          "name": "stdout",
          "text": [
            "2024-08-13 10:01:05,938  - 2 epochs without improvement\n",
            "2024-08-13 10:01:05,949  - 2 epochs without improvement\n",
            "2024-08-13 10:01:05,960 ----------------------------------------------------------------------------------------------------\n",
            "2024-08-13 10:01:06,404 epoch 31 - iter 1/8 - loss 0.23747163 - time (sec): 0.44 - samples/sec: 145.84 - lr: 0.100000 - momentum: 0.000000\n",
            "2024-08-13 10:01:06,762 epoch 31 - iter 2/8 - loss 0.24839192 - time (sec): 0.80 - samples/sec: 160.66 - lr: 0.100000 - momentum: 0.000000\n",
            "2024-08-13 10:01:07,148 epoch 31 - iter 3/8 - loss 0.20188718 - time (sec): 1.18 - samples/sec: 162.28 - lr: 0.100000 - momentum: 0.000000\n",
            "2024-08-13 10:01:07,492 epoch 31 - iter 4/8 - loss 0.19918275 - time (sec): 1.53 - samples/sec: 167.66 - lr: 0.100000 - momentum: 0.000000\n",
            "2024-08-13 10:01:08,452 epoch 31 - iter 5/8 - loss 0.19222098 - time (sec): 2.49 - samples/sec: 128.69 - lr: 0.100000 - momentum: 0.000000\n",
            "2024-08-13 10:01:08,811 epoch 31 - iter 6/8 - loss 0.18750231 - time (sec): 2.85 - samples/sec: 134.95 - lr: 0.100000 - momentum: 0.000000\n",
            "2024-08-13 10:01:09,182 epoch 31 - iter 7/8 - loss 0.19003293 - time (sec): 3.22 - samples/sec: 139.25 - lr: 0.100000 - momentum: 0.000000\n",
            "2024-08-13 10:01:09,464 epoch 31 - iter 8/8 - loss 0.18846321 - time (sec): 3.50 - samples/sec: 140.62 - lr: 0.100000 - momentum: 0.000000\n",
            "2024-08-13 10:01:09,466 ----------------------------------------------------------------------------------------------------\n",
            "2024-08-13 10:01:09,472 EPOCH 31 done: loss 0.1885 - lr: 0.100000\n"
          ]
        },
        {
          "output_type": "stream",
          "name": "stderr",
          "text": [
            "100%|██████████| 3/3 [00:00<00:00,  3.76it/s]"
          ]
        },
        {
          "output_type": "stream",
          "name": "stdout",
          "text": [
            "2024-08-13 10:01:10,304 DEV : loss 0.28259411454200745 - f1-score (micro avg)  0.9143\n"
          ]
        },
        {
          "output_type": "stream",
          "name": "stderr",
          "text": [
            "\n"
          ]
        },
        {
          "output_type": "stream",
          "name": "stdout",
          "text": [
            "2024-08-13 10:01:11,131  - 3 epochs without improvement\n",
            "2024-08-13 10:01:11,144  - 3 epochs without improvement\n",
            "2024-08-13 10:01:11,156 ----------------------------------------------------------------------------------------------------\n",
            "2024-08-13 10:01:11,518 epoch 32 - iter 1/8 - loss 0.17680338 - time (sec): 0.36 - samples/sec: 179.74 - lr: 0.100000 - momentum: 0.000000\n",
            "2024-08-13 10:01:11,874 epoch 32 - iter 2/8 - loss 0.17322685 - time (sec): 0.71 - samples/sec: 179.78 - lr: 0.100000 - momentum: 0.000000\n",
            "2024-08-13 10:01:12,277 epoch 32 - iter 3/8 - loss 0.16323245 - time (sec): 1.12 - samples/sec: 172.13 - lr: 0.100000 - momentum: 0.000000\n",
            "2024-08-13 10:01:12,713 epoch 32 - iter 4/8 - loss 0.17372795 - time (sec): 1.55 - samples/sec: 165.05 - lr: 0.100000 - momentum: 0.000000\n",
            "2024-08-13 10:01:13,392 epoch 32 - iter 5/8 - loss 0.17295546 - time (sec): 2.23 - samples/sec: 143.51 - lr: 0.100000 - momentum: 0.000000\n",
            "2024-08-13 10:01:15,040 epoch 32 - iter 6/8 - loss 0.18947732 - time (sec): 3.88 - samples/sec: 99.03 - lr: 0.100000 - momentum: 0.000000\n",
            "2024-08-13 10:01:15,659 epoch 32 - iter 7/8 - loss 0.18354252 - time (sec): 4.50 - samples/sec: 99.63 - lr: 0.100000 - momentum: 0.000000\n",
            "2024-08-13 10:01:16,142 epoch 32 - iter 8/8 - loss 0.17760130 - time (sec): 4.98 - samples/sec: 98.80 - lr: 0.100000 - momentum: 0.000000\n",
            "2024-08-13 10:01:16,153 ----------------------------------------------------------------------------------------------------\n",
            "2024-08-13 10:01:16,157 EPOCH 32 done: loss 0.1776 - lr: 0.100000\n"
          ]
        },
        {
          "output_type": "stream",
          "name": "stderr",
          "text": [
            "100%|██████████| 3/3 [00:01<00:00,  1.96it/s]"
          ]
        },
        {
          "output_type": "stream",
          "name": "stdout",
          "text": [
            "2024-08-13 10:01:17,739 DEV : loss 0.28141582012176514 - f1-score (micro avg)  0.9143\n"
          ]
        },
        {
          "output_type": "stream",
          "name": "stderr",
          "text": [
            "\n"
          ]
        },
        {
          "output_type": "stream",
          "name": "stdout",
          "text": [
            "2024-08-13 10:01:18,283  - 4 epochs without improvement\n",
            "2024-08-13 10:01:18,299  - 4 epochs without improvement\n",
            "2024-08-13 10:01:18,317 ----------------------------------------------------------------------------------------------------\n",
            "2024-08-13 10:01:19,624 epoch 33 - iter 1/8 - loss 0.20183246 - time (sec): 1.30 - samples/sec: 49.12 - lr: 0.100000 - momentum: 0.000000\n",
            "2024-08-13 10:01:20,008 epoch 33 - iter 2/8 - loss 0.20211678 - time (sec): 1.69 - samples/sec: 75.90 - lr: 0.100000 - momentum: 0.000000\n",
            "2024-08-13 10:01:20,352 epoch 33 - iter 3/8 - loss 0.16539372 - time (sec): 2.03 - samples/sec: 94.54 - lr: 0.100000 - momentum: 0.000000\n",
            "2024-08-13 10:01:20,734 epoch 33 - iter 4/8 - loss 0.15354778 - time (sec): 2.41 - samples/sec: 106.12 - lr: 0.100000 - momentum: 0.000000\n",
            "2024-08-13 10:01:21,111 epoch 33 - iter 5/8 - loss 0.18085519 - time (sec): 2.79 - samples/sec: 114.69 - lr: 0.100000 - momentum: 0.000000\n",
            "2024-08-13 10:01:21,526 epoch 33 - iter 6/8 - loss 0.17369980 - time (sec): 3.20 - samples/sec: 119.84 - lr: 0.100000 - momentum: 0.000000\n",
            "2024-08-13 10:01:22,471 epoch 33 - iter 7/8 - loss 0.15966396 - time (sec): 4.15 - samples/sec: 107.95 - lr: 0.100000 - momentum: 0.000000\n",
            "2024-08-13 10:01:22,801 epoch 33 - iter 8/8 - loss 0.15450589 - time (sec): 4.48 - samples/sec: 109.84 - lr: 0.100000 - momentum: 0.000000\n",
            "2024-08-13 10:01:22,805 ----------------------------------------------------------------------------------------------------\n",
            "2024-08-13 10:01:22,808 EPOCH 33 done: loss 0.1545 - lr: 0.100000\n"
          ]
        },
        {
          "output_type": "stream",
          "name": "stderr",
          "text": [
            "100%|██████████| 3/3 [00:00<00:00,  3.15it/s]"
          ]
        },
        {
          "output_type": "stream",
          "name": "stdout",
          "text": [
            "2024-08-13 10:01:23,799 DEV : loss 0.3181029260158539 - f1-score (micro avg)  0.9071\n"
          ]
        },
        {
          "output_type": "stream",
          "name": "stderr",
          "text": [
            "\n"
          ]
        },
        {
          "output_type": "stream",
          "name": "stdout",
          "text": [
            "2024-08-13 10:01:24,105  - 5 epochs without improvement\n",
            "2024-08-13 10:01:24,120  - 5 epochs without improvement\n",
            "2024-08-13 10:01:24,137 ----------------------------------------------------------------------------------------------------\n",
            "2024-08-13 10:01:24,538 epoch 34 - iter 1/8 - loss 0.26295123 - time (sec): 0.40 - samples/sec: 161.40 - lr: 0.100000 - momentum: 0.000000\n",
            "2024-08-13 10:01:25,734 epoch 34 - iter 2/8 - loss 0.19831069 - time (sec): 1.59 - samples/sec: 80.41 - lr: 0.100000 - momentum: 0.000000\n",
            "2024-08-13 10:01:26,134 epoch 34 - iter 3/8 - loss 0.16491450 - time (sec): 1.99 - samples/sec: 96.38 - lr: 0.100000 - momentum: 0.000000\n",
            "2024-08-13 10:01:26,558 epoch 34 - iter 4/8 - loss 0.16065286 - time (sec): 2.42 - samples/sec: 105.97 - lr: 0.100000 - momentum: 0.000000\n",
            "2024-08-13 10:01:26,979 epoch 34 - iter 5/8 - loss 0.19599167 - time (sec): 2.84 - samples/sec: 112.77 - lr: 0.100000 - momentum: 0.000000\n",
            "2024-08-13 10:01:27,342 epoch 34 - iter 6/8 - loss 0.18159078 - time (sec): 3.20 - samples/sec: 119.99 - lr: 0.100000 - momentum: 0.000000\n",
            "2024-08-13 10:01:27,781 epoch 34 - iter 7/8 - loss 0.18094019 - time (sec): 3.64 - samples/sec: 123.12 - lr: 0.100000 - momentum: 0.000000\n",
            "2024-08-13 10:01:29,028 epoch 34 - iter 8/8 - loss 0.18062708 - time (sec): 4.89 - samples/sec: 100.69 - lr: 0.100000 - momentum: 0.000000\n",
            "2024-08-13 10:01:29,034 ----------------------------------------------------------------------------------------------------\n",
            "2024-08-13 10:01:29,041 EPOCH 34 done: loss 0.1806 - lr: 0.100000\n"
          ]
        },
        {
          "output_type": "stream",
          "name": "stderr",
          "text": [
            "100%|██████████| 3/3 [00:01<00:00,  2.08it/s]"
          ]
        },
        {
          "output_type": "stream",
          "name": "stdout",
          "text": [
            "2024-08-13 10:01:30,534 DEV : loss 0.3188875615596771 - f1-score (micro avg)  0.9071\n"
          ]
        },
        {
          "output_type": "stream",
          "name": "stderr",
          "text": [
            "\n"
          ]
        },
        {
          "output_type": "stream",
          "name": "stdout",
          "text": [
            "2024-08-13 10:01:31,079  - 6 epochs without improvement (above 'patience')-> annealing learning_rate to [0.05]\n",
            "2024-08-13 10:01:31,095  - 6 epochs without improvement (above 'patience')-> annealing learning_rate to [0.025]\n",
            "2024-08-13 10:01:31,106 ----------------------------------------------------------------------------------------------------\n",
            "2024-08-13 10:01:31,749 epoch 35 - iter 1/8 - loss 0.10431843 - time (sec): 0.64 - samples/sec: 100.51 - lr: 0.025000 - momentum: 0.000000\n",
            "2024-08-13 10:01:32,463 epoch 35 - iter 2/8 - loss 0.14020862 - time (sec): 1.35 - samples/sec: 94.76 - lr: 0.025000 - momentum: 0.000000\n",
            "2024-08-13 10:01:33,926 epoch 35 - iter 3/8 - loss 0.12571726 - time (sec): 2.81 - samples/sec: 68.24 - lr: 0.025000 - momentum: 0.000000\n",
            "2024-08-13 10:01:34,522 epoch 35 - iter 4/8 - loss 0.14187129 - time (sec): 3.41 - samples/sec: 75.08 - lr: 0.025000 - momentum: 0.000000\n",
            "2024-08-13 10:01:34,899 epoch 35 - iter 5/8 - loss 0.12881599 - time (sec): 3.79 - samples/sec: 84.50 - lr: 0.025000 - momentum: 0.000000\n",
            "2024-08-13 10:01:35,320 epoch 35 - iter 6/8 - loss 0.12493285 - time (sec): 4.21 - samples/sec: 91.25 - lr: 0.025000 - momentum: 0.000000\n",
            "2024-08-13 10:01:35,685 epoch 35 - iter 7/8 - loss 0.12677305 - time (sec): 4.57 - samples/sec: 97.96 - lr: 0.025000 - momentum: 0.000000\n",
            "2024-08-13 10:01:35,938 epoch 35 - iter 8/8 - loss 0.12512824 - time (sec): 4.83 - samples/sec: 101.96 - lr: 0.025000 - momentum: 0.000000\n",
            "2024-08-13 10:01:35,942 ----------------------------------------------------------------------------------------------------\n",
            "2024-08-13 10:01:35,945 EPOCH 35 done: loss 0.1251 - lr: 0.025000\n"
          ]
        },
        {
          "output_type": "stream",
          "name": "stderr",
          "text": [
            "100%|██████████| 3/3 [00:01<00:00,  1.78it/s]"
          ]
        },
        {
          "output_type": "stream",
          "name": "stdout",
          "text": [
            "2024-08-13 10:01:37,670 DEV : loss 0.2544688284397125 - f1-score (micro avg)  0.9214\n"
          ]
        },
        {
          "output_type": "stream",
          "name": "stderr",
          "text": [
            "\n"
          ]
        },
        {
          "output_type": "stream",
          "name": "stdout",
          "text": [
            "2024-08-13 10:01:37,969  - 0 epochs without improvement\n",
            "2024-08-13 10:01:37,980  - 0 epochs without improvement\n",
            "2024-08-13 10:01:37,992 saving best model\n",
            "2024-08-13 10:01:38,027 ----------------------------------------------------------------------------------------------------\n",
            "2024-08-13 10:01:38,429 epoch 36 - iter 1/8 - loss 0.06300317 - time (sec): 0.40 - samples/sec: 161.88 - lr: 0.025000 - momentum: 0.000000\n",
            "2024-08-13 10:01:38,824 epoch 36 - iter 2/8 - loss 0.07200211 - time (sec): 0.79 - samples/sec: 161.99 - lr: 0.025000 - momentum: 0.000000\n",
            "2024-08-13 10:01:39,833 epoch 36 - iter 3/8 - loss 0.08863166 - time (sec): 1.80 - samples/sec: 106.71 - lr: 0.025000 - momentum: 0.000000\n",
            "2024-08-13 10:01:40,220 epoch 36 - iter 4/8 - loss 0.09359834 - time (sec): 2.19 - samples/sec: 117.09 - lr: 0.025000 - momentum: 0.000000\n",
            "2024-08-13 10:01:40,655 epoch 36 - iter 5/8 - loss 0.09398976 - time (sec): 2.62 - samples/sec: 122.08 - lr: 0.025000 - momentum: 0.000000\n",
            "2024-08-13 10:01:41,030 epoch 36 - iter 6/8 - loss 0.09251155 - time (sec): 3.00 - samples/sec: 128.18 - lr: 0.025000 - momentum: 0.000000\n",
            "2024-08-13 10:01:41,478 epoch 36 - iter 7/8 - loss 0.09468039 - time (sec): 3.44 - samples/sec: 130.09 - lr: 0.025000 - momentum: 0.000000\n",
            "2024-08-13 10:01:41,759 epoch 36 - iter 8/8 - loss 0.10333744 - time (sec): 3.73 - samples/sec: 132.08 - lr: 0.025000 - momentum: 0.000000\n",
            "2024-08-13 10:01:41,764 ----------------------------------------------------------------------------------------------------\n",
            "2024-08-13 10:01:41,768 EPOCH 36 done: loss 0.1033 - lr: 0.025000\n"
          ]
        },
        {
          "output_type": "stream",
          "name": "stderr",
          "text": [
            "100%|██████████| 3/3 [00:01<00:00,  1.81it/s]"
          ]
        },
        {
          "output_type": "stream",
          "name": "stdout",
          "text": [
            "2024-08-13 10:01:43,462 DEV : loss 0.2594391107559204 - f1-score (micro avg)  0.9\n"
          ]
        },
        {
          "output_type": "stream",
          "name": "stderr",
          "text": [
            "\n"
          ]
        },
        {
          "output_type": "stream",
          "name": "stdout",
          "text": [
            "2024-08-13 10:01:43,759  - 1 epochs without improvement\n",
            "2024-08-13 10:01:43,769  - 1 epochs without improvement\n",
            "2024-08-13 10:01:43,780 ----------------------------------------------------------------------------------------------------\n",
            "2024-08-13 10:01:44,138 epoch 37 - iter 1/8 - loss 0.10650718 - time (sec): 0.35 - samples/sec: 182.19 - lr: 0.025000 - momentum: 0.000000\n",
            "2024-08-13 10:01:44,701 epoch 37 - iter 2/8 - loss 0.09073273 - time (sec): 0.91 - samples/sec: 139.98 - lr: 0.025000 - momentum: 0.000000\n",
            "2024-08-13 10:01:45,353 epoch 37 - iter 3/8 - loss 0.09344729 - time (sec): 1.57 - samples/sec: 122.61 - lr: 0.025000 - momentum: 0.000000\n",
            "2024-08-13 10:01:46,063 epoch 37 - iter 4/8 - loss 0.09425406 - time (sec): 2.28 - samples/sec: 112.46 - lr: 0.025000 - momentum: 0.000000\n",
            "2024-08-13 10:01:47,468 epoch 37 - iter 5/8 - loss 0.09513006 - time (sec): 3.68 - samples/sec: 86.93 - lr: 0.025000 - momentum: 0.000000\n",
            "2024-08-13 10:01:48,222 epoch 37 - iter 6/8 - loss 0.08942644 - time (sec): 4.43 - samples/sec: 86.59 - lr: 0.025000 - momentum: 0.000000\n",
            "2024-08-13 10:01:48,978 epoch 37 - iter 7/8 - loss 0.08315234 - time (sec): 5.19 - samples/sec: 86.30 - lr: 0.025000 - momentum: 0.000000\n",
            "2024-08-13 10:01:49,423 epoch 37 - iter 8/8 - loss 0.09366985 - time (sec): 5.64 - samples/sec: 87.30 - lr: 0.025000 - momentum: 0.000000\n",
            "2024-08-13 10:01:49,431 ----------------------------------------------------------------------------------------------------\n",
            "2024-08-13 10:01:49,433 EPOCH 37 done: loss 0.0937 - lr: 0.025000\n"
          ]
        },
        {
          "output_type": "stream",
          "name": "stderr",
          "text": [
            "100%|██████████| 3/3 [00:01<00:00,  1.57it/s]"
          ]
        },
        {
          "output_type": "stream",
          "name": "stdout",
          "text": [
            "2024-08-13 10:01:51,392 DEV : loss 0.3043551743030548 - f1-score (micro avg)  0.8714\n"
          ]
        },
        {
          "output_type": "stream",
          "name": "stderr",
          "text": [
            "\n"
          ]
        },
        {
          "output_type": "stream",
          "name": "stdout",
          "text": [
            "2024-08-13 10:01:51,689  - 2 epochs without improvement\n",
            "2024-08-13 10:01:51,700  - 2 epochs without improvement\n",
            "2024-08-13 10:01:51,710 ----------------------------------------------------------------------------------------------------\n",
            "2024-08-13 10:01:52,091 epoch 38 - iter 1/8 - loss 0.14981739 - time (sec): 0.37 - samples/sec: 171.08 - lr: 0.025000 - momentum: 0.000000\n",
            "2024-08-13 10:01:52,497 epoch 38 - iter 2/8 - loss 0.12760081 - time (sec): 0.78 - samples/sec: 164.13 - lr: 0.025000 - momentum: 0.000000\n",
            "2024-08-13 10:01:52,877 epoch 38 - iter 3/8 - loss 0.13239279 - time (sec): 1.16 - samples/sec: 165.46 - lr: 0.025000 - momentum: 0.000000\n",
            "2024-08-13 10:01:53,271 epoch 38 - iter 4/8 - loss 0.11520525 - time (sec): 1.55 - samples/sec: 164.75 - lr: 0.025000 - momentum: 0.000000\n",
            "2024-08-13 10:01:53,671 epoch 38 - iter 5/8 - loss 0.09732291 - time (sec): 1.95 - samples/sec: 163.77 - lr: 0.025000 - momentum: 0.000000\n",
            "2024-08-13 10:01:54,924 epoch 38 - iter 6/8 - loss 0.09996652 - time (sec): 3.21 - samples/sec: 119.72 - lr: 0.025000 - momentum: 0.000000\n",
            "2024-08-13 10:01:55,350 epoch 38 - iter 7/8 - loss 0.09335569 - time (sec): 3.63 - samples/sec: 123.29 - lr: 0.025000 - momentum: 0.000000\n",
            "2024-08-13 10:01:55,640 epoch 38 - iter 8/8 - loss 0.08995507 - time (sec): 3.92 - samples/sec: 125.40 - lr: 0.025000 - momentum: 0.000000\n",
            "2024-08-13 10:01:55,644 ----------------------------------------------------------------------------------------------------\n",
            "2024-08-13 10:01:55,647 EPOCH 38 done: loss 0.0900 - lr: 0.025000\n"
          ]
        },
        {
          "output_type": "stream",
          "name": "stderr",
          "text": [
            "100%|██████████| 3/3 [00:00<00:00,  3.29it/s]"
          ]
        },
        {
          "output_type": "stream",
          "name": "stdout",
          "text": [
            "2024-08-13 10:01:56,598 DEV : loss 0.2841756343841553 - f1-score (micro avg)  0.9143\n"
          ]
        },
        {
          "output_type": "stream",
          "name": "stderr",
          "text": [
            "\n"
          ]
        },
        {
          "output_type": "stream",
          "name": "stdout",
          "text": [
            "2024-08-13 10:01:57,702  - 3 epochs without improvement\n",
            "2024-08-13 10:01:57,713  - 3 epochs without improvement\n",
            "2024-08-13 10:01:57,722 ----------------------------------------------------------------------------------------------------\n",
            "2024-08-13 10:01:58,120 epoch 39 - iter 1/8 - loss 0.04248226 - time (sec): 0.39 - samples/sec: 163.35 - lr: 0.025000 - momentum: 0.000000\n",
            "2024-08-13 10:01:58,538 epoch 39 - iter 2/8 - loss 0.04890963 - time (sec): 0.81 - samples/sec: 158.01 - lr: 0.025000 - momentum: 0.000000\n",
            "2024-08-13 10:01:58,927 epoch 39 - iter 3/8 - loss 0.07662767 - time (sec): 1.20 - samples/sec: 160.06 - lr: 0.025000 - momentum: 0.000000\n",
            "2024-08-13 10:01:59,316 epoch 39 - iter 4/8 - loss 0.07065786 - time (sec): 1.59 - samples/sec: 161.18 - lr: 0.025000 - momentum: 0.000000\n",
            "2024-08-13 10:01:59,747 epoch 39 - iter 5/8 - loss 0.07585867 - time (sec): 2.02 - samples/sec: 158.47 - lr: 0.025000 - momentum: 0.000000\n",
            "2024-08-13 10:02:00,182 epoch 39 - iter 6/8 - loss 0.08267161 - time (sec): 2.45 - samples/sec: 156.44 - lr: 0.025000 - momentum: 0.000000\n",
            "2024-08-13 10:02:01,637 epoch 39 - iter 7/8 - loss 0.08150369 - time (sec): 3.91 - samples/sec: 114.70 - lr: 0.025000 - momentum: 0.000000\n",
            "2024-08-13 10:02:02,070 epoch 39 - iter 8/8 - loss 0.08325053 - time (sec): 4.34 - samples/sec: 113.31 - lr: 0.025000 - momentum: 0.000000\n",
            "2024-08-13 10:02:02,077 ----------------------------------------------------------------------------------------------------\n",
            "2024-08-13 10:02:02,081 EPOCH 39 done: loss 0.0833 - lr: 0.025000\n"
          ]
        },
        {
          "output_type": "stream",
          "name": "stderr",
          "text": [
            "100%|██████████| 3/3 [00:01<00:00,  1.93it/s]"
          ]
        },
        {
          "output_type": "stream",
          "name": "stdout",
          "text": [
            "2024-08-13 10:02:03,694 DEV : loss 0.2997540831565857 - f1-score (micro avg)  0.8857\n"
          ]
        },
        {
          "output_type": "stream",
          "name": "stderr",
          "text": [
            "\n"
          ]
        },
        {
          "output_type": "stream",
          "name": "stdout",
          "text": [
            "2024-08-13 10:02:04,272  - 4 epochs without improvement\n",
            "2024-08-13 10:02:04,283  - 4 epochs without improvement\n",
            "2024-08-13 10:02:04,295 ----------------------------------------------------------------------------------------------------\n",
            "2024-08-13 10:02:04,958 epoch 40 - iter 1/8 - loss 0.07891013 - time (sec): 0.66 - samples/sec: 97.70 - lr: 0.025000 - momentum: 0.000000\n",
            "2024-08-13 10:02:05,871 epoch 40 - iter 2/8 - loss 0.05112573 - time (sec): 1.57 - samples/sec: 81.64 - lr: 0.025000 - momentum: 0.000000\n",
            "2024-08-13 10:02:06,215 epoch 40 - iter 3/8 - loss 0.04599046 - time (sec): 1.91 - samples/sec: 100.43 - lr: 0.025000 - momentum: 0.000000\n",
            "2024-08-13 10:02:06,603 epoch 40 - iter 4/8 - loss 0.04157647 - time (sec): 2.30 - samples/sec: 111.31 - lr: 0.025000 - momentum: 0.000000\n",
            "2024-08-13 10:02:06,977 epoch 40 - iter 5/8 - loss 0.05945562 - time (sec): 2.67 - samples/sec: 119.66 - lr: 0.025000 - momentum: 0.000000\n",
            "2024-08-13 10:02:07,349 epoch 40 - iter 6/8 - loss 0.06721898 - time (sec): 3.05 - samples/sec: 126.06 - lr: 0.025000 - momentum: 0.000000\n",
            "2024-08-13 10:02:08,480 epoch 40 - iter 7/8 - loss 0.07697494 - time (sec): 4.18 - samples/sec: 107.25 - lr: 0.025000 - momentum: 0.000000\n",
            "2024-08-13 10:02:08,747 epoch 40 - iter 8/8 - loss 0.07834745 - time (sec): 4.44 - samples/sec: 110.72 - lr: 0.025000 - momentum: 0.000000\n",
            "2024-08-13 10:02:08,750 ----------------------------------------------------------------------------------------------------\n",
            "2024-08-13 10:02:08,753 EPOCH 40 done: loss 0.0783 - lr: 0.025000\n"
          ]
        },
        {
          "output_type": "stream",
          "name": "stderr",
          "text": [
            "100%|██████████| 3/3 [00:00<00:00,  3.34it/s]"
          ]
        },
        {
          "output_type": "stream",
          "name": "stdout",
          "text": [
            "2024-08-13 10:02:09,704 DEV : loss 0.28941118717193604 - f1-score (micro avg)  0.8929\n"
          ]
        },
        {
          "output_type": "stream",
          "name": "stderr",
          "text": [
            "\n"
          ]
        },
        {
          "output_type": "stream",
          "name": "stdout",
          "text": [
            "2024-08-13 10:02:10,000  - 5 epochs without improvement\n",
            "2024-08-13 10:02:10,012  - 5 epochs without improvement\n",
            "2024-08-13 10:02:10,027 ----------------------------------------------------------------------------------------------------\n",
            "2024-08-13 10:02:10,410 epoch 41 - iter 1/8 - loss 0.02821448 - time (sec): 0.38 - samples/sec: 169.65 - lr: 0.025000 - momentum: 0.000000\n",
            "2024-08-13 10:02:10,801 epoch 41 - iter 2/8 - loss 0.08225088 - time (sec): 0.77 - samples/sec: 166.54 - lr: 0.025000 - momentum: 0.000000\n",
            "2024-08-13 10:02:11,945 epoch 41 - iter 3/8 - loss 0.08288116 - time (sec): 1.91 - samples/sec: 100.42 - lr: 0.025000 - momentum: 0.000000\n",
            "2024-08-13 10:02:12,335 epoch 41 - iter 4/8 - loss 0.09567980 - time (sec): 2.30 - samples/sec: 111.18 - lr: 0.025000 - momentum: 0.000000\n",
            "2024-08-13 10:02:12,710 epoch 41 - iter 5/8 - loss 0.08708835 - time (sec): 2.68 - samples/sec: 119.50 - lr: 0.025000 - momentum: 0.000000\n",
            "2024-08-13 10:02:13,099 epoch 41 - iter 6/8 - loss 0.07485819 - time (sec): 3.07 - samples/sec: 125.22 - lr: 0.025000 - momentum: 0.000000\n",
            "2024-08-13 10:02:13,457 epoch 41 - iter 7/8 - loss 0.07339182 - time (sec): 3.42 - samples/sec: 130.84 - lr: 0.025000 - momentum: 0.000000\n",
            "2024-08-13 10:02:13,711 epoch 41 - iter 8/8 - loss 0.08081237 - time (sec): 3.68 - samples/sec: 133.74 - lr: 0.025000 - momentum: 0.000000\n",
            "2024-08-13 10:02:13,717 ----------------------------------------------------------------------------------------------------\n",
            "2024-08-13 10:02:13,721 EPOCH 41 done: loss 0.0808 - lr: 0.025000\n"
          ]
        },
        {
          "output_type": "stream",
          "name": "stderr",
          "text": [
            "100%|██████████| 3/3 [00:01<00:00,  1.93it/s]"
          ]
        },
        {
          "output_type": "stream",
          "name": "stdout",
          "text": [
            "2024-08-13 10:02:15,327 DEV : loss 0.29487553238868713 - f1-score (micro avg)  0.8857\n"
          ]
        },
        {
          "output_type": "stream",
          "name": "stderr",
          "text": [
            "\n"
          ]
        },
        {
          "output_type": "stream",
          "name": "stdout",
          "text": [
            "2024-08-13 10:02:15,844  - 6 epochs without improvement (above 'patience')-> annealing learning_rate to [0.0125]\n",
            "2024-08-13 10:02:15,858  - 6 epochs without improvement (above 'patience')-> annealing learning_rate to [0.00625]\n",
            "2024-08-13 10:02:15,870 ----------------------------------------------------------------------------------------------------\n",
            "2024-08-13 10:02:16,439 epoch 42 - iter 1/8 - loss 0.07858586 - time (sec): 0.56 - samples/sec: 113.82 - lr: 0.006250 - momentum: 0.000000\n",
            "2024-08-13 10:02:17,024 epoch 42 - iter 2/8 - loss 0.07425197 - time (sec): 1.15 - samples/sec: 111.61 - lr: 0.006250 - momentum: 0.000000\n",
            "2024-08-13 10:02:18,407 epoch 42 - iter 3/8 - loss 0.06258944 - time (sec): 2.53 - samples/sec: 75.89 - lr: 0.006250 - momentum: 0.000000\n",
            "2024-08-13 10:02:19,108 epoch 42 - iter 4/8 - loss 0.06580187 - time (sec): 3.23 - samples/sec: 79.24 - lr: 0.006250 - momentum: 0.000000\n",
            "2024-08-13 10:02:19,706 epoch 42 - iter 5/8 - loss 0.06390846 - time (sec): 3.83 - samples/sec: 83.58 - lr: 0.006250 - momentum: 0.000000\n",
            "2024-08-13 10:02:20,118 epoch 42 - iter 6/8 - loss 0.07080692 - time (sec): 4.24 - samples/sec: 90.54 - lr: 0.006250 - momentum: 0.000000\n",
            "2024-08-13 10:02:20,486 epoch 42 - iter 7/8 - loss 0.07063416 - time (sec): 4.61 - samples/sec: 97.21 - lr: 0.006250 - momentum: 0.000000\n",
            "2024-08-13 10:02:20,737 epoch 42 - iter 8/8 - loss 0.06780534 - time (sec): 4.86 - samples/sec: 101.23 - lr: 0.006250 - momentum: 0.000000\n",
            "2024-08-13 10:02:20,742 ----------------------------------------------------------------------------------------------------\n",
            "2024-08-13 10:02:20,745 EPOCH 42 done: loss 0.0678 - lr: 0.006250\n"
          ]
        },
        {
          "output_type": "stream",
          "name": "stderr",
          "text": [
            "100%|██████████| 3/3 [00:01<00:00,  1.80it/s]"
          ]
        },
        {
          "output_type": "stream",
          "name": "stdout",
          "text": [
            "2024-08-13 10:02:22,447 DEV : loss 0.29590463638305664 - f1-score (micro avg)  0.8857\n"
          ]
        },
        {
          "output_type": "stream",
          "name": "stderr",
          "text": [
            "\n"
          ]
        },
        {
          "output_type": "stream",
          "name": "stdout",
          "text": [
            "2024-08-13 10:02:22,764  - 1 epochs without improvement\n",
            "2024-08-13 10:02:22,776  - 1 epochs without improvement\n",
            "2024-08-13 10:02:22,789 ----------------------------------------------------------------------------------------------------\n",
            "2024-08-13 10:02:23,164 epoch 43 - iter 1/8 - loss 0.08033983 - time (sec): 0.37 - samples/sec: 174.39 - lr: 0.006250 - momentum: 0.000000\n",
            "2024-08-13 10:02:23,619 epoch 43 - iter 2/8 - loss 0.08675015 - time (sec): 0.82 - samples/sec: 155.72 - lr: 0.006250 - momentum: 0.000000\n",
            "2024-08-13 10:02:23,998 epoch 43 - iter 3/8 - loss 0.07060206 - time (sec): 1.20 - samples/sec: 159.90 - lr: 0.006250 - momentum: 0.000000\n",
            "2024-08-13 10:02:25,253 epoch 43 - iter 4/8 - loss 0.05818954 - time (sec): 2.46 - samples/sec: 104.24 - lr: 0.006250 - momentum: 0.000000\n",
            "2024-08-13 10:02:25,703 epoch 43 - iter 5/8 - loss 0.05757435 - time (sec): 2.91 - samples/sec: 110.10 - lr: 0.006250 - momentum: 0.000000\n",
            "2024-08-13 10:02:26,046 epoch 43 - iter 6/8 - loss 0.06193155 - time (sec): 3.25 - samples/sec: 118.18 - lr: 0.006250 - momentum: 0.000000\n",
            "2024-08-13 10:02:26,487 epoch 43 - iter 7/8 - loss 0.06577336 - time (sec): 3.69 - samples/sec: 121.43 - lr: 0.006250 - momentum: 0.000000\n",
            "2024-08-13 10:02:26,790 epoch 43 - iter 8/8 - loss 0.06646669 - time (sec): 3.99 - samples/sec: 123.22 - lr: 0.006250 - momentum: 0.000000\n",
            "2024-08-13 10:02:26,794 ----------------------------------------------------------------------------------------------------\n",
            "2024-08-13 10:02:26,797 EPOCH 43 done: loss 0.0665 - lr: 0.006250\n"
          ]
        },
        {
          "output_type": "stream",
          "name": "stderr",
          "text": [
            "100%|██████████| 3/3 [00:01<00:00,  1.82it/s]"
          ]
        },
        {
          "output_type": "stream",
          "name": "stdout",
          "text": [
            "2024-08-13 10:02:28,484 DEV : loss 0.3067816197872162 - f1-score (micro avg)  0.8929\n"
          ]
        },
        {
          "output_type": "stream",
          "name": "stderr",
          "text": [
            "\n"
          ]
        },
        {
          "output_type": "stream",
          "name": "stdout",
          "text": [
            "2024-08-13 10:02:28,801  - 2 epochs without improvement\n",
            "2024-08-13 10:02:28,811  - 2 epochs without improvement\n",
            "2024-08-13 10:02:28,821 ----------------------------------------------------------------------------------------------------\n",
            "2024-08-13 10:02:29,196 epoch 44 - iter 1/8 - loss 0.07198717 - time (sec): 0.37 - samples/sec: 172.88 - lr: 0.006250 - momentum: 0.000000\n",
            "2024-08-13 10:02:29,629 epoch 44 - iter 2/8 - loss 0.08902382 - time (sec): 0.80 - samples/sec: 159.39 - lr: 0.006250 - momentum: 0.000000\n",
            "2024-08-13 10:02:30,309 epoch 44 - iter 3/8 - loss 0.07823246 - time (sec): 1.48 - samples/sec: 129.48 - lr: 0.006250 - momentum: 0.000000\n",
            "2024-08-13 10:02:30,899 epoch 44 - iter 4/8 - loss 0.08119160 - time (sec): 2.07 - samples/sec: 123.51 - lr: 0.006250 - momentum: 0.000000\n",
            "2024-08-13 10:02:32,262 epoch 44 - iter 5/8 - loss 0.07497805 - time (sec): 3.44 - samples/sec: 93.14 - lr: 0.006250 - momentum: 0.000000\n",
            "2024-08-13 10:02:32,865 epoch 44 - iter 6/8 - loss 0.07655235 - time (sec): 4.04 - samples/sec: 95.08 - lr: 0.006250 - momentum: 0.000000\n",
            "2024-08-13 10:02:33,451 epoch 44 - iter 7/8 - loss 0.06965490 - time (sec): 4.62 - samples/sec: 96.88 - lr: 0.006250 - momentum: 0.000000\n",
            "2024-08-13 10:02:33,861 epoch 44 - iter 8/8 - loss 0.06666660 - time (sec): 5.04 - samples/sec: 97.71 - lr: 0.006250 - momentum: 0.000000\n",
            "2024-08-13 10:02:33,868 ----------------------------------------------------------------------------------------------------\n",
            "2024-08-13 10:02:33,870 EPOCH 44 done: loss 0.0667 - lr: 0.006250\n"
          ]
        },
        {
          "output_type": "stream",
          "name": "stderr",
          "text": [
            "100%|██████████| 3/3 [00:00<00:00,  3.08it/s]"
          ]
        },
        {
          "output_type": "stream",
          "name": "stdout",
          "text": [
            "2024-08-13 10:02:34,885 DEV : loss 0.2995069921016693 - f1-score (micro avg)  0.8857\n"
          ]
        },
        {
          "output_type": "stream",
          "name": "stderr",
          "text": [
            "\n"
          ]
        },
        {
          "output_type": "stream",
          "name": "stdout",
          "text": [
            "2024-08-13 10:02:35,759  - 3 epochs without improvement\n",
            "2024-08-13 10:02:35,769  - 3 epochs without improvement\n",
            "2024-08-13 10:02:35,783 ----------------------------------------------------------------------------------------------------\n",
            "2024-08-13 10:02:36,245 epoch 45 - iter 1/8 - loss 0.07131124 - time (sec): 0.46 - samples/sec: 140.44 - lr: 0.006250 - momentum: 0.000000\n",
            "2024-08-13 10:02:36,649 epoch 45 - iter 2/8 - loss 0.04864587 - time (sec): 0.86 - samples/sec: 148.91 - lr: 0.006250 - momentum: 0.000000\n",
            "2024-08-13 10:02:37,014 epoch 45 - iter 3/8 - loss 0.05420625 - time (sec): 1.23 - samples/sec: 156.68 - lr: 0.006250 - momentum: 0.000000\n",
            "2024-08-13 10:02:37,413 epoch 45 - iter 4/8 - loss 0.07129653 - time (sec): 1.62 - samples/sec: 157.65 - lr: 0.006250 - momentum: 0.000000\n",
            "2024-08-13 10:02:37,843 epoch 45 - iter 5/8 - loss 0.06632414 - time (sec): 2.05 - samples/sec: 155.81 - lr: 0.006250 - momentum: 0.000000\n",
            "2024-08-13 10:02:38,714 epoch 45 - iter 6/8 - loss 0.06947366 - time (sec): 2.93 - samples/sec: 131.28 - lr: 0.006250 - momentum: 0.000000\n",
            "2024-08-13 10:02:39,090 epoch 45 - iter 7/8 - loss 0.06457622 - time (sec): 3.30 - samples/sec: 135.70 - lr: 0.006250 - momentum: 0.000000\n",
            "2024-08-13 10:02:39,353 epoch 45 - iter 8/8 - loss 0.06572747 - time (sec): 3.56 - samples/sec: 138.04 - lr: 0.006250 - momentum: 0.000000\n",
            "2024-08-13 10:02:39,356 ----------------------------------------------------------------------------------------------------\n",
            "2024-08-13 10:02:39,361 EPOCH 45 done: loss 0.0657 - lr: 0.006250\n"
          ]
        },
        {
          "output_type": "stream",
          "name": "stderr",
          "text": [
            "100%|██████████| 3/3 [00:00<00:00,  3.12it/s]"
          ]
        },
        {
          "output_type": "stream",
          "name": "stdout",
          "text": [
            "2024-08-13 10:02:40,368 DEV : loss 0.3020063638687134 - f1-score (micro avg)  0.8857\n"
          ]
        },
        {
          "output_type": "stream",
          "name": "stderr",
          "text": [
            "\n"
          ]
        },
        {
          "output_type": "stream",
          "name": "stdout",
          "text": [
            "2024-08-13 10:02:40,674  - 4 epochs without improvement\n",
            "2024-08-13 10:02:40,688  - 4 epochs without improvement\n",
            "2024-08-13 10:02:40,696 ----------------------------------------------------------------------------------------------------\n",
            "2024-08-13 10:02:41,937 epoch 46 - iter 1/8 - loss 0.06657437 - time (sec): 1.23 - samples/sec: 51.89 - lr: 0.006250 - momentum: 0.000000\n",
            "2024-08-13 10:02:42,374 epoch 46 - iter 2/8 - loss 0.09060948 - time (sec): 1.67 - samples/sec: 76.61 - lr: 0.006250 - momentum: 0.000000\n",
            "2024-08-13 10:02:42,737 epoch 46 - iter 3/8 - loss 0.06883899 - time (sec): 2.03 - samples/sec: 94.44 - lr: 0.006250 - momentum: 0.000000\n",
            "2024-08-13 10:02:43,166 epoch 46 - iter 4/8 - loss 0.06925568 - time (sec): 2.46 - samples/sec: 103.97 - lr: 0.006250 - momentum: 0.000000\n",
            "2024-08-13 10:02:43,517 epoch 46 - iter 5/8 - loss 0.06231749 - time (sec): 2.81 - samples/sec: 113.72 - lr: 0.006250 - momentum: 0.000000\n",
            "2024-08-13 10:02:44,614 epoch 46 - iter 6/8 - loss 0.06154605 - time (sec): 3.91 - samples/sec: 98.21 - lr: 0.006250 - momentum: 0.000000\n",
            "2024-08-13 10:02:45,180 epoch 46 - iter 7/8 - loss 0.06626684 - time (sec): 4.48 - samples/sec: 100.08 - lr: 0.006250 - momentum: 0.000000\n",
            "2024-08-13 10:02:45,620 epoch 46 - iter 8/8 - loss 0.06259434 - time (sec): 4.92 - samples/sec: 100.08 - lr: 0.006250 - momentum: 0.000000\n",
            "2024-08-13 10:02:45,629 ----------------------------------------------------------------------------------------------------\n",
            "2024-08-13 10:02:45,633 EPOCH 46 done: loss 0.0626 - lr: 0.006250\n"
          ]
        },
        {
          "output_type": "stream",
          "name": "stderr",
          "text": [
            "100%|██████████| 3/3 [00:01<00:00,  2.23it/s]"
          ]
        },
        {
          "output_type": "stream",
          "name": "stdout",
          "text": [
            "2024-08-13 10:02:47,046 DEV : loss 0.3022841811180115 - f1-score (micro avg)  0.8857\n"
          ]
        },
        {
          "output_type": "stream",
          "name": "stderr",
          "text": [
            "\n"
          ]
        },
        {
          "output_type": "stream",
          "name": "stdout",
          "text": [
            "2024-08-13 10:02:47,574  - 5 epochs without improvement\n",
            "2024-08-13 10:02:47,584  - 5 epochs without improvement\n",
            "2024-08-13 10:02:47,598 ----------------------------------------------------------------------------------------------------\n",
            "2024-08-13 10:02:49,396 epoch 47 - iter 1/8 - loss 0.08093014 - time (sec): 1.79 - samples/sec: 35.70 - lr: 0.006250 - momentum: 0.000000\n",
            "2024-08-13 10:02:49,875 epoch 47 - iter 2/8 - loss 0.05329655 - time (sec): 2.27 - samples/sec: 56.36 - lr: 0.006250 - momentum: 0.000000\n",
            "2024-08-13 10:02:50,275 epoch 47 - iter 3/8 - loss 0.04186996 - time (sec): 2.67 - samples/sec: 71.89 - lr: 0.006250 - momentum: 0.000000\n",
            "2024-08-13 10:02:50,741 epoch 47 - iter 4/8 - loss 0.05975943 - time (sec): 3.14 - samples/sec: 81.60 - lr: 0.006250 - momentum: 0.000000\n",
            "2024-08-13 10:02:51,117 epoch 47 - iter 5/8 - loss 0.06057917 - time (sec): 3.51 - samples/sec: 91.08 - lr: 0.006250 - momentum: 0.000000\n",
            "2024-08-13 10:02:51,511 epoch 47 - iter 6/8 - loss 0.06600536 - time (sec): 3.91 - samples/sec: 98.27 - lr: 0.006250 - momentum: 0.000000\n",
            "2024-08-13 10:02:52,673 epoch 47 - iter 7/8 - loss 0.06668396 - time (sec): 5.07 - samples/sec: 88.37 - lr: 0.006250 - momentum: 0.000000\n",
            "2024-08-13 10:02:52,972 epoch 47 - iter 8/8 - loss 0.06277925 - time (sec): 5.37 - samples/sec: 91.65 - lr: 0.006250 - momentum: 0.000000\n",
            "2024-08-13 10:02:52,976 ----------------------------------------------------------------------------------------------------\n",
            "2024-08-13 10:02:52,980 EPOCH 47 done: loss 0.0628 - lr: 0.006250\n"
          ]
        },
        {
          "output_type": "stream",
          "name": "stderr",
          "text": [
            "100%|██████████| 3/3 [00:00<00:00,  3.28it/s]"
          ]
        },
        {
          "output_type": "stream",
          "name": "stdout",
          "text": [
            "2024-08-13 10:02:53,940 DEV : loss 0.30368801951408386 - f1-score (micro avg)  0.8929\n"
          ]
        },
        {
          "output_type": "stream",
          "name": "stderr",
          "text": [
            "\n"
          ]
        },
        {
          "output_type": "stream",
          "name": "stdout",
          "text": [
            "2024-08-13 10:02:54,241  - 6 epochs without improvement (above 'patience')-> annealing learning_rate to [0.003125]\n",
            "2024-08-13 10:02:54,251  - 6 epochs without improvement (above 'patience')-> annealing learning_rate to [0.0015625]\n",
            "2024-08-13 10:02:54,261 ----------------------------------------------------------------------------------------------------\n",
            "2024-08-13 10:02:54,653 epoch 48 - iter 1/8 - loss 0.03950467 - time (sec): 0.39 - samples/sec: 164.43 - lr: 0.001563 - momentum: 0.000000\n",
            "2024-08-13 10:02:55,806 epoch 48 - iter 2/8 - loss 0.04333393 - time (sec): 1.54 - samples/sec: 83.03 - lr: 0.001563 - momentum: 0.000000\n",
            "2024-08-13 10:02:56,227 epoch 48 - iter 3/8 - loss 0.04629563 - time (sec): 1.96 - samples/sec: 97.78 - lr: 0.001563 - momentum: 0.000000\n",
            "2024-08-13 10:02:56,684 epoch 48 - iter 4/8 - loss 0.06519753 - time (sec): 2.42 - samples/sec: 105.77 - lr: 0.001563 - momentum: 0.000000\n",
            "2024-08-13 10:02:57,071 epoch 48 - iter 5/8 - loss 0.06029633 - time (sec): 2.81 - samples/sec: 114.00 - lr: 0.001563 - momentum: 0.000000\n",
            "2024-08-13 10:02:57,420 epoch 48 - iter 6/8 - loss 0.06517034 - time (sec): 3.16 - samples/sec: 121.67 - lr: 0.001563 - momentum: 0.000000\n",
            "2024-08-13 10:02:57,841 epoch 48 - iter 7/8 - loss 0.06463103 - time (sec): 3.58 - samples/sec: 125.24 - lr: 0.001563 - momentum: 0.000000\n",
            "2024-08-13 10:02:58,705 epoch 48 - iter 8/8 - loss 0.06053261 - time (sec): 4.44 - samples/sec: 110.79 - lr: 0.001563 - momentum: 0.000000\n",
            "2024-08-13 10:02:58,715 ----------------------------------------------------------------------------------------------------\n",
            "2024-08-13 10:02:58,720 EPOCH 48 done: loss 0.0605 - lr: 0.001563\n"
          ]
        },
        {
          "output_type": "stream",
          "name": "stderr",
          "text": [
            "100%|██████████| 3/3 [00:00<00:00,  3.21it/s]"
          ]
        },
        {
          "output_type": "stream",
          "name": "stdout",
          "text": [
            "2024-08-13 10:02:59,713 DEV : loss 0.3047652840614319 - f1-score (micro avg)  0.8857\n"
          ]
        },
        {
          "output_type": "stream",
          "name": "stderr",
          "text": [
            "\n"
          ]
        },
        {
          "output_type": "stream",
          "name": "stdout",
          "text": [
            "2024-08-13 10:03:00,228  - 1 epochs without improvement\n",
            "2024-08-13 10:03:00,238  - 1 epochs without improvement\n",
            "2024-08-13 10:03:00,246 ----------------------------------------------------------------------------------------------------\n",
            "2024-08-13 10:03:00,842 epoch 49 - iter 1/8 - loss 0.05105207 - time (sec): 0.59 - samples/sec: 108.10 - lr: 0.001563 - momentum: 0.000000\n",
            "2024-08-13 10:03:01,452 epoch 49 - iter 2/8 - loss 0.08278121 - time (sec): 1.20 - samples/sec: 106.47 - lr: 0.001563 - momentum: 0.000000\n",
            "2024-08-13 10:03:02,741 epoch 49 - iter 3/8 - loss 0.06801924 - time (sec): 2.49 - samples/sec: 77.07 - lr: 0.001563 - momentum: 0.000000\n",
            "2024-08-13 10:03:03,435 epoch 49 - iter 4/8 - loss 0.07845898 - time (sec): 3.18 - samples/sec: 80.38 - lr: 0.001563 - momentum: 0.000000\n",
            "2024-08-13 10:03:04,113 epoch 49 - iter 5/8 - loss 0.07303925 - time (sec): 3.86 - samples/sec: 82.84 - lr: 0.001563 - momentum: 0.000000\n",
            "2024-08-13 10:03:04,771 epoch 49 - iter 6/8 - loss 0.06522416 - time (sec): 4.52 - samples/sec: 84.93 - lr: 0.001563 - momentum: 0.000000\n",
            "2024-08-13 10:03:05,291 epoch 49 - iter 7/8 - loss 0.06203306 - time (sec): 5.04 - samples/sec: 88.86 - lr: 0.001563 - momentum: 0.000000\n",
            "2024-08-13 10:03:05,596 epoch 49 - iter 8/8 - loss 0.05949953 - time (sec): 5.35 - samples/sec: 92.03 - lr: 0.001563 - momentum: 0.000000\n",
            "2024-08-13 10:03:05,599 ----------------------------------------------------------------------------------------------------\n",
            "2024-08-13 10:03:05,603 EPOCH 49 done: loss 0.0595 - lr: 0.001563\n"
          ]
        },
        {
          "output_type": "stream",
          "name": "stderr",
          "text": [
            "100%|██████████| 3/3 [00:01<00:00,  1.77it/s]"
          ]
        },
        {
          "output_type": "stream",
          "name": "stdout",
          "text": [
            "2024-08-13 10:03:07,341 DEV : loss 0.3052308261394501 - f1-score (micro avg)  0.8857\n"
          ]
        },
        {
          "output_type": "stream",
          "name": "stderr",
          "text": [
            "\n"
          ]
        },
        {
          "output_type": "stream",
          "name": "stdout",
          "text": [
            "2024-08-13 10:03:07,662  - 2 epochs without improvement\n",
            "2024-08-13 10:03:07,673  - 2 epochs without improvement\n",
            "2024-08-13 10:03:07,683 ----------------------------------------------------------------------------------------------------\n",
            "2024-08-13 10:03:08,079 epoch 50 - iter 1/8 - loss 0.11174376 - time (sec): 0.39 - samples/sec: 163.91 - lr: 0.001563 - momentum: 0.000000\n",
            "2024-08-13 10:03:08,497 epoch 50 - iter 2/8 - loss 0.08233362 - time (sec): 0.81 - samples/sec: 158.30 - lr: 0.001563 - momentum: 0.000000\n",
            "2024-08-13 10:03:08,907 epoch 50 - iter 3/8 - loss 0.06847218 - time (sec): 1.22 - samples/sec: 157.67 - lr: 0.001563 - momentum: 0.000000\n",
            "2024-08-13 10:03:09,905 epoch 50 - iter 4/8 - loss 0.05978591 - time (sec): 2.22 - samples/sec: 115.49 - lr: 0.001563 - momentum: 0.000000\n",
            "2024-08-13 10:03:10,319 epoch 50 - iter 5/8 - loss 0.05298843 - time (sec): 2.63 - samples/sec: 121.64 - lr: 0.001563 - momentum: 0.000000\n",
            "2024-08-13 10:03:10,721 epoch 50 - iter 6/8 - loss 0.05317831 - time (sec): 3.03 - samples/sec: 126.62 - lr: 0.001563 - momentum: 0.000000\n",
            "2024-08-13 10:03:11,115 epoch 50 - iter 7/8 - loss 0.06289815 - time (sec): 3.43 - samples/sec: 130.76 - lr: 0.001563 - momentum: 0.000000\n",
            "2024-08-13 10:03:11,412 epoch 50 - iter 8/8 - loss 0.05951785 - time (sec): 3.72 - samples/sec: 132.15 - lr: 0.001563 - momentum: 0.000000\n",
            "2024-08-13 10:03:11,417 ----------------------------------------------------------------------------------------------------\n",
            "2024-08-13 10:03:11,422 EPOCH 50 done: loss 0.0595 - lr: 0.001563\n"
          ]
        },
        {
          "output_type": "stream",
          "name": "stderr",
          "text": [
            "100%|██████████| 3/3 [00:01<00:00,  1.83it/s]"
          ]
        },
        {
          "output_type": "stream",
          "name": "stdout",
          "text": [
            "2024-08-13 10:03:13,106 DEV : loss 0.30549344420433044 - f1-score (micro avg)  0.8857\n"
          ]
        },
        {
          "output_type": "stream",
          "name": "stderr",
          "text": [
            "\n"
          ]
        },
        {
          "output_type": "stream",
          "name": "stdout",
          "text": [
            "2024-08-13 10:03:13,431  - 3 epochs without improvement\n",
            "2024-08-13 10:03:13,442  - 3 epochs without improvement\n",
            "2024-08-13 10:03:13,450 ----------------------------------------------------------------------------------------------------\n",
            "2024-08-13 10:03:13,825 epoch 51 - iter 1/8 - loss 0.01912902 - time (sec): 0.37 - samples/sec: 172.23 - lr: 0.001563 - momentum: 0.000000\n",
            "2024-08-13 10:03:14,209 epoch 51 - iter 2/8 - loss 0.05395313 - time (sec): 0.76 - samples/sec: 169.34 - lr: 0.001563 - momentum: 0.000000\n",
            "2024-08-13 10:03:14,637 epoch 51 - iter 3/8 - loss 0.04272423 - time (sec): 1.18 - samples/sec: 162.21 - lr: 0.001563 - momentum: 0.000000\n",
            "2024-08-13 10:03:14,998 epoch 51 - iter 4/8 - loss 0.03955006 - time (sec): 1.54 - samples/sec: 165.71 - lr: 0.001563 - momentum: 0.000000\n",
            "2024-08-13 10:03:16,449 epoch 51 - iter 5/8 - loss 0.03928215 - time (sec): 3.00 - samples/sec: 106.80 - lr: 0.001563 - momentum: 0.000000\n",
            "2024-08-13 10:03:17,056 epoch 51 - iter 6/8 - loss 0.04682334 - time (sec): 3.60 - samples/sec: 106.57 - lr: 0.001563 - momentum: 0.000000\n",
            "2024-08-13 10:03:17,713 epoch 51 - iter 7/8 - loss 0.05686597 - time (sec): 4.26 - samples/sec: 105.16 - lr: 0.001563 - momentum: 0.000000\n",
            "2024-08-13 10:03:18,193 epoch 51 - iter 8/8 - loss 0.05945796 - time (sec): 4.74 - samples/sec: 103.80 - lr: 0.001563 - momentum: 0.000000\n",
            "2024-08-13 10:03:18,200 ----------------------------------------------------------------------------------------------------\n",
            "2024-08-13 10:03:18,205 EPOCH 51 done: loss 0.0595 - lr: 0.001563\n"
          ]
        },
        {
          "output_type": "stream",
          "name": "stderr",
          "text": [
            "100%|██████████| 3/3 [00:02<00:00,  1.30it/s]"
          ]
        },
        {
          "output_type": "stream",
          "name": "stdout",
          "text": [
            "2024-08-13 10:03:20,556 DEV : loss 0.3067036271095276 - f1-score (micro avg)  0.8857\n"
          ]
        },
        {
          "output_type": "stream",
          "name": "stderr",
          "text": [
            "\n"
          ]
        },
        {
          "output_type": "stream",
          "name": "stdout",
          "text": [
            "2024-08-13 10:03:20,854  - 4 epochs without improvement\n",
            "2024-08-13 10:03:20,867  - 4 epochs without improvement\n",
            "2024-08-13 10:03:20,879 ----------------------------------------------------------------------------------------------------\n",
            "2024-08-13 10:03:21,261 epoch 52 - iter 1/8 - loss 0.09740555 - time (sec): 0.38 - samples/sec: 169.55 - lr: 0.001563 - momentum: 0.000000\n",
            "2024-08-13 10:03:21,698 epoch 52 - iter 2/8 - loss 0.05834727 - time (sec): 0.81 - samples/sec: 157.16 - lr: 0.001563 - momentum: 0.000000\n",
            "2024-08-13 10:03:22,055 epoch 52 - iter 3/8 - loss 0.06535071 - time (sec): 1.17 - samples/sec: 163.92 - lr: 0.001563 - momentum: 0.000000\n",
            "2024-08-13 10:03:22,459 epoch 52 - iter 4/8 - loss 0.05310794 - time (sec): 1.58 - samples/sec: 162.53 - lr: 0.001563 - momentum: 0.000000\n",
            "2024-08-13 10:03:22,781 epoch 52 - iter 5/8 - loss 0.05412387 - time (sec): 1.90 - samples/sec: 168.67 - lr: 0.001563 - momentum: 0.000000\n",
            "2024-08-13 10:03:23,800 epoch 52 - iter 6/8 - loss 0.06375005 - time (sec): 2.92 - samples/sec: 131.67 - lr: 0.001563 - momentum: 0.000000\n",
            "2024-08-13 10:03:24,207 epoch 52 - iter 7/8 - loss 0.06152919 - time (sec): 3.32 - samples/sec: 134.80 - lr: 0.001563 - momentum: 0.000000\n",
            "2024-08-13 10:03:24,472 epoch 52 - iter 8/8 - loss 0.05871872 - time (sec): 3.59 - samples/sec: 137.12 - lr: 0.001563 - momentum: 0.000000\n",
            "2024-08-13 10:03:24,476 ----------------------------------------------------------------------------------------------------\n",
            "2024-08-13 10:03:24,479 EPOCH 52 done: loss 0.0587 - lr: 0.001563\n"
          ]
        },
        {
          "output_type": "stream",
          "name": "stderr",
          "text": [
            "100%|██████████| 3/3 [00:00<00:00,  3.28it/s]"
          ]
        },
        {
          "output_type": "stream",
          "name": "stdout",
          "text": [
            "2024-08-13 10:03:25,439 DEV : loss 0.3068636655807495 - f1-score (micro avg)  0.8857\n"
          ]
        },
        {
          "output_type": "stream",
          "name": "stderr",
          "text": [
            "\n"
          ]
        },
        {
          "output_type": "stream",
          "name": "stdout",
          "text": [
            "2024-08-13 10:03:26,263  - 5 epochs without improvement\n",
            "2024-08-13 10:03:26,288  - 5 epochs without improvement\n",
            "2024-08-13 10:03:26,295 ----------------------------------------------------------------------------------------------------\n",
            "2024-08-13 10:03:26,745 epoch 53 - iter 1/8 - loss 0.04203413 - time (sec): 0.44 - samples/sec: 145.93 - lr: 0.001563 - momentum: 0.000000\n",
            "2024-08-13 10:03:27,166 epoch 53 - iter 2/8 - loss 0.05674364 - time (sec): 0.86 - samples/sec: 148.79 - lr: 0.001563 - momentum: 0.000000\n",
            "2024-08-13 10:03:27,568 epoch 53 - iter 3/8 - loss 0.05703756 - time (sec): 1.26 - samples/sec: 152.11 - lr: 0.001563 - momentum: 0.000000\n",
            "2024-08-13 10:03:27,953 epoch 53 - iter 4/8 - loss 0.05868917 - time (sec): 1.65 - samples/sec: 155.44 - lr: 0.001563 - momentum: 0.000000\n",
            "2024-08-13 10:03:28,357 epoch 53 - iter 5/8 - loss 0.05995934 - time (sec): 2.05 - samples/sec: 156.04 - lr: 0.001563 - momentum: 0.000000\n",
            "2024-08-13 10:03:29,552 epoch 53 - iter 6/8 - loss 0.05655975 - time (sec): 3.25 - samples/sec: 118.30 - lr: 0.001563 - momentum: 0.000000\n",
            "2024-08-13 10:03:29,952 epoch 53 - iter 7/8 - loss 0.06026199 - time (sec): 3.65 - samples/sec: 122.88 - lr: 0.001563 - momentum: 0.000000\n",
            "2024-08-13 10:03:30,355 epoch 53 - iter 8/8 - loss 0.05822393 - time (sec): 4.05 - samples/sec: 121.53 - lr: 0.001563 - momentum: 0.000000\n",
            "2024-08-13 10:03:30,363 ----------------------------------------------------------------------------------------------------\n",
            "2024-08-13 10:03:30,366 EPOCH 53 done: loss 0.0582 - lr: 0.001563\n"
          ]
        },
        {
          "output_type": "stream",
          "name": "stderr",
          "text": [
            "100%|██████████| 3/3 [00:01<00:00,  2.00it/s]"
          ]
        },
        {
          "output_type": "stream",
          "name": "stdout",
          "text": [
            "2024-08-13 10:03:31,924 DEV : loss 0.3081730008125305 - f1-score (micro avg)  0.8857\n"
          ]
        },
        {
          "output_type": "stream",
          "name": "stderr",
          "text": [
            "\n"
          ]
        },
        {
          "output_type": "stream",
          "name": "stdout",
          "text": [
            "2024-08-13 10:03:32,452  - 6 epochs without improvement (above 'patience')-> annealing learning_rate to [0.00078125]\n",
            "2024-08-13 10:03:32,461  - 6 epochs without improvement (above 'patience')-> annealing learning_rate to [0.000390625]\n",
            "2024-08-13 10:03:32,473 ----------------------------------------------------------------------------------------------------\n",
            "2024-08-13 10:03:34,075 epoch 54 - iter 1/8 - loss 0.03291447 - time (sec): 1.60 - samples/sec: 40.04 - lr: 0.000391 - momentum: 0.000000\n",
            "2024-08-13 10:03:34,769 epoch 54 - iter 2/8 - loss 0.07245060 - time (sec): 2.29 - samples/sec: 55.83 - lr: 0.000391 - momentum: 0.000000\n",
            "2024-08-13 10:03:35,377 epoch 54 - iter 3/8 - loss 0.07812158 - time (sec): 2.90 - samples/sec: 66.21 - lr: 0.000391 - momentum: 0.000000\n",
            "2024-08-13 10:03:35,793 epoch 54 - iter 4/8 - loss 0.06666858 - time (sec): 3.32 - samples/sec: 77.19 - lr: 0.000391 - momentum: 0.000000\n",
            "2024-08-13 10:03:36,174 epoch 54 - iter 5/8 - loss 0.06486221 - time (sec): 3.70 - samples/sec: 86.55 - lr: 0.000391 - momentum: 0.000000\n",
            "2024-08-13 10:03:36,512 epoch 54 - iter 6/8 - loss 0.06227475 - time (sec): 4.04 - samples/sec: 95.16 - lr: 0.000391 - momentum: 0.000000\n",
            "2024-08-13 10:03:37,483 epoch 54 - iter 7/8 - loss 0.05831336 - time (sec): 5.01 - samples/sec: 89.49 - lr: 0.000391 - momentum: 0.000000\n",
            "2024-08-13 10:03:37,760 epoch 54 - iter 8/8 - loss 0.05757364 - time (sec): 5.28 - samples/sec: 93.13 - lr: 0.000391 - momentum: 0.000000\n",
            "2024-08-13 10:03:37,763 ----------------------------------------------------------------------------------------------------\n",
            "2024-08-13 10:03:37,766 EPOCH 54 done: loss 0.0576 - lr: 0.000391\n"
          ]
        },
        {
          "output_type": "stream",
          "name": "stderr",
          "text": [
            "100%|██████████| 3/3 [00:00<00:00,  3.31it/s]"
          ]
        },
        {
          "output_type": "stream",
          "name": "stdout",
          "text": [
            "2024-08-13 10:03:38,720 DEV : loss 0.3081584870815277 - f1-score (micro avg)  0.8857\n"
          ]
        },
        {
          "output_type": "stream",
          "name": "stderr",
          "text": [
            "\n"
          ]
        },
        {
          "output_type": "stream",
          "name": "stdout",
          "text": [
            "2024-08-13 10:03:39,008  - 1 epochs without improvement\n",
            "2024-08-13 10:03:39,017  - 1 epochs without improvement\n",
            "2024-08-13 10:03:39,025 ----------------------------------------------------------------------------------------------------\n",
            "2024-08-13 10:03:39,360 epoch 55 - iter 1/8 - loss 0.03843013 - time (sec): 0.33 - samples/sec: 193.08 - lr: 0.000391 - momentum: 0.000000\n",
            "2024-08-13 10:03:40,376 epoch 55 - iter 2/8 - loss 0.04108868 - time (sec): 1.35 - samples/sec: 94.99 - lr: 0.000391 - momentum: 0.000000\n",
            "2024-08-13 10:03:40,840 epoch 55 - iter 3/8 - loss 0.03446773 - time (sec): 1.81 - samples/sec: 106.03 - lr: 0.000391 - momentum: 0.000000\n",
            "2024-08-13 10:03:41,266 epoch 55 - iter 4/8 - loss 0.03968363 - time (sec): 2.24 - samples/sec: 114.44 - lr: 0.000391 - momentum: 0.000000\n",
            "2024-08-13 10:03:41,667 epoch 55 - iter 5/8 - loss 0.05232466 - time (sec): 2.64 - samples/sec: 121.28 - lr: 0.000391 - momentum: 0.000000\n",
            "2024-08-13 10:03:42,101 epoch 55 - iter 6/8 - loss 0.05206499 - time (sec): 3.07 - samples/sec: 125.00 - lr: 0.000391 - momentum: 0.000000\n",
            "2024-08-13 10:03:42,523 epoch 55 - iter 7/8 - loss 0.05918742 - time (sec): 3.49 - samples/sec: 128.20 - lr: 0.000391 - momentum: 0.000000\n",
            "2024-08-13 10:03:43,646 epoch 55 - iter 8/8 - loss 0.05756025 - time (sec): 4.62 - samples/sec: 106.55 - lr: 0.000391 - momentum: 0.000000\n",
            "2024-08-13 10:03:43,649 ----------------------------------------------------------------------------------------------------\n",
            "2024-08-13 10:03:43,653 EPOCH 55 done: loss 0.0576 - lr: 0.000391\n"
          ]
        },
        {
          "output_type": "stream",
          "name": "stderr",
          "text": [
            "100%|██████████| 3/3 [00:00<00:00,  3.15it/s]"
          ]
        },
        {
          "output_type": "stream",
          "name": "stdout",
          "text": [
            "2024-08-13 10:03:44,646 DEV : loss 0.30809226632118225 - f1-score (micro avg)  0.8857\n"
          ]
        },
        {
          "output_type": "stream",
          "name": "stderr",
          "text": [
            "\n"
          ]
        },
        {
          "output_type": "stream",
          "name": "stdout",
          "text": [
            "2024-08-13 10:03:44,955  - 2 epochs without improvement\n",
            "2024-08-13 10:03:44,966  - 2 epochs without improvement\n",
            "2024-08-13 10:03:44,978 ----------------------------------------------------------------------------------------------------\n",
            "2024-08-13 10:03:45,342 epoch 56 - iter 1/8 - loss 0.03643178 - time (sec): 0.36 - samples/sec: 178.09 - lr: 0.000391 - momentum: 0.000000\n",
            "2024-08-13 10:03:45,951 epoch 56 - iter 2/8 - loss 0.08571707 - time (sec): 0.97 - samples/sec: 132.25 - lr: 0.000391 - momentum: 0.000000\n",
            "2024-08-13 10:03:47,309 epoch 56 - iter 3/8 - loss 0.07160515 - time (sec): 2.33 - samples/sec: 82.56 - lr: 0.000391 - momentum: 0.000000\n",
            "2024-08-13 10:03:47,907 epoch 56 - iter 4/8 - loss 0.06836837 - time (sec): 2.92 - samples/sec: 87.57 - lr: 0.000391 - momentum: 0.000000\n",
            "2024-08-13 10:03:48,539 epoch 56 - iter 5/8 - loss 0.06025774 - time (sec): 3.56 - samples/sec: 89.99 - lr: 0.000391 - momentum: 0.000000\n",
            "2024-08-13 10:03:49,183 epoch 56 - iter 6/8 - loss 0.06561183 - time (sec): 4.20 - samples/sec: 91.42 - lr: 0.000391 - momentum: 0.000000\n",
            "2024-08-13 10:03:49,869 epoch 56 - iter 7/8 - loss 0.06095098 - time (sec): 4.89 - samples/sec: 91.68 - lr: 0.000391 - momentum: 0.000000\n",
            "2024-08-13 10:03:50,357 epoch 56 - iter 8/8 - loss 0.05749052 - time (sec): 5.37 - samples/sec: 91.55 - lr: 0.000391 - momentum: 0.000000\n",
            "2024-08-13 10:03:50,368 ----------------------------------------------------------------------------------------------------\n",
            "2024-08-13 10:03:50,375 EPOCH 56 done: loss 0.0575 - lr: 0.000391\n"
          ]
        },
        {
          "output_type": "stream",
          "name": "stderr",
          "text": [
            "100%|██████████| 3/3 [00:01<00:00,  1.87it/s]"
          ]
        },
        {
          "output_type": "stream",
          "name": "stdout",
          "text": [
            "2024-08-13 10:03:52,023 DEV : loss 0.3081972599029541 - f1-score (micro avg)  0.8857\n"
          ]
        },
        {
          "output_type": "stream",
          "name": "stderr",
          "text": [
            "\n"
          ]
        },
        {
          "output_type": "stream",
          "name": "stdout",
          "text": [
            "2024-08-13 10:03:52,336  - 3 epochs without improvement\n",
            "2024-08-13 10:03:52,346  - 3 epochs without improvement\n",
            "2024-08-13 10:03:52,357 ----------------------------------------------------------------------------------------------------\n",
            "2024-08-13 10:03:52,766 epoch 57 - iter 1/8 - loss 0.02348720 - time (sec): 0.40 - samples/sec: 158.48 - lr: 0.000391 - momentum: 0.000000\n",
            "2024-08-13 10:03:53,154 epoch 57 - iter 2/8 - loss 0.05963982 - time (sec): 0.79 - samples/sec: 161.66 - lr: 0.000391 - momentum: 0.000000\n",
            "2024-08-13 10:03:54,363 epoch 57 - iter 3/8 - loss 0.06367255 - time (sec): 2.00 - samples/sec: 95.96 - lr: 0.000391 - momentum: 0.000000\n",
            "2024-08-13 10:03:54,751 epoch 57 - iter 4/8 - loss 0.05953855 - time (sec): 2.39 - samples/sec: 107.18 - lr: 0.000391 - momentum: 0.000000\n",
            "2024-08-13 10:03:55,124 epoch 57 - iter 5/8 - loss 0.05952212 - time (sec): 2.76 - samples/sec: 115.88 - lr: 0.000391 - momentum: 0.000000\n",
            "2024-08-13 10:03:55,568 epoch 57 - iter 6/8 - loss 0.05667113 - time (sec): 3.21 - samples/sec: 119.78 - lr: 0.000391 - momentum: 0.000000\n",
            "2024-08-13 10:03:55,965 epoch 57 - iter 7/8 - loss 0.06024726 - time (sec): 3.60 - samples/sec: 124.36 - lr: 0.000391 - momentum: 0.000000\n",
            "2024-08-13 10:03:56,270 epoch 57 - iter 8/8 - loss 0.05734352 - time (sec): 3.91 - samples/sec: 125.92 - lr: 0.000391 - momentum: 0.000000\n",
            "2024-08-13 10:03:56,272 ----------------------------------------------------------------------------------------------------\n",
            "2024-08-13 10:03:56,276 EPOCH 57 done: loss 0.0573 - lr: 0.000391\n"
          ]
        },
        {
          "output_type": "stream",
          "name": "stderr",
          "text": [
            "100%|██████████| 3/3 [00:01<00:00,  2.11it/s]"
          ]
        },
        {
          "output_type": "stream",
          "name": "stdout",
          "text": [
            "2024-08-13 10:03:57,734 DEV : loss 0.3087150454521179 - f1-score (micro avg)  0.8857\n"
          ]
        },
        {
          "output_type": "stream",
          "name": "stderr",
          "text": [
            "\n"
          ]
        },
        {
          "output_type": "stream",
          "name": "stdout",
          "text": [
            "2024-08-13 10:03:58,028  - 4 epochs without improvement\n",
            "2024-08-13 10:03:58,038  - 4 epochs without improvement\n",
            "2024-08-13 10:03:58,050 ----------------------------------------------------------------------------------------------------\n",
            "2024-08-13 10:03:58,402 epoch 58 - iter 1/8 - loss 0.05006298 - time (sec): 0.35 - samples/sec: 184.50 - lr: 0.000391 - momentum: 0.000000\n",
            "2024-08-13 10:03:58,781 epoch 58 - iter 2/8 - loss 0.09509705 - time (sec): 0.73 - samples/sec: 176.34 - lr: 0.000391 - momentum: 0.000000\n",
            "2024-08-13 10:03:59,170 epoch 58 - iter 3/8 - loss 0.09716577 - time (sec): 1.12 - samples/sec: 172.09 - lr: 0.000391 - momentum: 0.000000\n",
            "2024-08-13 10:04:00,390 epoch 58 - iter 4/8 - loss 0.08227903 - time (sec): 2.34 - samples/sec: 109.61 - lr: 0.000391 - momentum: 0.000000\n",
            "2024-08-13 10:04:01,036 epoch 58 - iter 5/8 - loss 0.07301251 - time (sec): 2.98 - samples/sec: 107.33 - lr: 0.000391 - momentum: 0.000000\n",
            "2024-08-13 10:04:01,608 epoch 58 - iter 6/8 - loss 0.06433610 - time (sec): 3.55 - samples/sec: 108.08 - lr: 0.000391 - momentum: 0.000000\n",
            "2024-08-13 10:04:02,211 epoch 58 - iter 7/8 - loss 0.06142306 - time (sec): 4.16 - samples/sec: 107.80 - lr: 0.000391 - momentum: 0.000000\n",
            "2024-08-13 10:04:02,703 epoch 58 - iter 8/8 - loss 0.05722723 - time (sec): 4.65 - samples/sec: 105.84 - lr: 0.000391 - momentum: 0.000000\n",
            "2024-08-13 10:04:02,711 ----------------------------------------------------------------------------------------------------\n",
            "2024-08-13 10:04:02,714 EPOCH 58 done: loss 0.0572 - lr: 0.000391\n"
          ]
        },
        {
          "output_type": "stream",
          "name": "stderr",
          "text": [
            "100%|██████████| 3/3 [00:02<00:00,  1.20it/s]"
          ]
        },
        {
          "output_type": "stream",
          "name": "stdout",
          "text": [
            "2024-08-13 10:04:05,265 DEV : loss 0.30854493379592896 - f1-score (micro avg)  0.8857\n"
          ]
        },
        {
          "output_type": "stream",
          "name": "stderr",
          "text": [
            "\n"
          ]
        },
        {
          "output_type": "stream",
          "name": "stdout",
          "text": [
            "2024-08-13 10:04:05,597  - 5 epochs without improvement\n",
            "2024-08-13 10:04:05,608  - 5 epochs without improvement\n",
            "2024-08-13 10:04:05,640 ----------------------------------------------------------------------------------------------------\n",
            "2024-08-13 10:04:06,079 epoch 59 - iter 1/8 - loss 0.07334174 - time (sec): 0.43 - samples/sec: 148.15 - lr: 0.000391 - momentum: 0.000000\n",
            "2024-08-13 10:04:06,443 epoch 59 - iter 2/8 - loss 0.08151583 - time (sec): 0.80 - samples/sec: 160.87 - lr: 0.000391 - momentum: 0.000000\n",
            "2024-08-13 10:04:06,827 epoch 59 - iter 3/8 - loss 0.06716223 - time (sec): 1.18 - samples/sec: 162.77 - lr: 0.000391 - momentum: 0.000000\n",
            "2024-08-13 10:04:07,216 epoch 59 - iter 4/8 - loss 0.05763875 - time (sec): 1.57 - samples/sec: 163.21 - lr: 0.000391 - momentum: 0.000000\n",
            "2024-08-13 10:04:08,252 epoch 59 - iter 5/8 - loss 0.06486517 - time (sec): 2.61 - samples/sec: 122.83 - lr: 0.000391 - momentum: 0.000000\n",
            "2024-08-13 10:04:08,643 epoch 59 - iter 6/8 - loss 0.06127638 - time (sec): 3.00 - samples/sec: 128.17 - lr: 0.000391 - momentum: 0.000000\n",
            "2024-08-13 10:04:09,005 epoch 59 - iter 7/8 - loss 0.05884423 - time (sec): 3.36 - samples/sec: 133.41 - lr: 0.000391 - momentum: 0.000000\n",
            "2024-08-13 10:04:09,268 epoch 59 - iter 8/8 - loss 0.05721542 - time (sec): 3.62 - samples/sec: 135.87 - lr: 0.000391 - momentum: 0.000000\n",
            "2024-08-13 10:04:09,271 ----------------------------------------------------------------------------------------------------\n",
            "2024-08-13 10:04:09,276 EPOCH 59 done: loss 0.0572 - lr: 0.000391\n"
          ]
        },
        {
          "output_type": "stream",
          "name": "stderr",
          "text": [
            "100%|██████████| 3/3 [00:00<00:00,  3.64it/s]"
          ]
        },
        {
          "output_type": "stream",
          "name": "stdout",
          "text": [
            "2024-08-13 10:04:10,140 DEV : loss 0.30890488624572754 - f1-score (micro avg)  0.8857\n"
          ]
        },
        {
          "output_type": "stream",
          "name": "stderr",
          "text": [
            "\n"
          ]
        },
        {
          "output_type": "stream",
          "name": "stdout",
          "text": [
            "2024-08-13 10:04:11,091  - 6 epochs without improvement (above 'patience')-> annealing learning_rate to [0.0001953125]\n",
            "2024-08-13 10:04:11,103  - 6 epochs without improvement (above 'patience')-> annealing learning_rate to [9.765625e-05]\n",
            "2024-08-13 10:04:11,107 ----------------------------------------------------------------------------------------------------\n",
            "2024-08-13 10:04:11,116 learning rate too small - quitting training!\n",
            "2024-08-13 10:04:11,120 ----------------------------------------------------------------------------------------------------\n",
            "2024-08-13 10:04:11,126 Saving model ...\n",
            "2024-08-13 10:04:11,159 Done.\n",
            "2024-08-13 10:04:11,162 ----------------------------------------------------------------------------------------------------\n",
            "2024-08-13 10:04:11,168 Loading model from best epoch ...\n"
          ]
        },
        {
          "output_type": "stream",
          "name": "stderr",
          "text": [
            "100%|██████████| 2/2 [00:00<00:00,  4.58it/s]"
          ]
        },
        {
          "output_type": "stream",
          "name": "stdout",
          "text": [
            "2024-08-13 10:04:11,684 \n",
            "Results:\n",
            "- F-score (micro) 0.9014\n",
            "- F-score (macro) 0.8044\n",
            "- Accuracy 0.9014\n",
            "\n",
            "By class:\n",
            "              precision    recall  f1-score   support\n",
            "\n",
            "         0.0     0.9048    0.9828    0.9421        58\n",
            "         1.0     0.8750    0.5385    0.6667        13\n",
            "\n",
            "    accuracy                         0.9014        71\n",
            "   macro avg     0.8899    0.7606    0.8044        71\n",
            "weighted avg     0.8993    0.9014    0.8917        71\n",
            "\n",
            "2024-08-13 10:04:11,694 ----------------------------------------------------------------------------------------------------\n"
          ]
        },
        {
          "output_type": "stream",
          "name": "stderr",
          "text": [
            "\n"
          ]
        },
        {
          "output_type": "execute_result",
          "data": {
            "text/plain": [
              "{'test_score': 0.9014084507042254}"
            ]
          },
          "metadata": {},
          "execution_count": 43
        }
      ]
    },
    {
      "cell_type": "markdown",
      "source": [
        "Мы добились accuracy 0.9014 в задаче бинарной классификации отзывов на позитивные и негативные, из чего можно сделать вывод, что использование фрейм-ворка Flair является одним из лучших решений."
      ],
      "metadata": {
        "id": "3B60Mv-VObZx"
      }
    },
    {
      "cell_type": "code",
      "source": [
        "my_model = TextClassifier.load('/content/drive/My Drive/colab_data/model_flair/best-model.pt')"
      ],
      "metadata": {
        "id": "nwG_OibKO2ES"
      },
      "execution_count": null,
      "outputs": []
    },
    {
      "cell_type": "markdown",
      "source": [
        "Посмотрим, сколько параметров было использовано:"
      ],
      "metadata": {
        "id": "ieVxJTMkP01O"
      }
    },
    {
      "cell_type": "code",
      "source": [
        "def count_parameters(model):\n",
        "    return sum(p.numel() for p in model.parameters() if p.requires_grad)\n",
        "\n",
        "print(count_parameters(my_model))"
      ],
      "metadata": {
        "colab": {
          "base_uri": "https://localhost:8080/"
        },
        "id": "-kUp8n3Qt1kS",
        "outputId": "76b3c54b-8e39-4151-bb19-349ccc625d28"
      },
      "execution_count": null,
      "outputs": [
        {
          "output_type": "stream",
          "name": "stdout",
          "text": [
            "80602\n"
          ]
        }
      ]
    },
    {
      "cell_type": "code",
      "source": [
        "import re\n",
        "\n",
        "def preprocess_text(text):\n",
        "  text = text.replace('\\n', ' ')\n",
        "  text = re.sub('[^a-zA-Z]+', ' ', text).lower()\n",
        "  return text.strip()"
      ],
      "metadata": {
        "id": "tzqww6-0uEUr"
      },
      "execution_count": null,
      "outputs": []
    },
    {
      "cell_type": "markdown",
      "source": [
        "Давайте на примере отзыва проверим вручную работу модели.\n",
        "\n",
        "Возьмём позитивный отзыв, обработаем его, и подадим в модель:"
      ],
      "metadata": {
        "id": "PGG84wHAP6LT"
      }
    },
    {
      "cell_type": "code",
      "source": [
        "review_1 = \"\"\"I'm a Starbucks junkie! Absolutely great customer service at each location I've visited. Expensive, but you get what you pay for. Kudos to Mr. Schultz for his continual brilliance.\"\"\""
      ],
      "metadata": {
        "id": "hcMwfel5uLpx"
      },
      "execution_count": null,
      "outputs": []
    },
    {
      "cell_type": "code",
      "source": [
        "print(preprocess_text(review_1))"
      ],
      "metadata": {
        "colab": {
          "base_uri": "https://localhost:8080/"
        },
        "id": "vlhZGDN8ujEI",
        "outputId": "5f28a0a4-a06f-48dd-d211-8d23658b475b"
      },
      "execution_count": null,
      "outputs": [
        {
          "output_type": "stream",
          "name": "stdout",
          "text": [
            "i m a starbucks junkie absolutely great customer service at each location i ve visited expensive but you get what you pay for kudos to mr schultz for his continual brilliance\n"
          ]
        }
      ]
    },
    {
      "cell_type": "code",
      "source": [
        "sentence_1 = Sentence(preprocess_text(review_1))\n",
        "my_model.predict(sentence_1)\n",
        "\n",
        "print(sentence_1.labels)"
      ],
      "metadata": {
        "colab": {
          "base_uri": "https://localhost:8080/"
        },
        "id": "dCk3riF6unhx",
        "outputId": "0835683d-944d-4f66-bc02-3302859cd5bb"
      },
      "execution_count": null,
      "outputs": [
        {
          "output_type": "stream",
          "name": "stdout",
          "text": [
            "['Sentence[31]: \"i m a starbucks junkie absolutely great customer service at each location i ve visited expensive but you get what you pay for kudos to mr schultz for his continual brilliance\"'/'1.0' (0.9985)]\n"
          ]
        }
      ]
    },
    {
      "cell_type": "markdown",
      "source": [
        "Ответ: '1.0' (0.9985)\n",
        "\n",
        "И это абсолютно правильный ответ, отзыв действительно позитивный"
      ],
      "metadata": {
        "id": "wlqRwDXcvmp_"
      }
    },
    {
      "cell_type": "markdown",
      "source": [
        "Теперь попробуем сделать то же самое с негативным:"
      ],
      "metadata": {
        "id": "9MdHjT_CQD8H"
      }
    },
    {
      "cell_type": "code",
      "source": [
        "review_2 = \"\"\"I was at store #16710 and was waiting, waiting and waiting for my wife's drink and finally I opened my mouth. I called to speak to the manager and she gives the excuse everyone is helping each other. Garbage. They have 3 people on the drive through and one person helping people that walk in. She is a very poor manager, does not know the first thing about customer service or selling. She is poor.\"\"\""
      ],
      "metadata": {
        "id": "lQxLlxhmvvl-"
      },
      "execution_count": null,
      "outputs": []
    },
    {
      "cell_type": "code",
      "source": [
        "print(preprocess_text(review_2))"
      ],
      "metadata": {
        "colab": {
          "base_uri": "https://localhost:8080/"
        },
        "id": "GCYSH7stv7-5",
        "outputId": "0b6d82a4-05b1-412b-ccc5-8b7c478df338"
      },
      "execution_count": null,
      "outputs": [
        {
          "output_type": "stream",
          "name": "stdout",
          "text": [
            "i was at store and was waiting waiting and waiting for my wife s drink and finally i opened my mouth i called to speak to the manager and she gives the excuse everyone is helping each other garbage they have people on the drive through and one person helping people that walk in she is a very poor manager does not know the first thing about customer service or selling she is poor\n"
          ]
        }
      ]
    },
    {
      "cell_type": "code",
      "source": [
        "sentence_2 = Sentence(preprocess_text(review_2))\n",
        "my_model.predict(sentence_2)\n",
        "\n",
        "print(sentence_2.labels)"
      ],
      "metadata": {
        "colab": {
          "base_uri": "https://localhost:8080/"
        },
        "id": "kb5T6DJ7wBM-",
        "outputId": "b8e98342-9a06-40c9-f867-62f7483375b5"
      },
      "execution_count": null,
      "outputs": [
        {
          "output_type": "stream",
          "name": "stdout",
          "text": [
            "['Sentence[74]: \"i was at store and was waiting waiting and waiting for my wife s drink and finally i opened my mouth i called to speak to the manager and she gives the excuse everyone is helping each other garbage they have people on the drive through and one person helping people that walk in she is a very poor manager does not know the first thing about customer service or selling she is poor\"'/'0.0' (0.9298)]\n"
          ]
        }
      ]
    },
    {
      "cell_type": "markdown",
      "source": [
        "Ответ: '0.0' (0.9298)\n",
        "\n",
        "Это также верный ответ, отзыв действительно негативный, и пользователь поставил кофейне оценку 1 из 5."
      ],
      "metadata": {
        "id": "tEAFLaTSwOKs"
      }
    },
    {
      "cell_type": "markdown",
      "source": [
        "Таким образом, можем сделать вывод, что использование фрейм-ворка Flair позволяет добиться высокого качества в задаче бинарной классификации текста. Accuracy около 90% получается больше, чем в большинстве остальных методов, поскольку flair предназначен именно для работы с текстом, а до этого мы использовали стандартные методы машинного обучения к тексту, переведённому в векторы."
      ],
      "metadata": {
        "id": "Vw_-zhPLwbWG"
      }
    }
  ]
}