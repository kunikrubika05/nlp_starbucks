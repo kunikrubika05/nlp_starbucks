{
  "nbformat": 4,
  "nbformat_minor": 0,
  "metadata": {
    "colab": {
      "provenance": [],
      "toc_visible": true
    },
    "kernelspec": {
      "name": "python3",
      "display_name": "Python 3"
    },
    "language_info": {
      "name": "python"
    }
  },
  "cells": [
    {
      "cell_type": "markdown",
      "source": [
        "В процессе изучения задачи классификации текста нам стало интересно попробовать что-то ещё, к тому же классификацию отзывов о кофейнях Starbucks мы исследовали достаточно хорошо, попробовали разные методы: по-разному очищали данные, по-разному векторизовали текст (использовали BOW, TF-IDF, и прочее), наконец, использовали разные алгоритмы машинного обучения, даже к определению задачи по-разному подходили: рассматривали её и как задачу классификации на 5 классов, и как бинарную классификацию (в этом случае качество модели получилось намного лучше). Мы много слышали о том, что датасеты с Kaggle имеют мало отношения к реальности, поскольку датасеты уже подготовлены, максимум нужно удалить строки, где отсутствует информация. Поэтому мы решили придумать задачу, где датасет собрать реально, данные находятся в открытом доступе, но при этом со сбором надо повозиться. Было решено заняться задачей предсказания оценки за курс Машинное обучение 1 на основании оценок студентов за прошедшие математические курсы: матанализ, линал, теорвер, матстат, и другие. Особенность, как вы уже догадались, заключается в том, что оценки за курсы находятся в разных табличках, поэтому датасет придётся собрать самим, найдя оценки каждого студента в разных таблицах."
      ],
      "metadata": {
        "id": "3CPJA4gEyvK2"
      }
    },
    {
      "cell_type": "markdown",
      "source": [
        "# Создание датасета"
      ],
      "metadata": {
        "id": "WpL0lmDwQEh4"
      }
    },
    {
      "cell_type": "markdown",
      "source": [
        "Начнём собирать данные. Для удобства давайте подключимся к гугл-диску, где создадим папку, где будем хранить все необходимые файлы:"
      ],
      "metadata": {
        "id": "YA_DsjY21IlZ"
      }
    },
    {
      "cell_type": "code",
      "source": [
        "from google.colab import drive\n",
        "drive.mount('/content/drive')"
      ],
      "metadata": {
        "colab": {
          "base_uri": "https://localhost:8080/"
        },
        "id": "q-dL4LAP1eBB",
        "outputId": "f5f6af5c-ba29-45b7-909e-95964a8b04ed"
      },
      "execution_count": null,
      "outputs": [
        {
          "output_type": "stream",
          "name": "stdout",
          "text": [
            "Mounted at /content/drive\n"
          ]
        }
      ]
    },
    {
      "cell_type": "code",
      "source": [
        "import os\n",
        "\n",
        "directory = '/content/drive/My Drive/colab_data/mo-1'\n",
        "\n",
        "if not os.path.exists(directory):\n",
        "  os.makedirs(directory)"
      ],
      "metadata": {
        "id": "gmkmRvJS1Re8"
      },
      "execution_count": null,
      "outputs": []
    },
    {
      "cell_type": "markdown",
      "source": [
        "Оценки будем предсказывать за курс МО-1 2023/2024."
      ],
      "metadata": {
        "id": "T6UdRqFl2OEf"
      }
    },
    {
      "cell_type": "code",
      "source": [
        "import pandas as pd"
      ],
      "metadata": {
        "id": "zu3swUzzxLcm"
      },
      "execution_count": null,
      "outputs": []
    },
    {
      "cell_type": "markdown",
      "source": [
        "Загрузим табличку с оценками 211 группы, чтобы посмотреть на данные. Сразу удалим все столбцы, кроме столбцов с ФИО и оценкой. Также заменим название столбца '❤️ ФИО ❤️' на 'ФИО', поскольку в других таблицах используется именно такое обозначение."
      ],
      "metadata": {
        "id": "ZcR4Q_Ts1JhP"
      }
    },
    {
      "cell_type": "code",
      "source": [
        "mo_1_2023_211 = pd.read_csv('/content/drive/My Drive/colab_data/mo-1/mo-1_211.csv')\n",
        "\n",
        "mo_1_2023_211 = mo_1_2023_211[['❤️ ФИО ❤️', 'Итог']]\n",
        "\n",
        "print(mo_1_2023_211.head())\n",
        "\n",
        "mo_1_2023_211.rename(columns={'❤️ ФИО ❤️': 'ФИО'}, inplace=True)\n",
        "\n",
        "mo_1_2023_211 = mo_1_2023_211.drop(index=0)\n",
        "mo_1_2023_211 = mo_1_2023_211[ : -3]"
      ],
      "metadata": {
        "colab": {
          "base_uri": "https://localhost:8080/"
        },
        "id": "CPxpsxqmzqXh",
        "outputId": "20571969-bb94-4e5b-eff9-83475cb906cb"
      },
      "execution_count": null,
      "outputs": [
        {
          "output_type": "stream",
          "name": "stdout",
          "text": [
            "                          ❤️ ФИО ❤️  Итог\n",
            "0                               NaN   NaN\n",
            "1       Августёнок Алина Алексеевна   9.0\n",
            "2     Аксененко Вероника Алексеевна   7.0\n",
            "3  Барымов Илья Александрович (ПАД)   6.0\n",
            "4      Гвоздева Дарья Александровна   5.0\n"
          ]
        }
      ]
    },
    {
      "cell_type": "markdown",
      "source": [
        "В итоге мы заменили название столбца, который отвечает за ФИО для более удобной работы в дальнейшем, также удалили нулевую строку, потому что она не несёт в себе никакой информации, также удалили три последние строки, так как там была собрана всякая статистика по оценкам для преподавателей. Можем посмотреть, что получилось, остались две колонки с ФИО и оценками. Заметим, что в таблице могут присутствовать люди не с ПМИ, а для них проблематично будет собрать их оценки, поэтому в дальнейшем, в процессе сбора оценок, они отсеятся."
      ],
      "metadata": {
        "id": "JKPZmuEp3rVz"
      }
    },
    {
      "cell_type": "code",
      "source": [
        "print(mo_1_2023_211.head())"
      ],
      "metadata": {
        "colab": {
          "base_uri": "https://localhost:8080/"
        },
        "id": "TFIuJtue4GhD",
        "outputId": "ce0f8faf-a6f2-4553-ffa4-1dfe22e7c7a0"
      },
      "execution_count": null,
      "outputs": [
        {
          "output_type": "stream",
          "name": "stdout",
          "text": [
            "                                ФИО  Итог\n",
            "1       Августёнок Алина Алексеевна   9.0\n",
            "2     Аксененко Вероника Алексеевна   7.0\n",
            "3  Барымов Илья Александрович (ПАД)   6.0\n",
            "4      Гвоздева Дарья Александровна   5.0\n",
            "5       Гриценко Дмитрий Витальевич   9.0\n"
          ]
        }
      ]
    },
    {
      "cell_type": "markdown",
      "source": [
        "Теперь сделаем то же самое с оценками других групп. Напишем для этого цикл, который будет при необходимости менять название первого столбца на 'ФИО', а также удалять ненужные столбцы, удалять ненужные строки, и мерджить данные в единую табличку."
      ],
      "metadata": {
        "id": "Knr7Nxk54fxU"
      }
    },
    {
      "cell_type": "code",
      "source": [
        "groups = ['212', '213', '214_217', '215', '216', '218', '2110']\n",
        "\n",
        "for group in groups:\n",
        "  current_name_of_file = 'mo-1_' + group + '.csv'\n",
        "  current_address = '/content/drive/My Drive/colab_data/mo-1/' + current_name_of_file\n",
        "  current_file = pd.read_csv(current_address)\n",
        "\n",
        "  current_name_of_fio = current_file.columns[0]\n",
        "  if current_name_of_fio != 'ФИО':\n",
        "    current_file.rename(columns={current_name_of_fio: 'ФИО'}, inplace=True)\n",
        "\n",
        "  current_file = current_file.drop(index=0)\n",
        "  current_file = current_file[ : -3]\n",
        "\n",
        "  current_file = current_file[['ФИО', 'Итог']]\n",
        "  mo_1_2023_211 = pd.concat([mo_1_2023_211, current_file], ignore_index=True)\n",
        "\n",
        "print(mo_1_2023_211.head())"
      ],
      "metadata": {
        "colab": {
          "base_uri": "https://localhost:8080/"
        },
        "id": "8wYMAciY4zlR",
        "outputId": "b2cbe0fb-442f-4899-d1c3-afa3eed7fa90"
      },
      "execution_count": null,
      "outputs": [
        {
          "output_type": "stream",
          "name": "stdout",
          "text": [
            "                                ФИО Итог\n",
            "0       Августёнок Алина Алексеевна  9.0\n",
            "1     Аксененко Вероника Алексеевна  7.0\n",
            "2  Барымов Илья Александрович (ПАД)  6.0\n",
            "3      Гвоздева Дарья Александровна  5.0\n",
            "4       Гриценко Дмитрий Витальевич  9.0\n"
          ]
        }
      ]
    },
    {
      "cell_type": "markdown",
      "source": [
        "Удалим пустые строки:"
      ],
      "metadata": {
        "id": "Nw5IbxL68_M_"
      }
    },
    {
      "cell_type": "code",
      "source": [
        "mo_1 = mo_1_2023_211.dropna()\n",
        "print(mo_1.head())"
      ],
      "metadata": {
        "colab": {
          "base_uri": "https://localhost:8080/"
        },
        "id": "i7dkfF3Y-oIQ",
        "outputId": "15d1abc2-745a-4de8-d0c2-4ded28308a11"
      },
      "execution_count": null,
      "outputs": [
        {
          "output_type": "stream",
          "name": "stdout",
          "text": [
            "                                ФИО Итог\n",
            "0       Августёнок Алина Алексеевна  9.0\n",
            "1     Аксененко Вероника Алексеевна  7.0\n",
            "2  Барымов Илья Александрович (ПАД)  6.0\n",
            "3      Гвоздева Дарья Александровна  5.0\n",
            "4       Гриценко Дмитрий Витальевич  9.0\n"
          ]
        }
      ]
    },
    {
      "cell_type": "markdown",
      "source": [
        "Данные за курс МО-1 получены, теперь давайте собирать оценки за другие курсы, начнём с оценок первого года обучения: линал, матан, помним, что человек может быть как с основного потока, так и с пилотного, а также студент мог учиться сначала в основе, а потом в пилоте, или наоборот, поэтому будем это учитывать, а при наличии оценок и за пилотный курс, и за курс основы, будем брать из этого максимум, поскольку возможна ситуация, что студент начал проходить пилотный курс, но перевёлся в основу, но остался в табличке пилотого потока тоже."
      ],
      "metadata": {
        "id": "kimv5B4s9DlJ"
      }
    },
    {
      "cell_type": "markdown",
      "source": [
        "## Линал\n",
        "**Тут удобно, что оценки за курс находятся в таблицах одного формата, это облегчает работу.**"
      ],
      "metadata": {
        "id": "wMn9Skq595qM"
      }
    },
    {
      "cell_type": "code",
      "source": [
        "linal_211 = pd.read_csv('/content/drive/My Drive/colab_data/mo-1/LAaG_211.csv')\n",
        "\n",
        "linal_211 = linal_211[['Фамилия, имя', 'Овед']]\n",
        "\n",
        "print(linal_211.head())"
      ],
      "metadata": {
        "colab": {
          "base_uri": "https://localhost:8080/"
        },
        "id": "iv7P8bOmA8cB",
        "outputId": "7263957d-9de9-4c16-f900-c3b5f7024af7"
      },
      "execution_count": null,
      "outputs": [
        {
          "output_type": "stream",
          "name": "stdout",
          "text": [
            "       Фамилия, имя  Овед\n",
            "0     Акимов Сергей     7\n",
            "1   Асатрян Георгий     9\n",
            "2     Башарин Денис     9\n",
            "3  Васильевых Павел     6\n",
            "4        Гусев Иван     7\n"
          ]
        }
      ]
    },
    {
      "cell_type": "markdown",
      "source": [
        "Делаем то же самое с остальными 12 файлами и сливаем их в один большой циклом:"
      ],
      "metadata": {
        "id": "ZBZFnj0sB-oT"
      }
    },
    {
      "cell_type": "code",
      "source": [
        "groups = ['212', '213', '214', '215', '216', '217', '218', '219', '2110', '2111', '2112']\n",
        "\n",
        "for group in groups:\n",
        "  current_name_of_file = 'LAaG_' + group + '.csv'\n",
        "  current_address = '/content/drive/My Drive/colab_data/mo-1/' + current_name_of_file\n",
        "  current_file = pd.read_csv(current_address)\n",
        "\n",
        "  current_file = current_file[['Фамилия, имя', 'Овед']]\n",
        "\n",
        "  linal_211 = pd.concat([linal_211, current_file], ignore_index=True)\n",
        "\n",
        "print(linal_211.head())"
      ],
      "metadata": {
        "colab": {
          "base_uri": "https://localhost:8080/"
        },
        "id": "utlCdHssCDmv",
        "outputId": "a8af0539-5c01-4c20-aad6-3baca01ded3f"
      },
      "execution_count": null,
      "outputs": [
        {
          "output_type": "stream",
          "name": "stdout",
          "text": [
            "       Фамилия, имя  Овед\n",
            "0     Акимов Сергей   7.0\n",
            "1   Асатрян Георгий   9.0\n",
            "2     Башарин Денис   9.0\n",
            "3  Васильевых Павел   6.0\n",
            "4        Гусев Иван   7.0\n"
          ]
        }
      ]
    },
    {
      "cell_type": "code",
      "source": [
        "linal = linal_211.dropna()\n",
        "\n",
        "linal.rename(columns={'Овед': 'Итог'}, inplace=True)\n",
        "\n",
        "print(linal.head())"
      ],
      "metadata": {
        "colab": {
          "base_uri": "https://localhost:8080/"
        },
        "id": "Eibw5ndwDhUd",
        "outputId": "604488e2-ff1a-4b88-924e-b57510288910"
      },
      "execution_count": null,
      "outputs": [
        {
          "output_type": "stream",
          "name": "stdout",
          "text": [
            "       Фамилия, имя  Итог\n",
            "0     Акимов Сергей   7.0\n",
            "1   Асатрян Георгий   9.0\n",
            "2     Башарин Денис   9.0\n",
            "3  Васильевых Павел   6.0\n",
            "4        Гусев Иван   7.0\n"
          ]
        },
        {
          "output_type": "stream",
          "name": "stderr",
          "text": [
            "<ipython-input-11-86c9bdd92860>:3: SettingWithCopyWarning: \n",
            "A value is trying to be set on a copy of a slice from a DataFrame\n",
            "\n",
            "See the caveats in the documentation: https://pandas.pydata.org/pandas-docs/stable/user_guide/indexing.html#returning-a-view-versus-a-copy\n",
            "  linal.rename(columns={'Овед': 'Итог'}, inplace=True)\n"
          ]
        }
      ]
    },
    {
      "cell_type": "markdown",
      "source": [
        "## Матан"
      ],
      "metadata": {
        "id": "YYVx_NglD1YB"
      }
    },
    {
      "cell_type": "markdown",
      "source": [
        "Начнём с таблицы пилотного потока:"
      ],
      "metadata": {
        "id": "b0qkijNkF46c"
      }
    },
    {
      "cell_type": "code",
      "source": [
        "ma_1_pilot = pd.read_csv('/content/drive/My Drive/colab_data/mo-1/ma-1_pilot.csv')\n",
        "\n",
        "ma_1_pilot = ma_1_pilot[['ФИО', 'Округление']]\n",
        "ma_1_pilot = ma_1_pilot.dropna()\n",
        "\n",
        "ma_1_pilot.rename(columns={'Округление': 'Итог'}, inplace=True)\n",
        "\n",
        "print(ma_1_pilot.head())"
      ],
      "metadata": {
        "colab": {
          "base_uri": "https://localhost:8080/"
        },
        "id": "5ByG45I9F7Yg",
        "outputId": "89ac15f1-3b8c-4f95-8ba0-d05515a3561a"
      },
      "execution_count": null,
      "outputs": [
        {
          "output_type": "stream",
          "name": "stdout",
          "text": [
            "                          ФИО  Итог\n",
            "0     Акимов Сергей Вадимович   7.0\n",
            "1  Асатрян Георгий Оганесович   9.0\n",
            "2    Башарин Денис Витальевич   8.0\n",
            "3            Гусев Иван Ильич   8.0\n",
            "4      Дамиров Намиг Шаигович   8.0\n"
          ]
        }
      ]
    },
    {
      "cell_type": "markdown",
      "source": [
        "Теперь основной поток:"
      ],
      "metadata": {
        "id": "X3Pv8-alG2Jf"
      }
    },
    {
      "cell_type": "code",
      "source": [
        "ma_1_based_213 = pd.read_csv('/content/drive/My Drive/colab_data/mo-1/МА-1 (2 сем) - 213.csv')\n",
        "\n",
        "ma_1_based_213 = ma_1_based_213[['213 группа', 'Итог']]\n",
        "\n",
        "ma_1_based_213 = ma_1_based_213.drop(index=0)\n",
        "ma_1_based_213 = ma_1_based_213.drop(index=1)\n",
        "\n",
        "ma_1_based_213.rename(columns={'213 группа': 'ФИО'}, inplace=True)\n",
        "\n",
        "ma_1_based_213 = ma_1_based_213.dropna()\n",
        "\n",
        "print(ma_1_based_213.head())"
      ],
      "metadata": {
        "colab": {
          "base_uri": "https://localhost:8080/"
        },
        "id": "VM_sV_wxG4Ku",
        "outputId": "188d3b7b-2ea5-4299-e4ba-10fecf4c8320"
      },
      "execution_count": null,
      "outputs": [
        {
          "output_type": "stream",
          "name": "stdout",
          "text": [
            "                              ФИО Итог\n",
            "2         Бонич Дмитрий Сергеевич    8\n",
            "3  Ведерников Константин Игоревич    7\n",
            "4         Галкин Максим Сергеевич    7\n",
            "5    Гапонов Александр Леонидович    8\n",
            "6          Гаязов Булат Ринатович    6\n"
          ]
        }
      ]
    },
    {
      "cell_type": "markdown",
      "source": [
        "Собираем общую таблицу:"
      ],
      "metadata": {
        "id": "N2Kb8IUUI6Zc"
      }
    },
    {
      "cell_type": "code",
      "source": [
        "groups = ['215', '216', '217', '218', '219', '2110', '2111', '2112']\n",
        "\n",
        "for group in groups:\n",
        "  current_name_of_file = 'МА-1 (2 сем) - ' + group + '.csv'\n",
        "  current_address = '/content/drive/My Drive/colab_data/mo-1/' + current_name_of_file\n",
        "  current_file = pd.read_csv(current_address)\n",
        "\n",
        "  current_file = current_file.drop(index=0)\n",
        "  current_file = current_file.drop(index=1)\n",
        "\n",
        "  current_name_of_fio = current_file.columns[1]\n",
        "  if current_name_of_fio != 'ФИО':\n",
        "    current_file.rename(columns={current_name_of_fio: 'ФИО'}, inplace=True)\n",
        "\n",
        "  current_file = current_file[['ФИО', 'Итог']]\n",
        "\n",
        "  ma_1_based_213 = pd.concat([ma_1_based_213, current_file], ignore_index=True)"
      ],
      "metadata": {
        "id": "BWem29juI8iX"
      },
      "execution_count": null,
      "outputs": []
    },
    {
      "cell_type": "code",
      "source": [
        "ma_1_based = ma_1_based_213.dropna()\n",
        "\n",
        "print(ma_1_based.head())"
      ],
      "metadata": {
        "colab": {
          "base_uri": "https://localhost:8080/"
        },
        "id": "ErQrfdljKSZl",
        "outputId": "5a7d9518-92f9-43b5-a8fe-5d103f65f816"
      },
      "execution_count": null,
      "outputs": [
        {
          "output_type": "stream",
          "name": "stdout",
          "text": [
            "                              ФИО Итог\n",
            "0         Бонич Дмитрий Сергеевич    8\n",
            "1  Ведерников Константин Игоревич    7\n",
            "2         Галкин Максим Сергеевич    7\n",
            "3    Гапонов Александр Леонидович    8\n",
            "4          Гаязов Булат Ринатович    6\n"
          ]
        }
      ]
    },
    {
      "cell_type": "markdown",
      "source": [
        "Общая таблица по матану:"
      ],
      "metadata": {
        "id": "aP4msa-6LVcf"
      }
    },
    {
      "cell_type": "code",
      "source": [
        "ma_1 = pd.concat([ma_1_based, ma_1_pilot], ignore_index=True)\n",
        "\n",
        "print(ma_1.head())"
      ],
      "metadata": {
        "colab": {
          "base_uri": "https://localhost:8080/"
        },
        "id": "XqMNaCzjLX3k",
        "outputId": "89935648-f961-4aeb-96cc-77e5f26c153a"
      },
      "execution_count": null,
      "outputs": [
        {
          "output_type": "stream",
          "name": "stdout",
          "text": [
            "                              ФИО Итог\n",
            "0         Бонич Дмитрий Сергеевич    8\n",
            "1  Ведерников Константин Игоревич    7\n",
            "2         Галкин Максим Сергеевич    7\n",
            "3    Гапонов Александр Леонидович    8\n",
            "4          Гаязов Булат Ринатович    6\n"
          ]
        }
      ]
    },
    {
      "cell_type": "markdown",
      "source": [
        "## Теорвер"
      ],
      "metadata": {
        "id": "kd5MTqPwYdo9"
      }
    },
    {
      "cell_type": "markdown",
      "source": [
        "Пилот. Тут будет неприятно, поскольку в колонке \"Итог\" стоят неокруглённые оценки, причём целая часть и дробная разделены запятой, а не точкой, поэтому меняем запятую на точку, а потом округляем."
      ],
      "metadata": {
        "id": "2jaJjsRAYgX3"
      }
    },
    {
      "cell_type": "code",
      "source": [
        "tv_211 = pd.read_csv('/content/drive/My Drive/colab_data/mo-1/tv_211.csv')\n",
        "tv_212 = pd.read_csv('/content/drive/My Drive/colab_data/mo-1/tv_212.csv')\n",
        "tv_214 = pd.read_csv('/content/drive/My Drive/colab_data/mo-1/tv_214.csv')\n",
        "\n",
        "tv_211 = tv_211[['ФИО', 'Итог']]\n",
        "tv_211 = tv_211.drop(index=0)\n",
        "tv_211['Итог'] = tv_211['Итог'].str.replace(',', '.').astype(float)\n",
        "tv_211['Итог'] = tv_211['Итог'].round()\n",
        "\n",
        "tv_212 = tv_212[['ФИО', 'Итог']]\n",
        "tv_212 = tv_212.drop(index=0)\n",
        "tv_212['Итог'] = tv_212['Итог'].str.replace(',', '.').astype(float)\n",
        "tv_212['Итог'] = tv_212['Итог'].round()\n",
        "\n",
        "tv_214 = tv_214[['ФИО', 'Итог']]\n",
        "tv_214 = tv_214.drop(index=0)\n",
        "tv_214['Итог'] = tv_214['Итог'].str.replace(',', '.').astype(float)\n",
        "tv_214['Итог'] = tv_214['Итог'].round()\n",
        "\n",
        "tv_pilot = pd.concat([tv_211, tv_212, tv_214], ignore_index=True)"
      ],
      "metadata": {
        "id": "FVQ_gd3iZp1e"
      },
      "execution_count": null,
      "outputs": []
    },
    {
      "cell_type": "code",
      "source": [
        "tv_pilot = tv_pilot.dropna()\n",
        "print(tv_pilot.head())"
      ],
      "metadata": {
        "colab": {
          "base_uri": "https://localhost:8080/"
        },
        "id": "rl3JPFjifeQn",
        "outputId": "d4cebc6b-ad5f-4196-b3d0-cb28c6d6554e"
      },
      "execution_count": null,
      "outputs": [
        {
          "output_type": "stream",
          "name": "stdout",
          "text": [
            "                             ФИО  Итог\n",
            "0        Акимов Сергей Вадимович   7.0\n",
            "1     Асатрян Георгий Оганесович  10.0\n",
            "2       Башарин Денис Витальевич   9.0\n",
            "3      Васильевых Павел Павлович   6.0\n",
            "4  Горохов Антон Андреевич (215)   8.0\n"
          ]
        }
      ]
    },
    {
      "cell_type": "markdown",
      "source": [
        "Основа:"
      ],
      "metadata": {
        "id": "XAW9Ofo4gX0_"
      }
    },
    {
      "cell_type": "code",
      "source": [
        "tv_based_213 = pd.read_csv('/content/drive/My Drive/colab_data/mo-1/ТВ-2022 - 213.csv')\n",
        "\n",
        "tv_based_213 = tv_based_213[['213 группа', 'Итог']]\n",
        "tv_based_213 = tv_based_213.drop(index=0)\n",
        "tv_based_213.rename(columns={'213 группа': 'ФИО'}, inplace=True)\n",
        "tv_based_213 = tv_based_213.dropna()\n",
        "\n",
        "print(tv_based_213.head())"
      ],
      "metadata": {
        "colab": {
          "base_uri": "https://localhost:8080/"
        },
        "id": "lRbDdAdVgZT9",
        "outputId": "dfb43b31-2f72-4d41-d18f-df34eb22b35d"
      },
      "execution_count": null,
      "outputs": [
        {
          "output_type": "stream",
          "name": "stdout",
          "text": [
            "                              ФИО Итог\n",
            "1            Баранов Даниил Ильич    8\n",
            "2          Бекетов Егор Данилович    8\n",
            "3         Бонич Дмитрий Сергеевич    0\n",
            "4  Ведерников Константин Игоревич    6\n",
            "5         Галкин Максим Сергеевич    0\n"
          ]
        }
      ]
    },
    {
      "cell_type": "code",
      "source": [
        "groups = ['215', '216', '217', '218', '219', '2110']\n",
        "\n",
        "for group in groups:\n",
        "  current_name_of_file = 'ТВ-2022 - ' + group + '.csv'\n",
        "  current_address = '/content/drive/My Drive/colab_data/mo-1/' + current_name_of_file\n",
        "  current_file = pd.read_csv(current_address)\n",
        "\n",
        "  current_name_of_fio = current_file.columns[1]\n",
        "  if current_name_of_fio != 'ФИО':\n",
        "    current_file.rename(columns={current_name_of_fio: 'ФИО'}, inplace=True)\n",
        "\n",
        "  current_file = current_file[['ФИО', 'Итог']]\n",
        "\n",
        "  tv_based_213 = pd.concat([tv_based_213, current_file], ignore_index=True)\n",
        "\n",
        "print(tv_based_213.head())"
      ],
      "metadata": {
        "colab": {
          "base_uri": "https://localhost:8080/"
        },
        "id": "csGuV4EHhfiB",
        "outputId": "6754dac7-554d-4e63-acf1-9ff93b641f22"
      },
      "execution_count": null,
      "outputs": [
        {
          "output_type": "stream",
          "name": "stdout",
          "text": [
            "                              ФИО Итог\n",
            "0            Баранов Даниил Ильич    8\n",
            "1          Бекетов Егор Данилович    8\n",
            "2         Бонич Дмитрий Сергеевич    0\n",
            "3  Ведерников Константин Игоревич    6\n",
            "4         Галкин Максим Сергеевич    0\n"
          ]
        }
      ]
    },
    {
      "cell_type": "code",
      "source": [
        "tv = pd.concat([tv_pilot, tv_based_213], ignore_index=True)\n",
        "tv = tv.dropna()\n",
        "\n",
        "print(tv.head())"
      ],
      "metadata": {
        "colab": {
          "base_uri": "https://localhost:8080/"
        },
        "id": "ZLkrhAfsixjX",
        "outputId": "317ca2d7-b6e1-4a6e-e388-70477963b486"
      },
      "execution_count": null,
      "outputs": [
        {
          "output_type": "stream",
          "name": "stdout",
          "text": [
            "                             ФИО  Итог\n",
            "0        Акимов Сергей Вадимович   7.0\n",
            "1     Асатрян Георгий Оганесович  10.0\n",
            "2       Башарин Денис Витальевич   9.0\n",
            "3      Васильевых Павел Павлович   6.0\n",
            "4  Горохов Антон Андреевич (215)   8.0\n"
          ]
        }
      ]
    },
    {
      "cell_type": "markdown",
      "source": [
        "## Матстат"
      ],
      "metadata": {
        "id": "BxdhKeTnlfUD"
      }
    },
    {
      "cell_type": "markdown",
      "source": [
        "Тут повезло, что табличка одна и для основы, и для пилота, ура:"
      ],
      "metadata": {
        "id": "l0zI8jDhmDjj"
      }
    },
    {
      "cell_type": "code",
      "source": [
        "ms_211 = pd.read_csv('/content/drive/My Drive/colab_data/mo-1/Статистика 2022_2023 - Итог 211.csv')\n",
        "\n",
        "ms_211 = ms_211[['ФИО', 'Итог']]\n",
        "ms_211 = ms_211.drop(index=0)\n",
        "ms_211['Итог'] = ms_211['Итог'].str.replace(',', '.').astype(float)\n",
        "ms_211['Итог'] = ms_211['Итог'].round()\n",
        "\n",
        "print(ms_211.head())"
      ],
      "metadata": {
        "colab": {
          "base_uri": "https://localhost:8080/"
        },
        "id": "aPz2h920mL2u",
        "outputId": "99bc3556-f2db-42a3-9b2f-fbc2b8842c03"
      },
      "execution_count": null,
      "outputs": [
        {
          "output_type": "stream",
          "name": "stdout",
          "text": [
            "                          ФИО  Итог\n",
            "1     Акимов Сергей Вадимович   4.0\n",
            "2  Асатрян Георгий Оганесович   7.0\n",
            "3    Башарин Денис Витальевич   9.0\n",
            "4   Васильевых Павел Павлович   5.0\n",
            "5            Гусев Иван Ильич   5.0\n"
          ]
        }
      ]
    },
    {
      "cell_type": "code",
      "source": [
        "groups = ['212', '213', '214', '215', '216', '217', '218', '219', '2110']\n",
        "\n",
        "for group in groups:\n",
        "  current_name_of_file = 'Статистика 2022_2023 - Итог ' + group + '.csv'\n",
        "  current_address = '/content/drive/My Drive/colab_data/mo-1/' + current_name_of_file\n",
        "  current_file = pd.read_csv(current_address)\n",
        "\n",
        "  current_file = current_file[['ФИО', 'Итог']]\n",
        "\n",
        "  current_file = current_file.drop(index=0)\n",
        "  current_file['Итог'] = current_file['Итог'].str.replace(',', '.').astype(float)\n",
        "  current_file['Итог'] = current_file['Итог'].round()\n",
        "\n",
        "  ms_211 = pd.concat([ms_211, current_file], ignore_index=True)\n",
        "\n",
        "print(ms_211.head())"
      ],
      "metadata": {
        "colab": {
          "base_uri": "https://localhost:8080/"
        },
        "id": "7Wd_sL3ApMJD",
        "outputId": "974ed52d-f296-4a78-fc65-669b8acc26fa"
      },
      "execution_count": null,
      "outputs": [
        {
          "output_type": "stream",
          "name": "stdout",
          "text": [
            "                          ФИО  Итог\n",
            "0     Акимов Сергей Вадимович   4.0\n",
            "1  Асатрян Георгий Оганесович   7.0\n",
            "2    Башарин Денис Витальевич   9.0\n",
            "3   Васильевых Павел Павлович   5.0\n",
            "4            Гусев Иван Ильич   5.0\n"
          ]
        }
      ]
    },
    {
      "cell_type": "code",
      "source": [
        "ms = ms_211.dropna()\n",
        "print(ms.head())"
      ],
      "metadata": {
        "colab": {
          "base_uri": "https://localhost:8080/"
        },
        "id": "XC6QW6f-qDU1",
        "outputId": "2ec6b238-faf1-4ad7-f98e-508b03dfb852"
      },
      "execution_count": null,
      "outputs": [
        {
          "output_type": "stream",
          "name": "stdout",
          "text": [
            "                          ФИО  Итог\n",
            "0     Акимов Сергей Вадимович   4.0\n",
            "1  Асатрян Георгий Оганесович   7.0\n",
            "2    Башарин Денис Витальевич   9.0\n",
            "3   Васильевых Павел Павлович   5.0\n",
            "4            Гусев Иван Ильич   5.0\n"
          ]
        }
      ]
    },
    {
      "cell_type": "markdown",
      "source": [
        "Ура, у нас есть таблички с оценками по линалу, матану, теорверу, матстату всех групп в одном формате: ФИО, округлённый итог."
      ],
      "metadata": {
        "id": "ijpPtLLtqH3J"
      }
    },
    {
      "cell_type": "markdown",
      "source": [
        "Снова переходим в табличку МО-1:"
      ],
      "metadata": {
        "id": "vzMXzMvlFdqC"
      }
    },
    {
      "cell_type": "markdown",
      "source": [
        "После удаления столбцов без информации могла сбиться нумерация, поэтому восстановим нормальную нумерацию, чтобы итерироваться по таблице и не ловить ошибки. Тут, кстати, не сбилась, но спокойно могла."
      ],
      "metadata": {
        "id": "8u3hZ151q5jp"
      }
    },
    {
      "cell_type": "code",
      "source": [
        "mo_1.reset_index(drop=True, inplace=True)\n",
        "print(mo_1)"
      ],
      "metadata": {
        "colab": {
          "base_uri": "https://localhost:8080/"
        },
        "id": "exPHsb-RrD4P",
        "outputId": "3c738a20-c090-4418-f537-bd15f9fb35d0"
      },
      "execution_count": null,
      "outputs": [
        {
          "output_type": "stream",
          "name": "stdout",
          "text": [
            "                                     ФИО  Итог\n",
            "0            Августёнок Алина Алексеевна   9.0\n",
            "1          Аксененко Вероника Алексеевна   7.0\n",
            "2       Барымов Илья Александрович (ПАД)   6.0\n",
            "3           Гвоздева Дарья Александровна   5.0\n",
            "4            Гриценко Дмитрий Витальевич   9.0\n",
            "..                                   ...   ...\n",
            "294  Григорьева Василиса Алексеевна (ПИ)   9.0\n",
            "295    Смирнов Владислав Михайлович (ПИ)  10.0\n",
            "296     Степашкина Виталия Павловна (ПИ)   0.0\n",
            "297  Мостыка Николай Русланович (2 курс)   0.0\n",
            "298                            Евзман Ян   4.0\n",
            "\n",
            "[299 rows x 2 columns]\n"
          ]
        }
      ]
    },
    {
      "cell_type": "markdown",
      "source": [
        "Заполняем табличку оценками по линалу:"
      ],
      "metadata": {
        "id": "jWVtWCZxGJAB"
      }
    },
    {
      "cell_type": "code",
      "source": [
        "mo_1['linal'] = None\n",
        "linal.reset_index(drop=True, inplace=True)\n",
        "\n",
        "for index_1 in range(len(mo_1)):\n",
        "  fio_1 = mo_1.at[index_1, 'ФИО']\n",
        "\n",
        "  fio_1 = fio_1.split()\n",
        "\n",
        "  for index_2 in range(len(linal)):\n",
        "    fio_2 = linal.at[index_2, 'Фамилия, имя']\n",
        "\n",
        "    fio_2 = fio_2.split()\n",
        "\n",
        "    if fio_1[0] + fio_1[1] == fio_2[0] + fio_2[1]:\n",
        "      mo_1.at[index_1, 'linal'] = linal.at[index_2, 'Итог']"
      ],
      "metadata": {
        "id": "78bKu_uOrUv9",
        "colab": {
          "base_uri": "https://localhost:8080/"
        },
        "outputId": "f8e3b718-fb7c-4b49-b5c4-2140948fcafa"
      },
      "execution_count": null,
      "outputs": [
        {
          "output_type": "stream",
          "name": "stderr",
          "text": [
            "<ipython-input-29-67ee2bac8a13>:1: SettingWithCopyWarning: \n",
            "A value is trying to be set on a copy of a slice from a DataFrame.\n",
            "Try using .loc[row_indexer,col_indexer] = value instead\n",
            "\n",
            "See the caveats in the documentation: https://pandas.pydata.org/pandas-docs/stable/user_guide/indexing.html#returning-a-view-versus-a-copy\n",
            "  mo_1['linal'] = None\n"
          ]
        }
      ]
    },
    {
      "cell_type": "code",
      "source": [
        "yes, no = 0, 0\n",
        "\n",
        "for i in mo_1['linal']:\n",
        "  if i == None:\n",
        "    no += 1\n",
        "  else:\n",
        "    yes += 1\n",
        "\n",
        "print(yes, no)"
      ],
      "metadata": {
        "colab": {
          "base_uri": "https://localhost:8080/"
        },
        "id": "ICf6eA2Zsgoq",
        "outputId": "d0b0c635-414e-41b9-9920-b94e2efae239"
      },
      "execution_count": null,
      "outputs": [
        {
          "output_type": "stream",
          "name": "stdout",
          "text": [
            "232 67\n"
          ]
        }
      ]
    },
    {
      "cell_type": "markdown",
      "source": [
        "Есть 232 оценки, нет 67 оценок. Связано это с тем, что в таблице находились люди не только с ПМИ, но и с других программ: ПИ, БИ, ИБ, ИВТ и так далее."
      ],
      "metadata": {
        "id": "NR5dLjxzGbH3"
      }
    },
    {
      "cell_type": "code",
      "source": [
        "mo_1['matan'] = None"
      ],
      "metadata": {
        "colab": {
          "base_uri": "https://localhost:8080/"
        },
        "id": "NwqVTHuQwDD1",
        "outputId": "9a5dee96-2843-4323-df6f-f59a98fe553f"
      },
      "execution_count": null,
      "outputs": [
        {
          "output_type": "stream",
          "name": "stderr",
          "text": [
            "<ipython-input-31-c2d5abbc50fb>:1: SettingWithCopyWarning: \n",
            "A value is trying to be set on a copy of a slice from a DataFrame.\n",
            "Try using .loc[row_indexer,col_indexer] = value instead\n",
            "\n",
            "See the caveats in the documentation: https://pandas.pydata.org/pandas-docs/stable/user_guide/indexing.html#returning-a-view-versus-a-copy\n",
            "  mo_1['matan'] = None\n"
          ]
        }
      ]
    },
    {
      "cell_type": "code",
      "source": [
        "ma_1.reset_index(drop=True, inplace=True)\n",
        "\n",
        "for index_1 in range(len(mo_1)):\n",
        "  fio_1 = mo_1.at[index_1, 'ФИО']\n",
        "\n",
        "  fio_1 = fio_1.split()\n",
        "\n",
        "  for index_2 in range(len(ma_1)):\n",
        "    fio_2 = ma_1.at[index_2, 'ФИО']\n",
        "\n",
        "    if isinstance(fio_2, str):\n",
        "      fio_2 = fio_2.split()\n",
        "\n",
        "      if fio_1[0] + fio_1[1] == fio_2[0] + fio_2[1]:\n",
        "        mo_1.at[index_1, 'matan'] = ma_1.at[index_2, 'Итог']"
      ],
      "metadata": {
        "id": "zWyEkLl3uKAp"
      },
      "execution_count": null,
      "outputs": []
    },
    {
      "cell_type": "code",
      "source": [
        "print(mo_1)"
      ],
      "metadata": {
        "colab": {
          "base_uri": "https://localhost:8080/"
        },
        "id": "L04Xnozdwon1",
        "outputId": "5caa68d9-a965-4e15-ec06-0913b036a5f2"
      },
      "execution_count": null,
      "outputs": [
        {
          "output_type": "stream",
          "name": "stdout",
          "text": [
            "                                     ФИО  Итог linal matan\n",
            "0            Августёнок Алина Алексеевна   9.0   5.0     6\n",
            "1          Аксененко Вероника Алексеевна   7.0   7.0     8\n",
            "2       Барымов Илья Александрович (ПАД)   6.0   4.0     4\n",
            "3           Гвоздева Дарья Александровна   5.0  None  None\n",
            "4            Гриценко Дмитрий Витальевич   9.0   6.0     8\n",
            "..                                   ...   ...   ...   ...\n",
            "294  Григорьева Василиса Алексеевна (ПИ)   9.0  None  None\n",
            "295    Смирнов Владислав Михайлович (ПИ)  10.0  None  None\n",
            "296     Степашкина Виталия Павловна (ПИ)   0.0  None  None\n",
            "297  Мостыка Николай Русланович (2 курс)   0.0   0.0     1\n",
            "298                            Евзман Ян   4.0  None  None\n",
            "\n",
            "[299 rows x 4 columns]\n"
          ]
        }
      ]
    },
    {
      "cell_type": "code",
      "source": [
        "yes, no = 0, 0\n",
        "\n",
        "for i in mo_1['matan']:\n",
        "  if i == None:\n",
        "    no += 1\n",
        "  else:\n",
        "    yes += 1\n",
        "\n",
        "print(yes, no)"
      ],
      "metadata": {
        "colab": {
          "base_uri": "https://localhost:8080/"
        },
        "id": "OPxhOYRSwsiT",
        "outputId": "47a8c5be-d8f2-43a7-eb69-d07534069771"
      },
      "execution_count": null,
      "outputs": [
        {
          "output_type": "stream",
          "name": "stdout",
          "text": [
            "233 66\n"
          ]
        }
      ]
    },
    {
      "cell_type": "markdown",
      "source": [
        "Тут на одну оценку больше есть, кто-то остался без оценки по линалу :((("
      ],
      "metadata": {
        "id": "sPWigBvPGrTS"
      }
    },
    {
      "cell_type": "code",
      "source": [
        "mo_1['teorver'] = None"
      ],
      "metadata": {
        "colab": {
          "base_uri": "https://localhost:8080/"
        },
        "id": "MRtITffa4F8L",
        "outputId": "13896bcd-bd1e-457b-d47e-847c21e7d560"
      },
      "execution_count": null,
      "outputs": [
        {
          "output_type": "stream",
          "name": "stderr",
          "text": [
            "<ipython-input-35-3f915b214004>:1: SettingWithCopyWarning: \n",
            "A value is trying to be set on a copy of a slice from a DataFrame.\n",
            "Try using .loc[row_indexer,col_indexer] = value instead\n",
            "\n",
            "See the caveats in the documentation: https://pandas.pydata.org/pandas-docs/stable/user_guide/indexing.html#returning-a-view-versus-a-copy\n",
            "  mo_1['teorver'] = None\n"
          ]
        }
      ]
    },
    {
      "cell_type": "code",
      "source": [
        "tv.reset_index(drop=True, inplace=True)\n",
        "\n",
        "for index_1 in range(len(mo_1)):\n",
        "  fio_1 = mo_1.at[index_1, 'ФИО']\n",
        "\n",
        "  fio_1 = fio_1.split()\n",
        "\n",
        "  for index_2 in range(len(tv)):\n",
        "    fio_2 = tv.at[index_2, 'ФИО']\n",
        "\n",
        "    fio_2 = fio_2.split()\n",
        "\n",
        "    if fio_1[0] + fio_1[1] == fio_2[0] + fio_2[1]:\n",
        "      mo_1.at[index_1, 'teorver'] = tv.at[index_2, 'Итог']"
      ],
      "metadata": {
        "id": "9MZCuTW24LyK"
      },
      "execution_count": null,
      "outputs": []
    },
    {
      "cell_type": "code",
      "source": [
        "mo_1['matstat'] = None"
      ],
      "metadata": {
        "colab": {
          "base_uri": "https://localhost:8080/"
        },
        "id": "vazuA18j4lp2",
        "outputId": "7eeb9b4a-4ae3-43ac-9121-df58705daaff"
      },
      "execution_count": null,
      "outputs": [
        {
          "output_type": "stream",
          "name": "stderr",
          "text": [
            "<ipython-input-37-5a1b48b7f293>:1: SettingWithCopyWarning: \n",
            "A value is trying to be set on a copy of a slice from a DataFrame.\n",
            "Try using .loc[row_indexer,col_indexer] = value instead\n",
            "\n",
            "See the caveats in the documentation: https://pandas.pydata.org/pandas-docs/stable/user_guide/indexing.html#returning-a-view-versus-a-copy\n",
            "  mo_1['matstat'] = None\n"
          ]
        }
      ]
    },
    {
      "cell_type": "code",
      "source": [
        "ms.reset_index(drop=True, inplace=True)\n",
        "\n",
        "for index_1 in range(len(mo_1)):\n",
        "  fio_1 = mo_1.at[index_1, 'ФИО']\n",
        "\n",
        "  fio_1 = fio_1.split()\n",
        "\n",
        "  for index_2 in range(len(ms)):\n",
        "    fio_2 = ms.at[index_2, 'ФИО']\n",
        "\n",
        "    fio_2 = fio_2.split()\n",
        "\n",
        "    if len(fio_2) > 1:\n",
        "      if fio_1[0] + fio_1[1] == fio_2[0] + fio_2[1]:\n",
        "        mo_1.at[index_1, 'matstat'] = ms.at[index_2, 'Итог']"
      ],
      "metadata": {
        "id": "_JiwWd1w4qAR"
      },
      "execution_count": null,
      "outputs": []
    },
    {
      "cell_type": "code",
      "source": [
        "print(mo_1)"
      ],
      "metadata": {
        "colab": {
          "base_uri": "https://localhost:8080/"
        },
        "id": "6SidRMZB5GHn",
        "outputId": "772df457-692f-4da5-cfdb-97db3cbe8fbf"
      },
      "execution_count": null,
      "outputs": [
        {
          "output_type": "stream",
          "name": "stdout",
          "text": [
            "                                     ФИО  Итог linal matan teorver matstat\n",
            "0            Августёнок Алина Алексеевна   9.0   5.0     6       6     9.0\n",
            "1          Аксененко Вероника Алексеевна   7.0   7.0     8       6     7.0\n",
            "2       Барымов Илья Александрович (ПАД)   6.0   4.0     4    None    None\n",
            "3           Гвоздева Дарья Александровна   5.0  None  None       5     5.0\n",
            "4            Гриценко Дмитрий Витальевич   9.0   6.0     8       5     7.0\n",
            "..                                   ...   ...   ...   ...     ...     ...\n",
            "294  Григорьева Василиса Алексеевна (ПИ)   9.0  None  None    None    None\n",
            "295    Смирнов Владислав Михайлович (ПИ)  10.0  None  None    None    None\n",
            "296     Степашкина Виталия Павловна (ПИ)   0.0  None  None    None    None\n",
            "297  Мостыка Николай Русланович (2 курс)   0.0   0.0     1       0    None\n",
            "298                            Евзман Ян   4.0  None  None    None     4.0\n",
            "\n",
            "[299 rows x 6 columns]\n"
          ]
        }
      ]
    },
    {
      "cell_type": "markdown",
      "source": [
        "Теперь удалим строки, где нет оценок, и получим чистый датасет, состоящий из оценки за МО-1 и 4 оценок за математические курсы."
      ],
      "metadata": {
        "id": "izW0BkBmGZgA"
      }
    },
    {
      "cell_type": "code",
      "source": [
        "data = mo_1.dropna()\n",
        "data = data[['Итог', 'linal', 'matan', 'teorver', 'matstat']]\n",
        "\n",
        "data = data[data['Итог'] != '#VALUE!']"
      ],
      "metadata": {
        "id": "g4cdAD7qGnHq"
      },
      "execution_count": null,
      "outputs": []
    },
    {
      "cell_type": "code",
      "source": [
        "data.reset_index(drop=True, inplace=True)\n",
        "\n",
        "data['Итог'] = data['Итог'].astype(float)\n",
        "data['linal'] = data['linal'].astype(float)\n",
        "data['matan'] = data['matan'].astype(float)\n",
        "data['teorver'] = data['teorver'].astype(float)\n",
        "data['matstat'] = data['matstat'].astype(float)\n",
        "\n",
        "print(data)"
      ],
      "metadata": {
        "colab": {
          "base_uri": "https://localhost:8080/"
        },
        "id": "SPR7bVT5G6W0",
        "outputId": "d96a79f1-9330-425e-eec4-90a817171b71"
      },
      "execution_count": null,
      "outputs": [
        {
          "output_type": "stream",
          "name": "stdout",
          "text": [
            "     Итог  linal  matan  teorver  matstat\n",
            "0     9.0    5.0    6.0      6.0      9.0\n",
            "1     7.0    7.0    8.0      6.0      7.0\n",
            "2     9.0    6.0    8.0      5.0      7.0\n",
            "3    10.0    8.0    8.0      9.0      8.0\n",
            "4     9.0    4.0    5.0      7.0      7.0\n",
            "..    ...    ...    ...      ...      ...\n",
            "220   8.0    7.0    7.0      6.0      5.0\n",
            "221   8.0    5.0    5.0      6.0      5.0\n",
            "222   6.0    7.0    5.0      6.0      4.0\n",
            "223   7.0    4.0    5.0      4.0      5.0\n",
            "224   4.0    6.0    4.0      4.0      4.0\n",
            "\n",
            "[225 rows x 5 columns]\n"
          ]
        }
      ]
    },
    {
      "cell_type": "markdown",
      "source": [
        "Датасет полностью готов. Давайте разделим его на признаки и целевую переменную:"
      ],
      "metadata": {
        "id": "64JsHzg-IHoI"
      }
    },
    {
      "cell_type": "code",
      "source": [
        "import numpy as np"
      ],
      "metadata": {
        "id": "pgyUn8AcK-Vc"
      },
      "execution_count": null,
      "outputs": []
    },
    {
      "cell_type": "code",
      "source": [
        "X = data.drop(columns=['Итог'])\n",
        "X = X.values\n",
        "\n",
        "y = data['Итог']\n",
        "y = y.values\n",
        "\n",
        "print(X.shape)\n",
        "print(y.shape)"
      ],
      "metadata": {
        "colab": {
          "base_uri": "https://localhost:8080/"
        },
        "id": "czbYO--fIQus",
        "outputId": "98df7905-acbf-41ff-85db-ae13e3085170"
      },
      "execution_count": null,
      "outputs": [
        {
          "output_type": "stream",
          "name": "stdout",
          "text": [
            "(225, 4)\n",
            "(225,)\n"
          ]
        }
      ]
    },
    {
      "cell_type": "markdown",
      "source": [
        "Делим выборку на тренировчную и тестовую, используем пропорцию 80 на 20:"
      ],
      "metadata": {
        "id": "aqop5YaXG5Gn"
      }
    },
    {
      "cell_type": "code",
      "source": [
        "from sklearn.model_selection import train_test_split\n",
        "\n",
        "X_train, X_test, y_train, y_test = train_test_split(X, y, test_size=0.20, random_state=10)"
      ],
      "metadata": {
        "id": "cxvvn9RcLX7b"
      },
      "execution_count": null,
      "outputs": []
    },
    {
      "cell_type": "code",
      "source": [
        "print(X_train.shape, X_test.shape)\n",
        "print(y_train.shape, y_test.shape)"
      ],
      "metadata": {
        "colab": {
          "base_uri": "https://localhost:8080/"
        },
        "id": "AQsfRJXHLwaS",
        "outputId": "5cb2a383-869a-48c8-d646-65d7ca4da4ce"
      },
      "execution_count": null,
      "outputs": [
        {
          "output_type": "stream",
          "name": "stdout",
          "text": [
            "(180, 4) (45, 4)\n",
            "(180,) (45,)\n"
          ]
        }
      ]
    },
    {
      "cell_type": "markdown",
      "source": [
        "# Обучение"
      ],
      "metadata": {
        "id": "bjBX5MjSP9fC"
      }
    },
    {
      "cell_type": "markdown",
      "source": [
        "**Начинаем обучение, наконец-то:**"
      ],
      "metadata": {
        "id": "1-niIaTXMA71"
      }
    },
    {
      "cell_type": "markdown",
      "source": [
        "Поскольку мы решаем задачу регрессии, предсказываем оценку от 0 до 10 за курс, не очень аргументированно будет оценивать качество модели с помощью accuracy: ну, потому что accuracy оценивает долю в точности правильных ответов, нас же скорее интересует не это, а среднее отклонение предсказанной оценки от фактической, поэтому логично использовать известную нам метрику MAE:"
      ],
      "metadata": {
        "id": "z7xf-TsoPtVC"
      }
    },
    {
      "cell_type": "code",
      "source": [
        "from sklearn.metrics import mean_absolute_error"
      ],
      "metadata": {
        "id": "EzutL3kBPosb"
      },
      "execution_count": null,
      "outputs": []
    },
    {
      "cell_type": "markdown",
      "source": [
        "№1. Метод опорных векторов"
      ],
      "metadata": {
        "id": "Mo16YHq4QhG0"
      }
    },
    {
      "cell_type": "code",
      "source": [
        "from sklearn import svm\n",
        "\n",
        "SVM_model = svm.SVC()\n",
        "SVM_model.fit(X_train, y_train)\n",
        "SVM_prediction = SVM_model.predict(X_test)\n",
        "\n",
        "print(mean_absolute_error(y_test, SVM_prediction))"
      ],
      "metadata": {
        "colab": {
          "base_uri": "https://localhost:8080/"
        },
        "id": "jifzwGQ2MDs-",
        "outputId": "b8d8e113-6711-46ce-e63c-e94917e4bae2"
      },
      "execution_count": null,
      "outputs": [
        {
          "output_type": "stream",
          "name": "stdout",
          "text": [
            "1.288888888888889\n"
          ]
        }
      ]
    },
    {
      "cell_type": "markdown",
      "source": [
        "Среднее отклонение получилось 1.28, что, на наш взгляд, является неплохим результатом, поскольку разброс оценок $< 1,5$ является довольно естественным, но об этом подробнее мы поговорим чуть позже, когда будем делать общие выводы."
      ],
      "metadata": {
        "id": "eGKlYcjkQlZA"
      }
    },
    {
      "cell_type": "markdown",
      "source": [
        "№2. KNN"
      ],
      "metadata": {
        "id": "gTNXbAprRPbG"
      }
    },
    {
      "cell_type": "code",
      "source": [
        "from sklearn.neighbors import KNeighborsClassifier\n",
        "\n",
        "KNN_model = KNeighborsClassifier(n_neighbors=5)\n",
        "KNN_model.fit(X_train, y_train)\n",
        "KNN_prediction = KNN_model.predict(X_test)\n",
        "print(mean_absolute_error(y_test, KNN_prediction))"
      ],
      "metadata": {
        "colab": {
          "base_uri": "https://localhost:8080/"
        },
        "id": "_8rRpKhkR0Nd",
        "outputId": "14c3587f-d555-495b-f6dd-5b49a1a4855a"
      },
      "execution_count": null,
      "outputs": [
        {
          "output_type": "stream",
          "name": "stdout",
          "text": [
            "1.9555555555555555\n"
          ]
        }
      ]
    },
    {
      "cell_type": "markdown",
      "source": [
        "KNN показал себя не очень хорошо: отклонение чуть меньше 2 баллов, что заметно хуже."
      ],
      "metadata": {
        "id": "SMAMQjJgR-CW"
      }
    },
    {
      "cell_type": "markdown",
      "source": [
        "№3. Линейная регрессия"
      ],
      "metadata": {
        "id": "YUF7UM-NSD4m"
      }
    },
    {
      "cell_type": "code",
      "source": [
        "from sklearn.linear_model import LinearRegression\n",
        "\n",
        "LR_model = LinearRegression()\n",
        "LR_model.fit(X_train, y_train)\n",
        "LR_prediction = LR_model.predict(X_test)\n",
        "print(mean_absolute_error(y_test, LR_prediction))"
      ],
      "metadata": {
        "colab": {
          "base_uri": "https://localhost:8080/"
        },
        "id": "g38S5Lo2SSN0",
        "outputId": "7741044d-2fbf-441d-e750-c7b1e0d58d41"
      },
      "execution_count": null,
      "outputs": [
        {
          "output_type": "stream",
          "name": "stdout",
          "text": [
            "1.623966843457774\n"
          ]
        }
      ]
    },
    {
      "cell_type": "markdown",
      "source": [
        "Лучше, чем KNN, но хуже, чем SVM."
      ],
      "metadata": {
        "id": "Zw9o3kOmSy6p"
      }
    },
    {
      "cell_type": "markdown",
      "source": [
        "Сейчас мы попробуем три различных линейных регрессии с регуляризациями, а потом объясним, что всё это значит:"
      ],
      "metadata": {
        "id": "KUpn_osbTdgz"
      }
    },
    {
      "cell_type": "markdown",
      "source": [
        "№4. Lasso"
      ],
      "metadata": {
        "id": "YVZC8iKYTn6n"
      }
    },
    {
      "cell_type": "code",
      "source": [
        "from sklearn.linear_model import Lasso\n",
        "\n",
        "Lasso_model = Lasso(alpha=0.5)\n",
        "Lasso_model.fit(X_train, y_train)\n",
        "Lasso_prediction = Lasso_model.predict(X_test)\n",
        "print(mean_absolute_error(y_test, Lasso_prediction))"
      ],
      "metadata": {
        "colab": {
          "base_uri": "https://localhost:8080/"
        },
        "id": "9np6bTDqTwiF",
        "outputId": "19528465-c880-45e1-f277-fd22f7dfdaa3"
      },
      "execution_count": null,
      "outputs": [
        {
          "output_type": "stream",
          "name": "stdout",
          "text": [
            "1.6487063072471275\n"
          ]
        }
      ]
    },
    {
      "cell_type": "markdown",
      "source": [
        "Такое себе."
      ],
      "metadata": {
        "id": "YE_pc-sIUSTT"
      }
    },
    {
      "cell_type": "markdown",
      "source": [
        "№5. Ridge"
      ],
      "metadata": {
        "id": "QlZhi1SBUUUL"
      }
    },
    {
      "cell_type": "code",
      "source": [
        "from sklearn.linear_model import Ridge\n",
        "\n",
        "Ridge_model = Ridge(alpha=0.5)\n",
        "Ridge_model.fit(X_train, y_train)\n",
        "Ridge_prediction = Ridge_model.predict(X_test)\n",
        "print(mean_absolute_error(y_test, Ridge_prediction))"
      ],
      "metadata": {
        "colab": {
          "base_uri": "https://localhost:8080/"
        },
        "id": "LpTO_VQVUX2R",
        "outputId": "7cf1ac39-3f16-419a-c01b-a6df93cf13dd"
      },
      "execution_count": null,
      "outputs": [
        {
          "output_type": "stream",
          "name": "stdout",
          "text": [
            "1.6238806646816284\n"
          ]
        }
      ]
    },
    {
      "cell_type": "markdown",
      "source": [
        "Чуть-чуть лучше."
      ],
      "metadata": {
        "id": "GdygRlMWUq-9"
      }
    },
    {
      "cell_type": "markdown",
      "source": [
        "№6. ElasticNet"
      ],
      "metadata": {
        "id": "r9EGIpwbUxb9"
      }
    },
    {
      "cell_type": "code",
      "source": [
        "from sklearn.linear_model import ElasticNet\n",
        "\n",
        "ElasticNet_model = ElasticNet(alpha=0.2, l1_ratio=0.8)\n",
        "ElasticNet_model.fit(X_train, y_train)\n",
        "ElasticNet_prediction = ElasticNet_model.predict(X_test)\n",
        "print(mean_absolute_error(y_test, ElasticNet_prediction))"
      ],
      "metadata": {
        "colab": {
          "base_uri": "https://localhost:8080/"
        },
        "id": "00EYm9CFU23-",
        "outputId": "d2a105e8-167f-4a53-b55c-775602b7a6cb"
      },
      "execution_count": null,
      "outputs": [
        {
          "output_type": "stream",
          "name": "stdout",
          "text": [
            "1.6044080489056995\n"
          ]
        }
      ]
    },
    {
      "cell_type": "markdown",
      "source": [
        "Тут получилось 1.6, лучший результат, если не считать SVM. Lasso и Ridge - виды линейных регрессий с L-1 и L-2 регуляризациями, то есть, грубо говоря, со штрафами за неправильные ответы в процессе обучения, а ElasticNet - смесь Lasso и Ridge, коэффициент l1_ratio отвечает за соотношение L-1 и L-2 регуляризаций, и эта модель показала себя лучше других линейных регрессий."
      ],
      "metadata": {
        "id": "bMESrsgPVdnr"
      }
    },
    {
      "cell_type": "markdown",
      "source": [
        "№7. SVR"
      ],
      "metadata": {
        "id": "yM1CGTeAWeFy"
      }
    },
    {
      "cell_type": "code",
      "source": [
        "from sklearn.svm import SVR\n",
        "\n",
        "SVR_model = SVR(kernel='linear', C=2, gamma='auto', epsilon=1.0)\n",
        "SVR_model.fit(X_train, y_train)\n",
        "SVR_prediction = SVR_model.predict(X_test)\n",
        "print(mean_absolute_error(y_test, SVR_prediction))"
      ],
      "metadata": {
        "colab": {
          "base_uri": "https://localhost:8080/"
        },
        "id": "xRxhHM61WueL",
        "outputId": "3d751a41-455f-44da-9a2d-6dc0454662d2"
      },
      "execution_count": null,
      "outputs": [
        {
          "output_type": "stream",
          "name": "stdout",
          "text": [
            "1.5688177648406656\n"
          ]
        }
      ]
    },
    {
      "cell_type": "markdown",
      "source": [
        "Неплохо, кстати, работает метод SVR - регрессия, основанная на методе опорных векторов."
      ],
      "metadata": {
        "id": "XWOAGqFqX3fn"
      }
    },
    {
      "cell_type": "markdown",
      "source": [
        "№8. Градиентный бустинг"
      ],
      "metadata": {
        "id": "9RRufCKeZWtG"
      }
    },
    {
      "cell_type": "code",
      "source": [
        "from sklearn.ensemble import GradientBoostingRegressor\n",
        "\n",
        "GBR = GradientBoostingRegressor(n_estimators=150, learning_rate=0.47, max_depth=7, random_state=150)\n",
        "GBR.fit(X_train, y_train)\n",
        "GBR_prediction = GBR.predict(X_test)\n",
        "print(mean_absolute_error(y_test, GBR_prediction))"
      ],
      "metadata": {
        "colab": {
          "base_uri": "https://localhost:8080/"
        },
        "id": "_vmlVEVHYbMs",
        "outputId": "8653cad9-1c5c-4d63-9b67-b84c1dd6b7a9"
      },
      "execution_count": null,
      "outputs": [
        {
          "output_type": "stream",
          "name": "stdout",
          "text": [
            "1.6743322664798153\n"
          ]
        }
      ]
    },
    {
      "cell_type": "markdown",
      "source": [
        "Очень скромно."
      ],
      "metadata": {
        "id": "fZ_Vm8GFHSy_"
      }
    },
    {
      "cell_type": "markdown",
      "source": [
        "В общем, лучший результат у метода опорных векторов, MAE = 1.29, это самая небольшая из всех ошибок."
      ],
      "metadata": {
        "id": "03WVCNwyvfQk"
      }
    },
    {
      "cell_type": "markdown",
      "source": [
        "По опыту знаем, что задача бинарной классификации решается лучше, чем задача многоклассовой классификации или просто регрессии, поэтому, давайте проведём ещё один эксперимент, и будем предсказывать не оценку, а то, получил ли студент зачёт или словил незач."
      ],
      "metadata": {
        "id": "S9HHesXDvoYs"
      }
    },
    {
      "cell_type": "code",
      "source": [
        "X_binary = np.where(X >= 4, 1, 0)\n",
        "y_binary = np.where(y >= 4, 1, 0)"
      ],
      "metadata": {
        "id": "XscDF5lNwwc3"
      },
      "execution_count": null,
      "outputs": []
    },
    {
      "cell_type": "code",
      "source": [
        "X_2_train, X_2_test, y_2_train, y_2_test = train_test_split(X_binary, y_binary, test_size=0.20, random_state=20)"
      ],
      "metadata": {
        "id": "twj5r01nxbYR"
      },
      "execution_count": null,
      "outputs": []
    },
    {
      "cell_type": "code",
      "source": [
        "from sklearn.metrics import accuracy_score\n",
        "\n",
        "SVM_2_model = svm.SVC()\n",
        "SVM_2_model.fit(X_2_train, y_2_train)\n",
        "SVM_2_prediction = SVM_2_model.predict(X_2_test)\n",
        "\n",
        "print(accuracy_score(y_2_test, SVM_2_prediction))"
      ],
      "metadata": {
        "colab": {
          "base_uri": "https://localhost:8080/"
        },
        "id": "tochcKbqyhYp",
        "outputId": "22198091-eaba-471e-cd64-f926a3d04ca4"
      },
      "execution_count": null,
      "outputs": [
        {
          "output_type": "stream",
          "name": "stdout",
          "text": [
            "0.9777777777777777\n"
          ]
        }
      ]
    },
    {
      "cell_type": "markdown",
      "source": [
        "Accuracy 0.98, но мы и по прошлому опыту знаем, что в задачах бинарной классификации качество очень сильно лучше, определять, получит студент зачёт или отправится на пересдачу, можно с достаточно высокой точностью :)"
      ],
      "metadata": {
        "id": "imxVE4Q6Hh7L"
      }
    },
    {
      "cell_type": "markdown",
      "source": [
        "**Выводы.**"
      ],
      "metadata": {
        "id": "IHX8n9jWH0H4"
      }
    },
    {
      "cell_type": "markdown",
      "source": [
        "Какие выводы можно сделать?\n",
        "\n",
        "Ну, во-первых, что быть настоящим дата-саентистом очень тяжело, потому что когда нет готового датасета, становится сильно сложнее, приходится много возиться, чтобы самим его себе смастерить. А ведь есть ещё разные секретные данные, на которых можно что-то обучить, тогда же приходится подписывать кучу соглашений и следить за тем, чтобы ничего никуда не утекло, в общем, тяжело.\n",
        "\n",
        "Во-вторых, что бинарная классификация работает лучше всего, это понятно, accuracy 98% сам за себя всё говорит.\n",
        "\n",
        "В-третьих, что метод опорных векторов работает лучше всего в задаче регрессии (предсказание оценок от 0 до 10), со средней ошибкой 1.28, что является очень неплохим результатом, поскольку предсказание оценки по оценкам за другие курсы не очень простая задача, потому что формирование оценки за курс зависит от многих факторов. Иногда и от везения, а бывают ситуации, когда студент плохо ботал 1 курс, но начал хорошо ботать на 2, а бывает так, что вообще только с 3 курса начал закрываться на отлы, также нельзя забывать о вопросах мотивации и прочем. Но даже несмотря на все эти факторы, модель построить удалось, и MAE 1.28 говорит об этом. Всё-таки, для прогнозирования оценки, которая может быть одним из 11 чисел, средняя ошибка 1.28 является довольно хорошим результатом, поэтому можно говорить о том, что оценка за курс студента по его предыдущим заслугам прикидывается с неплохой точностью.\n",
        "\n",
        "#*блин, надеюсь это хоть кто-то прочитает...*"
      ],
      "metadata": {
        "id": "9saBQfy9H2Js"
      }
    }
  ]
}